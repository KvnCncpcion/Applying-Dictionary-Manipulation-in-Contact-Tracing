{
  "nbformat": 4,
  "nbformat_minor": 0,
  "metadata": {
    "colab": {
      "provenance": [],
      "collapsed_sections": [
        "rHkLU0m_2nl5",
        "OHXuRrYB2vUE",
        "vayV8Qb8AiX-",
        "cQHPy3VmuQn7",
        "PToaaoSAxU54",
        "lEQ8MHEKyIx8",
        "U56iVh4e13EJ",
        "Cq7b86md2clA",
        "EJJepCrR55nd",
        "mY_6J_2b6Nxs",
        "W6esa4eEBQSU",
        "ttiwFIweFnL5",
        "Umfky0r16FmC",
        "TIUXHfmBGyzj",
        "Q5f6prWtG3Dh",
        "G5ChQ1vSQCSs",
        "c1WbGqa-Qhc8",
        "egiovRUrQr-k",
        "F7ntiqNDQJVL",
        "uyPjUqS7Q0zf",
        "G3kmD7nLSp6x",
        "GnSb_2FxS_b7",
        "ZXIDdaYiTAOt",
        "ICEYRlLOTX_Z",
        "TvGCfU4pTYg-",
        "3EtY5A3uQLPc",
        "lr4Dz8XcSsNl",
        "evljgiq-QLmC",
        "s64NO6JLUQdX",
        "rXNVAKBLUZ2i",
        "uHbFWdfSUHvZ",
        "xaRR0ItIUPUk",
        "jzDYsD4IUdSU",
        "CUSjnDBUtV6v",
        "hnUpwKwx4LHJ",
        "PsOaA4Rw6ODD",
        "ZQsJaSny6nvM",
        "S9cwSKIs6pxk",
        "eFH3ItJL6rWT",
        "Hr0PwBEr6s9f",
        "ef7mWqkg-5ls",
        "Vl-ueLWY-6jl",
        "KtIefQ93_Q-2",
        "_JYfhO4D_Wbn",
        "iSq52chr_Xhv",
        "RsTvy2QM_YmU",
        "O9qGg2Yx_qfY",
        "jhpzlZQS_rsk",
        "MqS4lCR7_szY",
        "UxZzPBM7_ua9",
        "netlSSAm_wRP",
        "x4MuIo26_xMp",
        "bUv7Gr8eAQHJ",
        "zfC31D7DARBI",
        "Dkr1U6KoAR9x",
        "aBhUkxasAnei",
        "xHFTRYq_AXu6",
        "HwpsESLAA1we",
        "cXGSmN9_B6iG",
        "svMP8SOiB60C",
        "gIzDBNeHB7Df",
        "Jt95jX3RB75T",
        "sxut2SAZA2pY",
        "VvBh9I45OPWW",
        "UJmR5JPXA24K",
        "VOuWqQdlCM7m",
        "RPcCgKXeCYy5",
        "YBHBXIMSVsIP",
        "zXxkjBMEuqXs",
        "xo5aswYFuu9H",
        "rGZpTR9Eu1qA",
        "ViSS5dYXw1To"
      ],
      "include_colab_link": true
    },
    "kernelspec": {
      "name": "python3",
      "display_name": "Python 3"
    },
    "language_info": {
      "name": "python"
    }
  },
  "cells": [
    {
      "cell_type": "markdown",
      "metadata": {
        "id": "view-in-github",
        "colab_type": "text"
      },
      "source": [
        "<a href=\"https://colab.research.google.com/github/KvnCncpcion/Applying-Dictionary-Manipulation-in-Contact-Tracing/blob/main/Copy_of_Solving_Differential_Equations_on_Computer_with_SymPy.ipynb\" target=\"_parent\"><img src=\"https://colab.research.google.com/assets/colab-badge.svg\" alt=\"Open In Colab\"/></a>"
      ]
    },
    {
      "cell_type": "markdown",
      "metadata": {
        "id": "ANCnCbvz0TdT"
      },
      "source": [
        "# Solving Differential Equations Symbolically on Python"
      ]
    },
    {
      "cell_type": "markdown",
      "metadata": {
        "id": "rHkLU0m_2nl5"
      },
      "source": [
        "## Introduction\n",
        "We use the \"SymPy\" library to solve these differential equations "
      ]
    },
    {
      "cell_type": "markdown",
      "metadata": {
        "id": "OHXuRrYB2vUE"
      },
      "source": [
        "### Setup\n",
        "We import all functions and classes within the SymPy library"
      ]
    },
    {
      "cell_type": "code",
      "metadata": {
        "id": "glaTLtKG0cN-"
      },
      "source": [
        "# Import all functions and classes within the SymPy library\n",
        "from sympy import *"
      ],
      "execution_count": null,
      "outputs": []
    },
    {
      "cell_type": "markdown",
      "metadata": {
        "id": "vayV8Qb8AiX-"
      },
      "source": [
        "###### \\[Helper Function\\]: Increase font size of output equations"
      ]
    },
    {
      "cell_type": "markdown",
      "metadata": {
        "id": "XcrzGheQ24Fg"
      },
      "source": [
        "Later on when we display equations, the rendering might be done in a small font, so we will define a helper function `increase_font()` to increase the size whenever we display differential equations and their general solutions. "
      ]
    },
    {
      "cell_type": "code",
      "metadata": {
        "cellView": "code",
        "id": "Kokw4fskqmd7"
      },
      "source": [
        "# Kindly ignore as this is not important for the main topic\n",
        "def increase_font():\n",
        "  from IPython.display import Javascript\n",
        "  display(Javascript('''for (rule of document.styleSheets[0].cssRules){if (rule.selectorText=='body') {rule.style.fontSize = '20px';break}}'''))"
      ],
      "execution_count": null,
      "outputs": []
    },
    {
      "cell_type": "markdown",
      "metadata": {
        "id": "cQHPy3VmuQn7"
      },
      "source": [
        "## Variable Separable Differential Equations (VSDE)"
      ]
    },
    {
      "cell_type": "markdown",
      "metadata": {
        "id": "PToaaoSAxU54"
      },
      "source": [
        "### VSDE Example 1: \n",
        "<img src=\"data:image/jpeg;base64,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\" alt=\"vsde-1\" height=30 />\n"
      ]
    },
    {
      "cell_type": "markdown",
      "metadata": {
        "id": "gC4Bh6n_1Jhx"
      },
      "source": [
        "Let us define a differential equation where `y` is a function of `x`, shown below:"
      ]
    },
    {
      "cell_type": "code",
      "metadata": {
        "id": "Z9lX28RAuSzh"
      },
      "source": [
        "x = symbols('x')\n",
        "y = Function('y')"
      ],
      "execution_count": null,
      "outputs": []
    },
    {
      "cell_type": "code",
      "metadata": {
        "colab": {
          "base_uri": "https://localhost:8080/"
        },
        "id": "9cKDwD5muWkE",
        "outputId": "5ad44262-b1c8-4f47-b39d-b429a51f8493"
      },
      "source": [
        "diffeq = Eq((1+x) * y(x).diff(x) - y(x), 0)\n",
        "increase_font()\n",
        "display(diffeq)"
      ],
      "execution_count": null,
      "outputs": [
        {
          "output_type": "display_data",
          "data": {
            "application/javascript": [
              "for (rule of document.styleSheets[0].cssRules){if (rule.selectorText=='body') {rule.style.fontSize = '20px';break}}"
            ],
            "text/plain": [
              "<IPython.core.display.Javascript object>"
            ]
          },
          "metadata": {}
        },
        {
          "output_type": "display_data",
          "data": {
            "text/latex": "$\\displaystyle \\left(x + 1\\right) \\frac{d}{d x} y{\\left(x \\right)} - y{\\left(x \\right)} = 0$",
            "text/plain": [
              "Eq((x + 1)*Derivative(y(x), x) - y(x), 0)"
            ]
          },
          "metadata": {}
        }
      ]
    },
    {
      "cell_type": "markdown",
      "metadata": {
        "id": "R9sjcegn04hz"
      },
      "source": [
        "We can let SymPy classify this equation based on what standard forms it conforms to: "
      ]
    },
    {
      "cell_type": "code",
      "metadata": {
        "colab": {
          "base_uri": "https://localhost:8080/"
        },
        "id": "k0dvSTAuwJjg",
        "outputId": "97c709b7-960d-4844-d672-44b13c3f61e2"
      },
      "source": [
        "classify_ode(diffeq, y(x))"
      ],
      "execution_count": null,
      "outputs": [
        {
          "output_type": "execute_result",
          "data": {
            "text/plain": [
              "('separable',\n",
              " '1st_exact',\n",
              " '1st_linear',\n",
              " 'Bernoulli',\n",
              " 'almost_linear',\n",
              " 'linear_coefficients',\n",
              " '1st_power_series',\n",
              " 'lie_group',\n",
              " 'separable_Integral',\n",
              " '1st_exact_Integral',\n",
              " '1st_linear_Integral',\n",
              " 'Bernoulli_Integral',\n",
              " 'almost_linear_Integral',\n",
              " 'linear_coefficients_Integral')"
            ]
          },
          "metadata": {},
          "execution_count": 5
        }
      ]
    },
    {
      "cell_type": "markdown",
      "metadata": {
        "id": "ac6IHbFb1HZH"
      },
      "source": [
        "Finally, we can solve for the general solution of this differential equation: "
      ]
    },
    {
      "cell_type": "code",
      "metadata": {
        "colab": {
          "base_uri": "https://localhost:8080/"
        },
        "id": "GvYi7rwPxEwC",
        "outputId": "8f6f4f51-0a4d-4aeb-c8c9-7aee3b7a2d96"
      },
      "source": [
        "gensol = dsolve(diffeq, y(x))\n",
        "increase_font()\n",
        "display(gensol)"
      ],
      "execution_count": null,
      "outputs": [
        {
          "output_type": "display_data",
          "data": {
            "application/javascript": [
              "for (rule of document.styleSheets[0].cssRules){if (rule.selectorText=='body') {rule.style.fontSize = '20px';break}}"
            ],
            "text/plain": [
              "<IPython.core.display.Javascript object>"
            ]
          },
          "metadata": {}
        },
        {
          "output_type": "display_data",
          "data": {
            "text/latex": "$\\displaystyle y{\\left(x \\right)} = C_{1} \\left(x + 1\\right)$",
            "text/plain": [
              "Eq(y(x), C1*(x + 1))"
            ]
          },
          "metadata": {}
        }
      ]
    },
    {
      "cell_type": "markdown",
      "metadata": {
        "id": "lEQ8MHEKyIx8"
      },
      "source": [
        "### VSDE Example 2: \n",
        "<img src=\"data:image/png;base64,iVBORw0KGgoAAAANSUhEUgAAAcIAAABTCAYAAAAMVQcXAAAUzUlEQVR4Ae2dO64kRRBFB1YAHiZ4mLADPhsAiQXADmAFg4OFBDsYPEww8WZ2MOwABA4GEiBhIvHQeaP7JibIyk/9ul7XTamU1VX5qxsZcSMyq7sf3DgZASNgBIyAETgxAg9O/Ox+dCNgBIyAETACNyZCTwIjYASMgBE4NQImwlOL3w9vBIyAETACJkLPASNgBIyAETg1AqsR4aeffnrz1ltv3R6vv/76DccHH3xw8++//54aYD+8ETACRsAIHBuB1YjwyZMnN59//vnNgwcP7g7I0UR47Ang0RkBI2AEzo7AakQoIIkKRYbfffedLjs3AkbACBgBI3BIBFYnQpZERYQ//fTTIR/agzICRsAIGAEjIARWJcKff/75jgSJDL0sKpidGwEjYASMwFERmEWEEN7XX399wx4g+4Kcc+3777+/I8La/iD7idSh7jfffDOJDW1SNh6ThX3DCBgBI2AEjMAMBIaI8M8//7wlv1deeeWO8LQMSh6XRaf2ByHIWIfzR48eFYceiVV1Hj58WCzri0bACBgBI2AE5iDQTYQ//vjjzRtvvHFLYhAhER3ESCJiy+RY2h+kDoT2zjvvvECa1P3jjz+K46cPkSD5FMEWK/uiETACRsAIGIEGAl1ECAm++uqrt4RE1MeSZU4x0qNM3h9UdMdyKCkT3FRUSFkRYandPA5/NgJGwAgYASMwgkCTCCEsIjiR0ePHj4vtK9qj3NQX6dkPVBRJIx9//PFdu1N7ipCw+haJFgfgi0bACBgBI2AEZiDQJMJIcBBXjvTUZ4wIewlLUSJEN/WWKW1xn2gwkqj6dW4EjIARMAJGYAkCTSKEgBSRPX36dLIvokCVg+B6UlweZZ+wRLLqv5dce/p1GSNgBIyAETACQqBKhD0RmxoSYUFoI5Gb6kGi+QUb9U+ZkTY1JudGwAgYASNgBFoIVIlQy5KQ1NQeHh3EfTyWOEdS3CfM+4/am6x913CkL5c1AkbACBgBI5ARqBJhXO6svdWZCTN3Uvsc63711Vd3RRUNQoZORsAIGAEjYAS2QqBKhD0/oM2SZVze7N0f1ANR/qWXXrrdXyQ6JNEmfbPMyncUnYyAETACRsAIbIVAlQgjweVlSw0oRnQsoZa+Y6iypRzSExESgZLUJsuxTkbACBgBI2AEtkSgSoQxIiwtjRLNQZZEbpAg5zH1kqK+rK8IkJy2/IJMRNPn14AA++nseePksezPgQPIaggOIPedjocAcsHeISPkJblxzjWvXB1LZnCH5IWsWu+ZVIkwvsjCefx6g35WjQ4UOUYi5PuHENpUJBlhe/fdd+++ekEbIsRYxudG4L4igEOIsYyOJY7j1EE5E+LlpT0qN2wXxtfpcgjAS9pWy/pVC8yqRIhQY2N4sRAcDMt1lJsUFZxrlOM+5Dn1G6IRqs8+++yFftRuLONzI3AfEUAXcOykR5yjP+gWSkuOTsmZVDlyRxmXk/gnn3zygtyQB3LDNrXk1oo+LvdU19uzCDDqj3QNHeSorTBWiRDYRHq5gyhsJke+3+o4igRDEPcJawOO9XxuBI6MAPM460UtYogrMNRDkWte7JGf/T6PDbnJHkl+2KipFFe0VP5a5cb8xd5zHGHVAlllZxPOQl4jPNIkQoRPoyip1sNLQqYM9xnUKEDUZeLhFY8Mfmpi+roROAICzGUZRnLmeS1RPkeGrTq19nxvHgLIIRIhNq2WKK9/5pG8sZfXmKKzFoOhSzwruMM5whzHEX3h+mjqIsLRRkfKM3AegKP2E24jbbqsETgCAiiklLTXycPoqg45iu60LwLITUSIXeoxrHl7B3lfYzoKESKTTIK11ZaWLHYjQqLIPKEiCfp/Blui8v37hoCUFYXtjezwsiMRsv/utC8CyO3DDz+8NbQsAfYkjLDIE/lBoNeYjkKE0WEE6yUkiJx2I0I8JE0Olk71IFwzCV6jyviZ5iCQiZD9DqfjI2Ai3E9GWUd6nZXaCHchQjys6OXqfA0mrz2c7xmB+4YAkaP0g7y1P3Xfnu9ax4txjhHhtUbyl44I4RJ97xz9wFHk2tK0CxHiLUXl1gOUXrpZ+kDXXh+hYxwVYaNwrWUBvVqM48FRWqbLZVjOy/8GkrGlDoqRj9Z4cjv+/ByB/JY2GPekKD/0C/nVvrrEPMKTZv4wJ5hP3qPvQbpcBp2KRAj+tVTCvyeyoZ+sb3yO3/Gu9bv0Hn3JlkP+eycwUv/ka9maXYgQwuMBMOAIcvSt0r3BPmp/4IbBihNB51NGDLwxdCpH/vDhwxceMU8ulaVeTcEYT1QM1btWb/gF0Db4kJd8eqNBZCzsY44cSvLDCGOoY1nOW47PBo98NU3mr1DUDDT45/KSBbKsJe6XbEDpl79q7cy9F/V9byIEtxgNrmlndiHCuaBvVY9JipHZ41jrGZgEigIZd5yQKBGfc8qGVcoW92RlRJlUtJtJs0fB3n777ReMao9nm8d69s84FRH73iWfLL9sJDO5TZHgFGmeXS49z080HqPB2r4u+EtfKJf1mDnQSrQhXVae5dxqY+79ON69iRC7HXFe086ckghlPDSJtsznTrhcTx58nHy6xvizAkXDisIxifRdJy2ZocDUwwiiXCTqRTxaSzzU4Vc4Yh0veWfpTX8G9+iAIA/mp+QxXfOZrCgP+ak8eZRFjv7pS/NFqzR85nopeqz173vPEIjRHfJAh6aSvmYR/3Iu6jGyiDpeaifLmPp7ye6SRMibvHFuR5yxZcxnbB32jANcmNc99shEWPnNxwj63PPSRJ5zDeOIUGPKHpImBorCRGDMTNxoJFWGdjhn4sRrXI9RBYrdSnGC9hBnq71rv49ialUCfDW3SrKoYYHcwBsjEBPtqE3mgYykVgjoMxpb2ukxFrEPnz9DAL2MUQqfa4n7mbiYC5IXeSvSQV6xPPX3SpckwrgsKrvE3Jeti5jkc8ZdS6ckQhkiJtDWRw38pfcguJISyutngogER/pSfU2mlpFUpEn5bJRH+r32shiwSHzClxznAyPZwroHIwyp2qY/iJB21XfLWPf04TLPI3JhnR3VXozQUbVB3nIm5dBQFh3fM12KCNGdaOvQF3ACA+Y1zh/4M7cVGUZMW1idkgj3nDhb9xVJiAnAREDocblsdAw4B3HS1QxnnKBMxj3SX3/9dfPLL79sfvz666+rPo7ISISUFVWfUeg5DowGi/zUFjkvUilKnGus1faS/L7KrfTMyCeunEAQ2nIolW9di1EN86OWRADINkb2tTpT9/7+++9bJ4m52XN89NFHd3Pryy+/7Kqjdv/555+pYTSv85zRJml+gzvtlxJOea4zFRkWiVCdHDnXck8JgDNd054DskKZUCKOJZEZSh4nUG2pJkYf8SWcLWXwxRdf3CnjlnP05Zdf3vIxbtuGtCKGeh5kiJMxJ+UIQyRIvoRg54wl1rkWuYFhJCP0bgkJghEOimRPPmXc6VsEvMTZlVxidBn73+J86pk0llqOMx5tEvqB7rRSdgqnsDURtpA8+H0EHScIgl7qJfLIcT2+tlQjpcTI7uWcXItBjVMLAyfCkhFC2ecajxhh0N4aRjOOd875NchtCxIEy2ywpxzZWK62UtMrn/tChNlRqNmk/OyyUdKrEm4mwozaPfuMYkYinAr9Rx8rvwlXqh+Vcq9okHF8++23N++9997mx/vvv1967M2uRW9fSjtXntlwTBnWzR6m0PA1yC3iirOBzNZItCOZk5eMNf3IWVrLsfnhhx9u26TdnuO11167G+ebb77ZVUft/vbbb7OhQg8iPsihN0WZ0UaJRItE2NuByx0DgRi91ZYxR0Ybl1yZPCWFl1KS7xUNjjzDfSxb8tBL2LeeLa8UzI0sW/2c6T7kJGMMEa2NKSsAah9jnXUKZ0b311j1mSO7SEh7jiGT2Yidiw47+GGvcjolEQIMAt3jyICv/RlljERY8nbm9JkNad6vipPr8ePHc7pwnQICOTJAcedEcxjtuFKwp9EqPNa9vxQdlCX7tzUg5Fgic6LNTIQioZIhr7W75j2NgTHuOaeWEGF0IIRtxuSURBg9O4DZ8siAr/kZoxmXMHkOlHSNRNvRkOalGiltyXNdo/8zt5H390YNDk5KjC6YFyMe9JmxLz07TqDwJAffLVI09vQTiTAa8zmO0VrjvRQR5hfKwKo3Ib9o49GvnEyE95gINSmVS9hrLdnESDMaUkWDKOtafeWJeebPmQhHDC/yQC4cclaYF2utFJxNLjiEUR6jTskIXtIr6XH82TQ5vJeWY7Q1W2KRcQOb6JiP4BCdCLAtRdSnJEImN+DscWSBrvVZUS1KyqvbcZLk6G1un1K+aEijYYjkOLcP1/s/Avktt7ws/f8az65E2TAHovGAGJ3GEYi/mtQbhSAvSGLUSUR+IkFybTlIjkdwPC9FhGATbdzIfJatFLYlOZ6SCMfV4Vg1UDImAof+dUI/5BtJa+mo4wszGGeSliggYCan0zQCyAmcODBmPSkbQ2TcgzNl8JKj/DHI0Xhcckmt59mPVgYDKvxG5rsi8V6Zx+dG3jLY/B4pcpVur+Xgxv5Gzy9FhIwz/ngIGPU6GtIL4VrSAxPh6Ey4cHmMm5QlKkYkLe7nBIH1GNRYT54oE4g2Y9+lyRTr+vzmNiqQ8mFIexKYqw55b9QtAxVfq0feMuSlthS59IzrbGXATlsDmvs9GOD8SH5zdEQkShv8YLr2Dbk+qr894x0to3nG+HjWPRP9xfkc7d/UOMBM9pIxT+mhiXAKwYNcZ+LpVW0US0LN4X02oBg5JSYMk4A6cQNe96fybEiZRGpnqo6vP0cgGkVwa0UI4C2MKY+sS8aPa3jHzA3OZZwon42vogm1p9Gpr1IdlTlzrpUPcEMmfK4d6BZkJf2kXtTBXixFfNTXEjltauWnt52tymmuMb69iZBnyvO5FRXGAIExZ/0QTiZCIXHQXMqAEHWgmNlA8ln3yamH0FEsFIk6c34GKnpgajf3fVDoLj6sTITgN2U8kFWMBpDZFHFyPcuFtksecjYEzAfqa7moVOfiwF14ABhXRYPgOvdoGenSYyKb3F/+K61Svb2uXZoIs2ywayWcsVHRqQDT2uqKiXCvGTSjHwSclaJEgmo6TtJYTxGlyo3k2QOb8qhG2jxLWbCKctA5JIesUFQOZKp75HyuRROQVyZC2iklDEIuq76m6pTaOdO1GA0Kqzn5HIcxzxmcozkO7FbyijZmyqnbqm+1i25kncGxk07lyBx9a43VRCh0D5hn7xABl7wfDR3FyxOkVUd1p/IYUdQ8qqn6vv5sr7BEeNG4oqzICpJrGdD4JiP1WlFdnkc9dc4sN/5oGoyWHnMwRPaaF/R/lCVRPcsRiFBjYd6jM8Ir5mDXq0+0tyoRonAwLwPkwHDWPFs9kPNpBPAQOUZwVJ0aaU73+PwOSqmIkEnVMtDPa/qshgBykYwk2xFsKTun3pw6tefwvfURwG7KoMd/sV+/p3ktHokI4xNgH6VTnI/oE+2sRoQod4md9/wx5giMz5cjoMgD72opqS4fjVswAteNAAYcXYMIWUEYebFtL2R+//33W1uAPeC/DK8lrUaEAoSIUB4N+ZHWtzVG520E8Ey1t0Sk72QEjMB2CBDBaFuDfDSi2W5k52h5dSLEqxERItAjejXnEO38p4wkeKQ31uY/kWsageMiAOnpLV4iQmyo074IrE6EMSI8ani/L8TH7Q2Fy0ueyO/oyzPHRdQjMwLTCKBrmeQyCXr1ZRq/Le8sIkKEmA1p3Ext7Q+W6pcetrdcqa6vlRFQ5M5XK0hgjOMiEmS/18vaZex81QjMQUBfy9BLMOigIkFW0XBCnS6DwDARYjBZOmPZU0YTIXKOoOMXwOOvp+fHo2ys/+jRo1zk9jN9xXI2zkWYhi/GyB18I8YmwWE4XcEINBGIpBftJ7pnEmzCt2mBISLEg9Hr9AgPgwlRZQKEGGv7g9TRPmLMM3HmcrU2N0XpChuPkXuUAVEhzo6TETAC6yIQnU3pHNe8HLouznNa6yZCSFC//o3w+M5GTBhPCZccQ1t6UQahc18GN3pJWjKgXZEgfVFWdUptxnH4vA8BnIooL5waK2Qfdi5lBEYR0FaEdA67hu3LW0uj7br8Ogh0ESEkFyPBTIIaSjSuU0udGFuMrhJt6zV9JgaJScNEiT8NRp+eNEJteQ7uyAJcwdvJCBiBbRFA16Rv6J/TcRDoIkJt8uLN1F6nj/uDIz8NFCNNJgiEChGa+I4zUTwSI2AEjMC1ItAkQsgIUoIEyWsvq8Swf2QJM/6eJVEh/eA5ORkBI2AEjIAR2BqBJhHGaJC9uimCi2vgLH1OlSs9EEt0Wh6FTNkfdDICRsAIGAEjsAcCTSKE1BTp1b4XqJdbKFsjzNJDxX3CuH9YKutrRsAIGAEjYATWRKBJhCJB8vz1hjiQ+Pbn6NuHRJOKCFkWdTICRsAIGAEjsBcCVSKMy50Q4dRyZ9xHpNzISy5Eg3pZRqTrN6r2Er/7MQJGwAgYgW4i5I3QKSLU9/wgMt747E0Qnl6OiW34RZleBF3OCBgBI2AEliLQTYQsWZaIkGVQRXLkfJG+J4kEqcMX6ePyKC/oOBkBI2AEjIAR2AOBKhFCVpHk8h4h5AVB5jdLNXB+Py+SGpEebXLoJ770Yg3XSvuEXCfKdJQoVJ0bASNgBIzAmghUiZCO4pfk9bNpkBMEBgmSQ1IiTJY6uc9bpNznLVA+a78RUuOgPDn3lPSP6Nwj0uSelk5jOZV3bgSMgBEwAkZgKQJNIsxLn5AUBEeuaA+S4nM+IDF9AT9+vYJykGB+qSb+I4Laoq/Rt1CXguL6RsAIGAEjcB4EmkQIFJBYXLYkysvkFImOKJLPMWkpFIKjfiZBlY3laCf3o3LOjYARMAJGwAisgUAXEaojyKu1RFm731NffdXaURnnRsAIGAEjYASWIjBEhEs7c30jYASMgBEwAkdDwER4NIl4PEbACBgBI7ArAibCXeF2Z0bACBgBI3A0BEyER5OIx2MEjIARMAK7ImAi3BVud2YEjIARMAJHQ8BEeDSJeDxGwAgYASOwKwImwl3hdmdGwAgYASNwNARMhEeTiMdjBIyAETACuyLwH3FgCo4XLDCGAAAAAElFTkSuQmCC\" alt=\"vsde-2\" height=50 />"
      ]
    },
    {
      "cell_type": "code",
      "metadata": {
        "id": "NsQpdZNWyH5c"
      },
      "source": [
        "x = symbols('x')\n",
        "y = Function('y')"
      ],
      "execution_count": null,
      "outputs": []
    },
    {
      "cell_type": "code",
      "metadata": {
        "colab": {
          "base_uri": "https://localhost:8080/"
        },
        "id": "L6ilVJi9ynO6",
        "outputId": "636051b6-2916-4f97-9ef7-3031a5010978"
      },
      "source": [
        "diffeq = Eq(y(x).diff(x), x*y(x) - 3*x - 2*y(x) + 6)\n",
        "increase_font()\n",
        "display(diffeq)"
      ],
      "execution_count": null,
      "outputs": [
        {
          "output_type": "display_data",
          "data": {
            "application/javascript": [
              "for (rule of document.styleSheets[0].cssRules){if (rule.selectorText=='body') {rule.style.fontSize = '20px';break}}"
            ],
            "text/plain": [
              "<IPython.core.display.Javascript object>"
            ]
          },
          "metadata": {}
        },
        {
          "output_type": "display_data",
          "data": {
            "text/latex": "$\\displaystyle \\frac{d}{d x} y{\\left(x \\right)} = x y{\\left(x \\right)} - 3 x - 2 y{\\left(x \\right)} + 6$",
            "text/plain": [
              "Eq(Derivative(y(x), x), x*y(x) - 3*x - 2*y(x) + 6)"
            ]
          },
          "metadata": {}
        }
      ]
    },
    {
      "cell_type": "code",
      "metadata": {
        "colab": {
          "base_uri": "https://localhost:8080/"
        },
        "id": "Bh9nEUsbyw_u",
        "outputId": "2d8ec873-76d3-4b3d-9760-43e25c2f7423"
      },
      "source": [
        "gensol = dsolve(diffeq, y(x))\n",
        "increase_font()\n",
        "display(gensol)"
      ],
      "execution_count": null,
      "outputs": [
        {
          "output_type": "display_data",
          "data": {
            "application/javascript": [
              "for (rule of document.styleSheets[0].cssRules){if (rule.selectorText=='body') {rule.style.fontSize = '20px';break}}"
            ],
            "text/plain": [
              "<IPython.core.display.Javascript object>"
            ]
          },
          "metadata": {}
        },
        {
          "output_type": "display_data",
          "data": {
            "text/latex": "$\\displaystyle y{\\left(x \\right)} = C_{1} e^{x \\left(\\frac{x}{2} - 2\\right)} + 3$",
            "text/plain": [
              "Eq(y(x), C1*exp(x*(x/2 - 2)) + 3)"
            ]
          },
          "metadata": {}
        }
      ]
    },
    {
      "cell_type": "markdown",
      "metadata": {
        "id": "U56iVh4e13EJ"
      },
      "source": [
        "### VSDE Example 3:\n",
        "<img src=\"data:image/png;base64,iVBORw0KGgoAAAANSUhEUgAAAXUAAABZCAYAAADB5LQxAAAUbklEQVR4Ae2dXQhm0/fHKckF8laGkNFcyA3KBcYFRbkgL0kIoZlCCLkgRE15j0QuEIVQMooyRY0yomgGuRhJ3uNCuFAmifPv8/z+32M923l9zvs+a9dpP89z9tl77e/a67vXXmef8+yWeHIEHAFHwBGIBoHdoumJd8QRcAQcAUcgcVL3QeAIOAKOQEQIOKlHpEzviiPgCDgCTuo+BhwBR8ARiAgBJ/WIlOldcQQcAUfASd3HgCPgCDgCESHgpB6RMmPtym+//ZZ8/fXXyccff5y88847yWuvvbY4Yu2v98sRaIKAk3oT9PzaXhCA1Hfbbbf/HBC9J0fAEVhGwEl9GQ//NmIEbrzxxiVid1IfsbJctMEQcFIfDHpvuC4CocfupF4XQS8/BwSc1Oeg5Yj6aMMwTuoRKda70hoCTuqtQekV9YHAfvvtl4ZgnNT7QNzbmBoCTupT09jM5XVSn/kA8O6XIuCkXgqRF+gbAWLnbFt85JFHEm6O3n333ekWxiJSZ8tj3kGdNuWVc+/fouSfp4iAk/oUtRapzBAvJG6J28bQw88hAV955ZVpaMaWpb5nn312CbW8sldcccVSOf/iCEwNASf1qWksUnnxnI888sgFKUPCeOnyriFvvlui5nNI6kCDh2/LUafqCaGjTVuWaz05AlNHwEl96hqMQH5I97jjjksJNo9cCcNYEs4ideDA21a5c889txAhTSTuoRfC5CcnhICT+oSUFauolqyLSBjyF1mT55G69cDx+vOSLcdnT45ADAg4qcegxYn3Qd4yRJ3npauLVUidsrbOMJ6uujSZFE0kKut5OwgwMTOB8g4fjrzQWDutzbMWJ/V56n00vcbbrkrUCG1vouZ56pSzMfgs0oZMVBfk4qkbBMAZfLkBbkNsVuf8njfxdiNV3LU6qcet39H3DoO3Bl7muYmIuaaI1KnH1huWdS+9n6Gxdu3aVA/oDtxZjXHYex/oisn3n3/+6UewiFtxUo9YuVPoGsZtybdM5qqkTj2WNPDcbRLZuJduUWn3MxPr7rvvvtAvegsnVlpD/yrDOPjqq6/aFWKGtU2S1LWkw1BZ1mG8eAC+hJveCA5JvS1PXYShCYMlvpKI5NRTT9VPnneAgCX1ItvUBIuu7rrrrg4kmVeVrZH6rl27OkeOmd4+nMLNMJZsGKeMl3zr1q2dyxJ7A3/99VcvXbQ7UNBd2S6UOp46HbA3TOUpnnbaaYvxUkQ0vXQ+8kYgdTDmKJqs7YNgvrW0+aBoTOrbtm1LNmzYsLjp9MUXXzSXqKCGm266KSVvvHQ7UEJy8GVcAZAVTm3atClZt25dQi4yrHBZ7SLo0E7IRUQblq0iF06A6mfMEG5huQ/Z2/FTW3C/oDUEzjvvvFRH6MtTMwRWJvXPPvssOeWUU1Jl4EG9/vrrzaQpuVqknrWbgUsxWhnwww8/XFLbfE5DXpAlK5oyT1iogPUee+yxwJP86quv7owErTddFBLRzU3puAqp24mAMao4uy/zpenhcxt+2bx58/ACjVACnBFso8o9oNqkzrKc2VQGj6E89thjye+//945FBATRpnXMeut+530/6kDrI4//vh0sqtK6lwNaV533XWprg866KDSfeSrDAL0KqImz/LW+c2GXihXhdSRx04a1MHx66+/riKqX9MyArq/gT4hLd/9sgww9gqXyT7AqyzVIvUffvghueaaa9IGLr300uS9994ra6O38xi5Og/5z3mA4KHa+w/CpQ6pS3EvvfRSuirbf//9kwcffFCnWsvDPcwMZDxzVl+cg4ghdlsui/yzBKKc+k/uXnoWSv3/hr1qoibfsWNH/0KMtMU8+22V1PHQ7YxxwQUXJH3dTKuKOx2W8fZpuCgAAtJRVd4uyiFLllcrXKp6t6FsP/300yLGrnog2zYTclvCVjvkGLwGs/W6Ocf3MjKgbtVHXe6lt6m51epCJ+ITdDJ02EW2S45sQyZW1zYkpbFLLjsokq+yp37bbbelhoEyxkbodFLxUgZJnzdKLWkA/FCJwZBHjBoYq5I6fdq5c2eyZs2axTgg/NbFLiMGLSsMxhj6ZIKyRobRcZ6Dz0wuVfrE0h4M+pzshxoHY293bIQOXnCGbKRP7rC6CkMtksfmeaFnW08lBnruuecSlt1UTnx2+/btto5RfAYQKabvm6RDkzrtQ3JSPgQGGYZhB85XIcAihT799NNpOyeffPIox0IoP4bA2Oh7sg/l8O/JYoK2zlcVz7MP3MQd2EjfpC77lQzYL84K2MimlbdC6t9++22yfv36tHJuio4tAYo8Mcit71j60KQu75w8NBLhokHRlNTB9qqrrkrHww033NA73nXHnzAYYmzUlTXm8tjJGAkdzEWoQ5C6HDJkgMzBSUl4yX5bIfUHHnggNeATTjihl10u6lDVXB2H1CwgVa9vWm5oUkfRDIysvovQNCiakjpYbdmyJR0TBx98cCdhmFV0Ag6hUfCdvmMwbfR9Fbn8mv8hIDtFF6HzMTRGQ5I64xJssuxXmMl+G5M62xQPOeSQ1IAhjrElGe1QhA4eQ5N6kU66IHXaO+yww9JxwcAbQ7LPMRCOI+YuY2WceBoOAdkp+iAsOLakcQJ59h1+KcKidVJ/8sknl16288YbbxS1n57jsV+EyTvCWZrvVcumjZiHjYYkdOSZI6nfeuutKamzf52H0YZOInV5NcrH6IwMjRWY5NkcvzMhhkkeZd51eTjbeztFhA4PZLUbytHF99mQ+mWXXZYabp3Qi32XgwxLOZ5juITAqwq3qlG+aFanDs5z3dDL6jmSOiEY+3a9xx9/vAtbq1VnSOqMD/fQsyGEgGWTYY5NZeHGOM+z7TyssU1tssgjfSSkbrbx0fYQCfmFQ7Se+nfffbdEtLfcckstrCFdgaQcj7ooWWAhfxSdlRgolOVgQhg6zZHUeYHbSSedlOqY5xbGkBgPjD3yvPHTpZx4onibXR9FHm/V/oGRnZix0yqrXq6TTZMX2aHe60IZPHyIPeugXbVfVf42yyGf+hQtqb/99ttpJ+nsm2++WRtDllMCihzg8pIlxqKBRTnFicMwjuqmDAOvr2Rlp59jSsJKemhzVXP99den+mXf+hifXehbF3oDpPDuKmcffxsp9Lwh3irJkmBeyAT7DCeNMjwYr0Mk259oSf2+++5LDRZFfPLJJythrafGpMw8ItZysIjQEYABRF1FSznKsIzra2vjXEk9HCO8sXPuaWqkHnrrVSYLO96xM75npTAcJg4oyqu0n9VW099mQeo2no4Sfvzxx5VwQ+FaWlEP4IXeor0zXuRh2/gcy08miPCA7GmDNp3Uk3RVI0MKsV9Jqf9/0TPPPLPkifFg0twToZ9wTHbxvchO6urAPpKO7ZQl+qPxlOell9UxtvOzIPWjjz46Vdxee+3ViCAhEg0CcghXicGpGykMlqIULhVtneFnlnFNSJ13nSB3lQMP1bZf5RqV+fnnn4u63Phcl+EXQnR2eV33vkvjznkFrSCAU2X1WBavt3HyPC+9FcEaVIJdycaq5NZ+33333crXwhNdJsJhVjachrKUGwC2+9OPOeaYRgSJEAwUKxweNQNCr4WtMuPjUTCjVjlYxjUh9ZAMrextfu56uRn2gwHeVvrwww+XyGDjxo21qm4TxzbrqtWJCApjh5bUi8Yk40dlq9jsUPCEZNjm+LB1dR0RCPvRiNT32WeflISber1SLIPFAiLCKYqP69q+c8lm5e3ic5EBtdHnsB9tkvo333yTGjjYXHTRRbVE7gLPNuqs1YlICsv7Fn55HjhErjJthoDahjEkQ8ncdj4ZUudJUtv5Cy+8sJHXK4UxULixYusGlDG+CpWJBkKscpx44olLfapyjcrce++9gqeTnHYs3m2S+h9//JHsu+++af1nnXVWrT5Yucb0uVYnIikcrqTz9qkr/t61M9IUVuxKNlYlt+MPe65yDWXgiSYRgbJ+hpNTI0/ddhIPrC3BEcrWDTBt1V0GUFfnmaxsn7pqZ5V6wdfK1iapI4+W4rRBW56miQBj2N4szNIl97yk7yrkMiUkbN+j3NL4559/JnvuuWdKBqeffnprxKudLpZo+n5VbtuDba6kzj9hycjR5/nnn982tJOrj/GNd9X1keVJNwUr9ApDB0DbNbMIv2nbQ18fPakD8AEHHJCS+rHHHtsKqTO76yYnYRdL7FOe+edK6sRULalffvnlQ9vm4O2L+OzY7uJzF+EP9GlltROH1TVbWWNLsyD1I444IlXwoYce2pjUmfUFHPE7iFBbGRlInOO3Kaa5kvpbb721ROrXXnvtFNXXqsxTJnWAsPe8sEklefGcH+M9MMm5ai5ugouiDL8AzBlnnJGSOo+A//LLL6vitSBrxXbtThe8c+vpTXVZN1dSf+GFF5b0d88996w8RmK5EI+Wcd31QTtdJOzTeus4Y4xvkV6sfweo/kVN6qFyP//885XHkGZ5Qi6hNx4+UGSXfCs32POFcyV1dGUn5VdffbVn5L25thEIxzI8oG2MEF+MXjoYzoLUn3rqqaUZ+/33319p/GD4Cq+EN15UoR5AkofQlRei9trOQ0Nou/4m9YX3LtrE9s4771waI10/XdcEB7+2OgJaVctuNYZi9dJBZqykHj7bU/bUPX3JfaKUPz0QyZKvskOF2LnA4nNegmhsW1wTevR5147h97GSOnIJf+FbpIe6WNoQHf+E5CkOBBgjGi8237FjRxwdzOiFtZOxxNSxX3uPA11UiWTkkvrff/+99IfTZ599dgYU+T8RU7RA5XnpqsEOHj5nhWpUdmz5GEmdiTKc5cEVnVSZ7csw/vTTT5d2SNl7JWXX+vlxIxCOZ8YNY2nqz5MUoW65agykjg7C0LTst8wxyyV1ALB/WcaTg9u3by/CZXEOYTBwC5IGRRaxQz5h/J7yHMxSbRBQqdANC4RG0LC6lS5nBmfZzGQYzu7CM8wpj7Fy0Ic66dFHH12Kp2/evLnO5V525AjoPpjGDE5azMny1RCkDlHXtV9sXfZrw6qFpP7BBx8sGW4V1x/h2KoISOGB0GHinRNhOfsdghp7GgOpo1yLW93PWRNuEe48kCaDJ/TStRdnJy1NXGN+oVQRdlM4B4lLv1l2O4U+1JERe1F/hyB1OcJ17Vblt27dmna3kNQpdckll6SdPeecc9IL/cO/CIyB1P+VpvtP3G858MAD03Fx//33d94oJBN6j3z31A0CTPIiuSmslpuiMDSpN5XfXl9K6h999NGSt17Xo7ONxfqZv3EDFx2x9lP9wmuWwa9ZsybhxV59JUvsTurdoa5tjKyU64bmupOqu5plu+RT/1vGUlIHxosvvjg14jPPPLM7ZL3m0SPAtkXr1TzxxBO9yiyyYVJxUu8GeohNOvYQVzcYd1lrJVLnX0QOP/zwlNjnsBzrEvQp180bO+WlE8fvOpYeYmVXCU7qITrtfNdqCGKfg5feDmrjqaUSqSPuiy++mG5hW7duXfLyyy+PpxcuSS8I8PCJCJ2bZ6v+GXkTYZ3Um6D377XslrA7JnTG7lF3L12oTCuvTOp065VXXkl4DwyGvffeey/ebzGt7rq0qyKwadOmlNCZ1Hfu3LlqVZWvw0tUrFMXOakLiWY5O4iwY/vGRftsCefdS2+G8VBX1yJ1hNyyZcuC0BkQEPwdd9wx+RsLQ4E/hXa///77xG5f5A/Ju3wdAESChwipKK6r1YH25Op7VvhFe325Pjws3rxNMTyfVZ+9JqbP9F04giu4CW/y2Pelx6TLsC+1SZ0K+Bd53p2tlzmtX78+eeihh5Ivv/wyrN+/TxSBbdu2JTfffHNy1FFHLYyfVzHffvvtSZMXu5VBQThAD05BLBANnjkkrziviIg8i4QhI0tYlKPOkKT4bl/9zDVzulcUYiRcwX1OOJSNySmeX4nU1VG8duvF8X5tT3EgsHHjxgWZE2bbsGHDIgzSZc/sjguIJesJVYhY5JNH6siIt29Ji8khK+nPljk/t1CDxUeYgkNWnD0LO/9tvAg0InV1iyU6f/S6a9cu/eT5xBHAuJ9//vnedAqhiFzwzvOSJaMsT13XMUmoPvLQ+6QNVprUNzdCByP6DCYcTJZO5ho5089bIfXpw+A9GBIBCEUEjJdeRLL2PUFFpE5/ICxbL0RPoj1CL4Rl9NuQ/fe2HYE2EXBSbxNNr2slBOyOlrxQiSomvi6iLiN1rqGMylM37/VYu3bt4qagfV+G6vfcEZg6Ak7qU9dgBPKz+0LEiydelOwEUIXUqcuGbFgJ0JbdylfUnp9zBKaGgJP61DQWobw2nt4FqRPO0aRBzmTQ95OwEarNuzRSBJzUR6qYOYllPemuSN1OHHjrMf+Lz5zGjvf1vwg4qf8XE/+lZwQs4RKKKUqrhF8UV7eTBzdJ3VsvQtrPTRUBJ/Wpai4iue2OFgi+KNUldZXXCoAnSRWKKZtAiuTwc47AWBFwUh+rZmYkl32JVNmWRuvVl90oVb12LzrxdXa/iNgp48kRiAkBJ/WYtDnRvoQ3MvPeDiivW4RcROrsRWeC4Aj3ovOwjV5xQV3+4M1EB46LnYmAk3omLP5j3wgo7i3CJlwC2XNAunwnDm63P+aFT0To1MVEkJX0igDKQPxO7Fko+W9TRMBJfYpai1BmyNveyBS5K4d4eUJUIRX9DtmLkKkDL5+yOk+4RucFG/XYEAxlucZDMULI8ykj4KQ+Ze1FKDuetSVlPkPMCqEoBMPvHHjvePnsZKEME0N46Cap4Mp67a6uURnPHYGpIuCkPlXNRS43BI3n7ckRcATqIeCkXg8vL+0IOAKOwKgRcFIftXpcOEfAEXAE6iHgpF4PLy/tCDgCjsCoEXBSH7V6XDhHwBFwBOoh4KReDy8v7Qg4Ao7AqBFwUh+1elw4R8ARcATqIeCkXg8vL+0IOAKOwKgRcFIftXpcOEfAEXAE6iHgpF4PLy/tCDgCjsCoEXBSH7V6XDhHwBFwBOoh8H+kVfOftDxDFwAAAABJRU5ErkJggg==\" alt=\"vsde-3\" height=50 />"
      ]
    },
    {
      "cell_type": "code",
      "metadata": {
        "id": "tlzNqZs02Kxs"
      },
      "source": [
        "x = symbols('x')\n",
        "y = Function('y')"
      ],
      "execution_count": null,
      "outputs": []
    },
    {
      "cell_type": "code",
      "metadata": {
        "colab": {
          "base_uri": "https://localhost:8080/"
        },
        "id": "9QGE6KjY2Mn1",
        "outputId": "979eb756-2ea9-425e-b942-62d6593387d8"
      },
      "source": [
        "diffeq = Eq((x**2+1)*y(x).diff(x), y(x)**2+1)\n",
        "increase_font()\n",
        "display(diffeq)"
      ],
      "execution_count": null,
      "outputs": [
        {
          "output_type": "display_data",
          "data": {
            "application/javascript": [
              "for (rule of document.styleSheets[0].cssRules){if (rule.selectorText=='body') {rule.style.fontSize = '20px';break}}"
            ],
            "text/plain": [
              "<IPython.core.display.Javascript object>"
            ]
          },
          "metadata": {}
        },
        {
          "output_type": "display_data",
          "data": {
            "text/latex": "$\\displaystyle \\left(x^{2} + 1\\right) \\frac{d}{d x} y{\\left(x \\right)} = y^{2}{\\left(x \\right)} + 1$",
            "text/plain": [
              "Eq((x**2 + 1)*Derivative(y(x), x), y(x)**2 + 1)"
            ]
          },
          "metadata": {}
        }
      ]
    },
    {
      "cell_type": "code",
      "metadata": {
        "colab": {
          "base_uri": "https://localhost:8080/"
        },
        "id": "Ty_ZXioy2RVZ",
        "outputId": "7c2a17e8-2402-4175-e440-08f9273cf193"
      },
      "source": [
        "gensol = dsolve(diffeq, y(x))\n",
        "increase_font()\n",
        "display(gensol)"
      ],
      "execution_count": null,
      "outputs": [
        {
          "output_type": "display_data",
          "data": {
            "application/javascript": [
              "for (rule of document.styleSheets[0].cssRules){if (rule.selectorText=='body') {rule.style.fontSize = '20px';break}}"
            ],
            "text/plain": [
              "<IPython.core.display.Javascript object>"
            ]
          },
          "metadata": {}
        },
        {
          "output_type": "display_data",
          "data": {
            "text/latex": "$\\displaystyle y{\\left(x \\right)} = - \\tan{\\left(C_{1} - \\operatorname{atan}{\\left(x \\right)} \\right)}$",
            "text/plain": [
              "Eq(y(x), -tan(C1 - atan(x)))"
            ]
          },
          "metadata": {}
        }
      ]
    },
    {
      "cell_type": "markdown",
      "metadata": {
        "id": "Cq7b86md2clA"
      },
      "source": [
        "### VSDE Example 4:\n",
        "<img src=\"data:image/png;base64,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\" alt=\"vsde-4\" height=50 />"
      ]
    },
    {
      "cell_type": "code",
      "metadata": {
        "id": "VglFzJvm3_GY"
      },
      "source": [
        "x = symbols('x')\n",
        "y = Function('y')"
      ],
      "execution_count": null,
      "outputs": []
    },
    {
      "cell_type": "code",
      "metadata": {
        "colab": {
          "base_uri": "https://localhost:8080/"
        },
        "id": "dgExWg8h4A6y",
        "outputId": "9c397a22-035e-4b9c-8cad-8a44cbe0a039"
      },
      "source": [
        "diffeq = Eq(y(x).diff(x), 200*y(x) - 2*y(x)**2)\n",
        "increase_font()\n",
        "display(diffeq)"
      ],
      "execution_count": null,
      "outputs": [
        {
          "output_type": "display_data",
          "data": {
            "application/javascript": [
              "for (rule of document.styleSheets[0].cssRules){if (rule.selectorText=='body') {rule.style.fontSize = '20px';break}}"
            ],
            "text/plain": [
              "<IPython.core.display.Javascript object>"
            ]
          },
          "metadata": {}
        },
        {
          "output_type": "display_data",
          "data": {
            "text/latex": "$\\displaystyle \\frac{d}{d x} y{\\left(x \\right)} = - 2 y^{2}{\\left(x \\right)} + 200 y{\\left(x \\right)}$",
            "text/plain": [
              "Eq(Derivative(y(x), x), -2*y(x)**2 + 200*y(x))"
            ]
          },
          "metadata": {}
        }
      ]
    },
    {
      "cell_type": "code",
      "metadata": {
        "colab": {
          "base_uri": "https://localhost:8080/"
        },
        "id": "mEOQ3Oc14BeU",
        "outputId": "cde0f7e8-5878-4ee8-fccb-95d457f63426"
      },
      "source": [
        "gensol = dsolve(diffeq, y(x))\n",
        "increase_font()\n",
        "display(gensol)"
      ],
      "execution_count": null,
      "outputs": [
        {
          "output_type": "display_data",
          "data": {
            "application/javascript": [
              "for (rule of document.styleSheets[0].cssRules){if (rule.selectorText=='body') {rule.style.fontSize = '20px';break}}"
            ],
            "text/plain": [
              "<IPython.core.display.Javascript object>"
            ]
          },
          "metadata": {}
        },
        {
          "output_type": "display_data",
          "data": {
            "text/latex": "$\\displaystyle y{\\left(x \\right)} = \\frac{100}{C_{1} e^{- 200 x} + 1}$",
            "text/plain": [
              "Eq(y(x), 100/(C1*exp(-200*x) + 1))"
            ]
          },
          "metadata": {}
        }
      ]
    },
    {
      "cell_type": "markdown",
      "metadata": {
        "id": "-pD67Glz940h"
      },
      "source": [
        "### VSDE Example 5:\n",
        "<img src=\"data:image/png;base64,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\" alt=\"vsde-5\" height=50 />"
      ]
    },
    {
      "cell_type": "code",
      "metadata": {
        "id": "AnPM4IQg98zz"
      },
      "source": [
        "x = symbols('x')\n",
        "y = Function('y')"
      ],
      "execution_count": null,
      "outputs": []
    },
    {
      "cell_type": "code",
      "metadata": {
        "colab": {
          "base_uri": "https://localhost:8080/"
        },
        "id": "vgyMm5Rp997R",
        "outputId": "6fddb6b5-dc26-408d-ab24-44c8dc63eebd"
      },
      "source": [
        "diffeq = Eq((E**(2*y(x)) - y(x)) * cos(x) * y(x).diff(x), E**y(x) * sin(2*x))\n",
        "increase_font()\n",
        "display(diffeq)"
      ],
      "execution_count": null,
      "outputs": [
        {
          "output_type": "display_data",
          "data": {
            "application/javascript": [
              "for (rule of document.styleSheets[0].cssRules){if (rule.selectorText=='body') {rule.style.fontSize = '20px';break}}"
            ],
            "text/plain": [
              "<IPython.core.display.Javascript object>"
            ]
          },
          "metadata": {}
        },
        {
          "output_type": "display_data",
          "data": {
            "text/latex": "$\\displaystyle \\left(- y{\\left(x \\right)} + e^{2 y{\\left(x \\right)}}\\right) \\cos{\\left(x \\right)} \\frac{d}{d x} y{\\left(x \\right)} = e^{y{\\left(x \\right)}} \\sin{\\left(2 x \\right)}$",
            "text/plain": [
              "Eq((-y(x) + exp(2*y(x)))*cos(x)*Derivative(y(x), x), exp(y(x))*sin(2*x))"
            ]
          },
          "metadata": {}
        }
      ]
    },
    {
      "cell_type": "code",
      "metadata": {
        "colab": {
          "base_uri": "https://localhost:8080/"
        },
        "id": "GrovRrzQE1Cw",
        "outputId": "0e1dcbb2-9701-4b12-f087-970a324f48cc"
      },
      "source": [
        "gensol = dsolve(diffeq, y(x))\n",
        "increase_font()\n",
        "display(gensol)"
      ],
      "execution_count": null,
      "outputs": [
        {
          "output_type": "display_data",
          "data": {
            "application/javascript": [
              "for (rule of document.styleSheets[0].cssRules){if (rule.selectorText=='body') {rule.style.fontSize = '20px';break}}"
            ],
            "text/plain": [
              "<IPython.core.display.Javascript object>"
            ]
          },
          "metadata": {}
        },
        {
          "output_type": "display_data",
          "data": {
            "text/latex": "$\\displaystyle \\left(- y{\\left(x \\right)} - 1\\right) e^{- y{\\left(x \\right)}} - e^{y{\\left(x \\right)}} - 2 \\cos{\\left(x \\right)} = C_{1}$",
            "text/plain": [
              "Eq((-y(x) - 1)*exp(-y(x)) - exp(y(x)) - 2*cos(x), C1)"
            ]
          },
          "metadata": {}
        }
      ]
    },
    {
      "cell_type": "code",
      "metadata": {
        "colab": {
          "base_uri": "https://localhost:8080/"
        },
        "id": "Ml-mx3sc9-yV",
        "outputId": "ae45da4a-5638-4cea-fda7-fddb4336e46a"
      },
      "source": [
        "partsol = dsolve(diffeq, ics={y(0): 0})\n",
        "increase_font()\n",
        "display(partsol)"
      ],
      "execution_count": null,
      "outputs": [
        {
          "output_type": "display_data",
          "data": {
            "application/javascript": [
              "for (rule of document.styleSheets[0].cssRules){if (rule.selectorText=='body') {rule.style.fontSize = '20px';break}}"
            ],
            "text/plain": [
              "<IPython.core.display.Javascript object>"
            ]
          },
          "metadata": {}
        },
        {
          "output_type": "display_data",
          "data": {
            "text/latex": "$\\displaystyle \\left(- y{\\left(x \\right)} - 1\\right) e^{- y{\\left(x \\right)}} - e^{y{\\left(x \\right)}} - 2 \\cos{\\left(x \\right)} = -4$",
            "text/plain": [
              "Eq((-y(x) - 1)*exp(-y(x)) - exp(y(x)) - 2*cos(x), -4)"
            ]
          },
          "metadata": {}
        }
      ]
    },
    {
      "cell_type": "markdown",
      "metadata": {
        "id": "EJJepCrR55nd"
      },
      "source": [
        "## Exact Differential Equations (EDE)"
      ]
    },
    {
      "cell_type": "markdown",
      "metadata": {
        "id": "mY_6J_2b6Nxs"
      },
      "source": [
        "### EDE Example 1:\n",
        "<img src=\"data:image/png;base64,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\" alt=\"ede-1\" height=30 />"
      ]
    },
    {
      "cell_type": "code",
      "metadata": {
        "id": "ChMC8PE66Bvf"
      },
      "source": [
        "x = symbols('x')\n",
        "y = Function('y')"
      ],
      "execution_count": null,
      "outputs": []
    },
    {
      "cell_type": "code",
      "metadata": {
        "colab": {
          "base_uri": "https://localhost:8080/"
        },
        "id": "hoGgpb2g6FF7",
        "outputId": "6ada0a4a-6d74-4850-c65b-0dc1e223b14b"
      },
      "source": [
        "diffeq = Eq((3*x + 2*y(x)) + (2*x + y(x)) * y(x).diff(x), 0)\n",
        "increase_font()\n",
        "display(diffeq)"
      ],
      "execution_count": null,
      "outputs": [
        {
          "output_type": "display_data",
          "data": {
            "application/javascript": [
              "for (rule of document.styleSheets[0].cssRules){if (rule.selectorText=='body') {rule.style.fontSize = '20px';break}}"
            ],
            "text/plain": [
              "<IPython.core.display.Javascript object>"
            ]
          },
          "metadata": {}
        },
        {
          "output_type": "display_data",
          "data": {
            "text/latex": "$\\displaystyle 3 x + \\left(2 x + y{\\left(x \\right)}\\right) \\frac{d}{d x} y{\\left(x \\right)} + 2 y{\\left(x \\right)} = 0$",
            "text/plain": [
              "Eq(3*x + (2*x + y(x))*Derivative(y(x), x) + 2*y(x), 0)"
            ]
          },
          "metadata": {}
        }
      ]
    },
    {
      "cell_type": "code",
      "metadata": {
        "colab": {
          "base_uri": "https://localhost:8080/"
        },
        "id": "NO4xOYQZ6ww7",
        "outputId": "beeb7446-50cd-48c0-c24c-df40661fdda5"
      },
      "source": [
        "classify_ode(diffeq, y(x))"
      ],
      "execution_count": null,
      "outputs": [
        {
          "output_type": "execute_result",
          "data": {
            "text/plain": [
              "('1st_exact',\n",
              " '1st_homogeneous_coeff_best',\n",
              " '1st_homogeneous_coeff_subs_indep_div_dep',\n",
              " '1st_homogeneous_coeff_subs_dep_div_indep',\n",
              " '1st_power_series',\n",
              " 'lie_group',\n",
              " '1st_exact_Integral',\n",
              " '1st_homogeneous_coeff_subs_indep_div_dep_Integral',\n",
              " '1st_homogeneous_coeff_subs_dep_div_indep_Integral')"
            ]
          },
          "metadata": {},
          "execution_count": 22
        }
      ]
    },
    {
      "cell_type": "code",
      "metadata": {
        "colab": {
          "base_uri": "https://localhost:8080/"
        },
        "id": "MZWXCVeA6xXY",
        "outputId": "75e58e4d-c880-4bfc-8a34-c374e97be759"
      },
      "source": [
        "gensol = dsolve(diffeq, y(x))\n",
        "increase_font()\n",
        "for solnum in range(len(gensol)):\n",
        "  print('Solution {}:'.format(solnum+1), end='')\n",
        "  display(gensol[solnum])"
      ],
      "execution_count": null,
      "outputs": [
        {
          "output_type": "display_data",
          "data": {
            "application/javascript": [
              "for (rule of document.styleSheets[0].cssRules){if (rule.selectorText=='body') {rule.style.fontSize = '20px';break}}"
            ],
            "text/plain": [
              "<IPython.core.display.Javascript object>"
            ]
          },
          "metadata": {}
        },
        {
          "output_type": "stream",
          "name": "stdout",
          "text": [
            "Solution 1:"
          ]
        },
        {
          "output_type": "display_data",
          "data": {
            "text/latex": "$\\displaystyle y{\\left(x \\right)} = - 2 x - \\sqrt{C_{1} + x^{2}}$",
            "text/plain": [
              "Eq(y(x), -2*x - sqrt(C1 + x**2))"
            ]
          },
          "metadata": {}
        },
        {
          "output_type": "stream",
          "name": "stdout",
          "text": [
            "Solution 2:"
          ]
        },
        {
          "output_type": "display_data",
          "data": {
            "text/latex": "$\\displaystyle y{\\left(x \\right)} = - 2 x + \\sqrt{C_{1} + x^{2}}$",
            "text/plain": [
              "Eq(y(x), -2*x + sqrt(C1 + x**2))"
            ]
          },
          "metadata": {}
        }
      ]
    },
    {
      "cell_type": "markdown",
      "metadata": {
        "id": "W6esa4eEBQSU"
      },
      "source": [
        "### EDE Example 2:\n",
        "<img src=\"data:image/png;base64,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\" alt=\"ede-2\" height=30 />"
      ]
    },
    {
      "cell_type": "code",
      "metadata": {
        "id": "c7V1my0BBchr"
      },
      "source": [
        "x = symbols('x')\n",
        "y = Function('y')"
      ],
      "execution_count": null,
      "outputs": []
    },
    {
      "cell_type": "code",
      "metadata": {
        "colab": {
          "base_uri": "https://localhost:8080/"
        },
        "id": "IYncJGljBeMs",
        "outputId": "969230c9-911d-42c9-8f56-380b17b05ad4"
      },
      "source": [
        "diffeq = Eq((2*x*y(x)*cos(x**2) - 2*x*y(x) + 1) + (sin(x**2) - x**2)*y(x).diff(x), 0)\n",
        "increase_font()\n",
        "display(diffeq)"
      ],
      "execution_count": null,
      "outputs": [
        {
          "output_type": "display_data",
          "data": {
            "application/javascript": [
              "for (rule of document.styleSheets[0].cssRules){if (rule.selectorText=='body') {rule.style.fontSize = '20px';break}}"
            ],
            "text/plain": [
              "<IPython.core.display.Javascript object>"
            ]
          },
          "metadata": {}
        },
        {
          "output_type": "display_data",
          "data": {
            "text/latex": "$\\displaystyle 2 x y{\\left(x \\right)} \\cos{\\left(x^{2} \\right)} - 2 x y{\\left(x \\right)} + \\left(- x^{2} + \\sin{\\left(x^{2} \\right)}\\right) \\frac{d}{d x} y{\\left(x \\right)} + 1 = 0$",
            "text/plain": [
              "Eq(2*x*y(x)*cos(x**2) - 2*x*y(x) + (-x**2 + sin(x**2))*Derivative(y(x), x) + 1, 0)"
            ]
          },
          "metadata": {}
        }
      ]
    },
    {
      "cell_type": "code",
      "metadata": {
        "colab": {
          "base_uri": "https://localhost:8080/"
        },
        "id": "eKC2dI76BffW",
        "outputId": "d5f18234-3508-444d-cfaa-f12066b01b8c"
      },
      "source": [
        "gensol = dsolve(diffeq, y(x))\n",
        "increase_font()\n",
        "display(gensol)"
      ],
      "execution_count": null,
      "outputs": [
        {
          "output_type": "display_data",
          "data": {
            "application/javascript": [
              "for (rule of document.styleSheets[0].cssRules){if (rule.selectorText=='body') {rule.style.fontSize = '20px';break}}"
            ],
            "text/plain": [
              "<IPython.core.display.Javascript object>"
            ]
          },
          "metadata": {}
        },
        {
          "output_type": "display_data",
          "data": {
            "text/latex": "$\\displaystyle y{\\left(x \\right)} = \\frac{C_{1} + x}{x^{2} - \\sin{\\left(x^{2} \\right)}}$",
            "text/plain": [
              "Eq(y(x), (C1 + x)/(x**2 - sin(x**2)))"
            ]
          },
          "metadata": {}
        }
      ]
    },
    {
      "cell_type": "markdown",
      "metadata": {
        "id": "-LCWwqSODyRR"
      },
      "source": [
        "### EDE Example 3:\n",
        "<img src=\"data:image/png;base64,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\" alt=\"ede-3\" height=30 />"
      ]
    },
    {
      "cell_type": "code",
      "metadata": {
        "id": "pPLzFviRDyxx"
      },
      "source": [
        "x = symbols('x')\n",
        "y = Function('y')"
      ],
      "execution_count": null,
      "outputs": []
    },
    {
      "cell_type": "code",
      "metadata": {
        "colab": {
          "base_uri": "https://localhost:8080/"
        },
        "id": "CbiSLS25DzRh",
        "outputId": "54f9c039-9e12-44bf-d228-17071a28037f"
      },
      "source": [
        "diffeq = Eq((y(x)*E**(x*y(x)) - 2*y(x)**3) + (x*E**(x*y(x)) - 6*x*y(x)**2 - 2*y(x))*y(x).diff(x), 0)\n",
        "increase_font()\n",
        "display(diffeq)"
      ],
      "execution_count": null,
      "outputs": [
        {
          "output_type": "display_data",
          "data": {
            "application/javascript": [
              "for (rule of document.styleSheets[0].cssRules){if (rule.selectorText=='body') {rule.style.fontSize = '20px';break}}"
            ],
            "text/plain": [
              "<IPython.core.display.Javascript object>"
            ]
          },
          "metadata": {}
        },
        {
          "output_type": "display_data",
          "data": {
            "text/latex": "$\\displaystyle \\left(- 6 x y^{2}{\\left(x \\right)} + x e^{x y{\\left(x \\right)}} - 2 y{\\left(x \\right)}\\right) \\frac{d}{d x} y{\\left(x \\right)} - 2 y^{3}{\\left(x \\right)} + y{\\left(x \\right)} e^{x y{\\left(x \\right)}} = 0$",
            "text/plain": [
              "Eq((-6*x*y(x)**2 + x*exp(x*y(x)) - 2*y(x))*Derivative(y(x), x) - 2*y(x)**3 + y(x)*exp(x*y(x)), 0)"
            ]
          },
          "metadata": {}
        }
      ]
    },
    {
      "cell_type": "code",
      "metadata": {
        "colab": {
          "base_uri": "https://localhost:8080/"
        },
        "id": "x4YEVtp2DzpW",
        "outputId": "2aba0879-5804-4aa9-ad49-30c92e878418"
      },
      "source": [
        "gensol = dsolve(diffeq, y(x))\n",
        "increase_font()\n",
        "display(gensol)"
      ],
      "execution_count": null,
      "outputs": [
        {
          "output_type": "display_data",
          "data": {
            "application/javascript": [
              "for (rule of document.styleSheets[0].cssRules){if (rule.selectorText=='body') {rule.style.fontSize = '20px';break}}"
            ],
            "text/plain": [
              "<IPython.core.display.Javascript object>"
            ]
          },
          "metadata": {}
        },
        {
          "output_type": "display_data",
          "data": {
            "text/latex": "$\\displaystyle - 2 x y^{3}{\\left(x \\right)} - y^{2}{\\left(x \\right)} + e^{x y{\\left(x \\right)}} = C_{1}$",
            "text/plain": [
              "Eq(-2*x*y(x)**3 - y(x)**2 + exp(x*y(x)), C1)"
            ]
          },
          "metadata": {}
        }
      ]
    },
    {
      "cell_type": "code",
      "metadata": {
        "colab": {
          "base_uri": "https://localhost:8080/"
        },
        "id": "acrGmvvXE923",
        "outputId": "1cb43502-0a8f-4eee-a625-a2cdc6406295"
      },
      "source": [
        "partsol = dsolve(diffeq, ics={y(0): 2})\n",
        "increase_font()\n",
        "display(partsol)"
      ],
      "execution_count": null,
      "outputs": [
        {
          "output_type": "display_data",
          "data": {
            "application/javascript": [
              "for (rule of document.styleSheets[0].cssRules){if (rule.selectorText=='body') {rule.style.fontSize = '20px';break}}"
            ],
            "text/plain": [
              "<IPython.core.display.Javascript object>"
            ]
          },
          "metadata": {}
        },
        {
          "output_type": "display_data",
          "data": {
            "text/latex": "$\\displaystyle - 2 x y^{3}{\\left(x \\right)} - y^{2}{\\left(x \\right)} + e^{x y{\\left(x \\right)}} = -3$",
            "text/plain": [
              "Eq(-2*x*y(x)**3 - y(x)**2 + exp(x*y(x)), -3)"
            ]
          },
          "metadata": {}
        }
      ]
    },
    {
      "cell_type": "markdown",
      "metadata": {
        "id": "ttiwFIweFnL5"
      },
      "source": [
        "### EDE Example 4:\n",
        "<img src=\"data:image/png;base64,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\" alt=\"ede-4\" height=40 />"
      ]
    },
    {
      "cell_type": "code",
      "metadata": {
        "id": "tROSHX-dFmlW"
      },
      "source": [
        "x = symbols('x')\n",
        "y = Function('y')"
      ],
      "execution_count": null,
      "outputs": []
    },
    {
      "cell_type": "code",
      "metadata": {
        "colab": {
          "base_uri": "https://localhost:8080/"
        },
        "id": "TNKNMtWWFuYY",
        "outputId": "e8ce966a-1281-4db1-e579-f54a166cd7e5"
      },
      "source": [
        "diffeq = Eq(2*x*(3*x + y(x) - y(x)*E**(-x**2)) + (x**2 + 3*y(x)**2 + E**(-x**2))*y(x).diff(x), 0)\n",
        "increase_font()\n",
        "display(diffeq)"
      ],
      "execution_count": null,
      "outputs": [
        {
          "output_type": "display_data",
          "data": {
            "application/javascript": [
              "for (rule of document.styleSheets[0].cssRules){if (rule.selectorText=='body') {rule.style.fontSize = '20px';break}}"
            ],
            "text/plain": [
              "<IPython.core.display.Javascript object>"
            ]
          },
          "metadata": {}
        },
        {
          "output_type": "display_data",
          "data": {
            "text/latex": "$\\displaystyle 2 x \\left(3 x + y{\\left(x \\right)} - y{\\left(x \\right)} e^{- x^{2}}\\right) + \\left(x^{2} + 3 y^{2}{\\left(x \\right)} + e^{- x^{2}}\\right) \\frac{d}{d x} y{\\left(x \\right)} = 0$",
            "text/plain": [
              "Eq(2*x*(3*x + y(x) - y(x)*exp(-x**2)) + (x**2 + 3*y(x)**2 + exp(-x**2))*Derivative(y(x), x), 0)"
            ]
          },
          "metadata": {}
        }
      ]
    },
    {
      "cell_type": "code",
      "metadata": {
        "colab": {
          "base_uri": "https://localhost:8080/"
        },
        "id": "HOUe8O3WJB7t",
        "outputId": "acf20cf6-f24f-4ede-ceac-d5cb836981f8"
      },
      "source": [
        "classify_ode(diffeq, y(x))"
      ],
      "execution_count": null,
      "outputs": [
        {
          "output_type": "execute_result",
          "data": {
            "text/plain": [
              "('1st_exact', '1st_power_series', 'lie_group', '1st_exact_Integral')"
            ]
          },
          "metadata": {},
          "execution_count": 33
        }
      ]
    },
    {
      "cell_type": "markdown",
      "metadata": {
        "id": "KltKjjArRvos"
      },
      "source": [
        "The solution for this problem is: \n",
        "\n",
        "<img src=\"data:image/png;base64,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\" alt=\"ede-4s\" height=30 />\n",
        "\n",
        "However, `dsolve()` is unable to find the explicit/implicit solution for `y(x)`, most likely due to the `exp(-x^2)` term. "
      ]
    },
    {
      "cell_type": "code",
      "metadata": {
        "id": "CBBzejtmFvr-"
      },
      "source": [
        "# gensol = dsolve(diffeq, y(x), hint='1st_exact')\n",
        "# increase_font()\n",
        "# display(gensol)"
      ],
      "execution_count": null,
      "outputs": []
    },
    {
      "cell_type": "markdown",
      "metadata": {
        "id": "Umfky0r16FmC"
      },
      "source": [
        "## Linear Differential Equations (LDE)"
      ]
    },
    {
      "cell_type": "markdown",
      "metadata": {
        "id": "TIUXHfmBGyzj"
      },
      "source": [
        "### LDE Example 1:\n",
        "<img src=\"data:image/png;base64,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\" alt=\"lde-1\" height=50 />"
      ]
    },
    {
      "cell_type": "code",
      "metadata": {
        "id": "NscTsnUvHD5i"
      },
      "source": [
        "x = symbols('x')\n",
        "y = Function('y')"
      ],
      "execution_count": null,
      "outputs": []
    },
    {
      "cell_type": "code",
      "metadata": {
        "colab": {
          "base_uri": "https://localhost:8080/"
        },
        "id": "aWA1MgSzHFcM",
        "outputId": "c7d40e92-45f9-41db-eeed-1953194c5812"
      },
      "source": [
        "diffeq = Eq(y(x).diff(x) + 3*y(x), 3*x**2*E**(-3*x))\n",
        "increase_font()\n",
        "display(diffeq)"
      ],
      "execution_count": null,
      "outputs": [
        {
          "output_type": "display_data",
          "data": {
            "application/javascript": [
              "for (rule of document.styleSheets[0].cssRules){if (rule.selectorText=='body') {rule.style.fontSize = '20px';break}}"
            ],
            "text/plain": [
              "<IPython.core.display.Javascript object>"
            ]
          },
          "metadata": {}
        },
        {
          "output_type": "display_data",
          "data": {
            "text/latex": "$\\displaystyle 3 y{\\left(x \\right)} + \\frac{d}{d x} y{\\left(x \\right)} = 3 x^{2} e^{- 3 x}$",
            "text/plain": [
              "Eq(3*y(x) + Derivative(y(x), x), 3*x**2*exp(-3*x))"
            ]
          },
          "metadata": {}
        }
      ]
    },
    {
      "cell_type": "code",
      "metadata": {
        "colab": {
          "base_uri": "https://localhost:8080/"
        },
        "id": "aIxXVNY1JA9Z",
        "outputId": "af8fa225-5785-45bf-89c8-2b2593e40897"
      },
      "source": [
        "classify_ode(diffeq, y(x))"
      ],
      "execution_count": null,
      "outputs": [
        {
          "output_type": "execute_result",
          "data": {
            "text/plain": [
              "('1st_linear',\n",
              " 'Bernoulli',\n",
              " 'almost_linear',\n",
              " '1st_power_series',\n",
              " 'lie_group',\n",
              " 'nth_linear_constant_coeff_undetermined_coefficients',\n",
              " 'nth_linear_constant_coeff_variation_of_parameters',\n",
              " '1st_linear_Integral',\n",
              " 'Bernoulli_Integral',\n",
              " 'almost_linear_Integral',\n",
              " 'nth_linear_constant_coeff_variation_of_parameters_Integral')"
            ]
          },
          "metadata": {},
          "execution_count": 37
        }
      ]
    },
    {
      "cell_type": "code",
      "metadata": {
        "colab": {
          "base_uri": "https://localhost:8080/"
        },
        "id": "pjAJ48MYHIOG",
        "outputId": "9e9294be-b166-4076-f430-1950982a43d9"
      },
      "source": [
        "gensol = dsolve(diffeq, y(x))\n",
        "increase_font()\n",
        "display(gensol)"
      ],
      "execution_count": null,
      "outputs": [
        {
          "output_type": "display_data",
          "data": {
            "application/javascript": [
              "for (rule of document.styleSheets[0].cssRules){if (rule.selectorText=='body') {rule.style.fontSize = '20px';break}}"
            ],
            "text/plain": [
              "<IPython.core.display.Javascript object>"
            ]
          },
          "metadata": {}
        },
        {
          "output_type": "display_data",
          "data": {
            "text/latex": "$\\displaystyle y{\\left(x \\right)} = \\left(C_{1} + x^{3}\\right) e^{- 3 x}$",
            "text/plain": [
              "Eq(y(x), (C1 + x**3)*exp(-3*x))"
            ]
          },
          "metadata": {}
        }
      ]
    },
    {
      "cell_type": "markdown",
      "metadata": {
        "id": "Q5f6prWtG3Dh"
      },
      "source": [
        "### LDE Example 2:\n",
        "<img src=\"data:image/png;base64,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\" alt=\"lde-2\" height=30 />"
      ]
    },
    {
      "cell_type": "code",
      "metadata": {
        "id": "_gZwymSxHKYZ"
      },
      "source": [
        "x = Function('x')\n",
        "y = symbols('y')"
      ],
      "execution_count": null,
      "outputs": []
    },
    {
      "cell_type": "code",
      "metadata": {
        "colab": {
          "base_uri": "https://localhost:8080/"
        },
        "id": "tppQOZ3_HL2x",
        "outputId": "9ceec6d1-91c8-427f-c907-3539bd11a740"
      },
      "source": [
        "diffeq = Eq(x(y).diff(y) - (1 + 2*x(y)*tan(y)), 0)\n",
        "increase_font()\n",
        "display(diffeq)"
      ],
      "execution_count": null,
      "outputs": [
        {
          "output_type": "display_data",
          "data": {
            "application/javascript": [
              "for (rule of document.styleSheets[0].cssRules){if (rule.selectorText=='body') {rule.style.fontSize = '20px';break}}"
            ],
            "text/plain": [
              "<IPython.core.display.Javascript object>"
            ]
          },
          "metadata": {}
        },
        {
          "output_type": "display_data",
          "data": {
            "text/latex": "$\\displaystyle - 2 x{\\left(y \\right)} \\tan{\\left(y \\right)} + \\frac{d}{d y} x{\\left(y \\right)} - 1 = 0$",
            "text/plain": [
              "Eq(-2*x(y)*tan(y) + Derivative(x(y), y) - 1, 0)"
            ]
          },
          "metadata": {}
        }
      ]
    },
    {
      "cell_type": "code",
      "metadata": {
        "colab": {
          "base_uri": "https://localhost:8080/"
        },
        "id": "NFhePNMaHMeM",
        "outputId": "1a43b9e5-ca07-4334-8de5-1380863226e4"
      },
      "source": [
        "gensol = dsolve(diffeq, x(y))\n",
        "increase_font()\n",
        "display(gensol)"
      ],
      "execution_count": null,
      "outputs": [
        {
          "output_type": "display_data",
          "data": {
            "application/javascript": [
              "for (rule of document.styleSheets[0].cssRules){if (rule.selectorText=='body') {rule.style.fontSize = '20px';break}}"
            ],
            "text/plain": [
              "<IPython.core.display.Javascript object>"
            ]
          },
          "metadata": {}
        },
        {
          "output_type": "display_data",
          "data": {
            "text/latex": "$\\displaystyle x{\\left(y \\right)} = \\frac{C_{1} + \\frac{y}{2} + \\frac{\\sin{\\left(2 y \\right)}}{4}}{\\cos^{2}{\\left(y \\right)}}$",
            "text/plain": [
              "Eq(x(y), (C1 + y/2 + sin(2*y)/4)/cos(y)**2)"
            ]
          },
          "metadata": {}
        }
      ]
    },
    {
      "cell_type": "markdown",
      "metadata": {
        "id": "aGo-vGGTG3iU"
      },
      "source": [
        "### LDE Example 3:\n",
        "<img src=\"data:image/png;base64,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\" alt=\"lde-3\" height=30 />"
      ]
    },
    {
      "cell_type": "code",
      "metadata": {
        "id": "gJkvkaSJHNnP"
      },
      "source": [
        "t = symbols('t')\n",
        "s = Function('s')"
      ],
      "execution_count": null,
      "outputs": []
    },
    {
      "cell_type": "code",
      "metadata": {
        "colab": {
          "base_uri": "https://localhost:8080/"
        },
        "id": "LzLiIKo6HN22",
        "outputId": "b402b794-8d41-4916-f075-9fbb688f30d6"
      },
      "source": [
        "diffeq = Eq((1 + t**2)*s(t).diff(t) + 2*t*(s(t)*t**2 - 3*(1+t**2)**2), 0)\n",
        "increase_font()\n",
        "display(diffeq)"
      ],
      "execution_count": null,
      "outputs": [
        {
          "output_type": "display_data",
          "data": {
            "application/javascript": [
              "for (rule of document.styleSheets[0].cssRules){if (rule.selectorText=='body') {rule.style.fontSize = '20px';break}}"
            ],
            "text/plain": [
              "<IPython.core.display.Javascript object>"
            ]
          },
          "metadata": {}
        },
        {
          "output_type": "display_data",
          "data": {
            "text/latex": "$\\displaystyle 2 t \\left(t^{2} s{\\left(t \\right)} - 3 \\left(t^{2} + 1\\right)^{2}\\right) + \\left(t^{2} + 1\\right) \\frac{d}{d t} s{\\left(t \\right)} = 0$",
            "text/plain": [
              "Eq(2*t*(t**2*s(t) - 3*(t**2 + 1)**2) + (t**2 + 1)*Derivative(s(t), t), 0)"
            ]
          },
          "metadata": {}
        }
      ]
    },
    {
      "cell_type": "code",
      "metadata": {
        "colab": {
          "base_uri": "https://localhost:8080/"
        },
        "id": "L83rm_cYHOHq",
        "outputId": "8b934430-b766-40c3-c900-dc0b62c557cd"
      },
      "source": [
        "gensol = dsolve(diffeq, s(t))\n",
        "increase_font()\n",
        "display(gensol)"
      ],
      "execution_count": null,
      "outputs": [
        {
          "output_type": "display_data",
          "data": {
            "application/javascript": [
              "for (rule of document.styleSheets[0].cssRules){if (rule.selectorText=='body') {rule.style.fontSize = '20px';break}}"
            ],
            "text/plain": [
              "<IPython.core.display.Javascript object>"
            ]
          },
          "metadata": {}
        },
        {
          "output_type": "display_data",
          "data": {
            "text/latex": "$\\displaystyle s{\\left(t \\right)} = C_{1} t^{2} e^{- t^{2}} + C_{1} e^{- t^{2}} + 3 t^{2} + 3$",
            "text/plain": [
              "Eq(s(t), C1*t**2*exp(-t**2) + C1*exp(-t**2) + 3*t**2 + 3)"
            ]
          },
          "metadata": {}
        }
      ]
    },
    {
      "cell_type": "code",
      "metadata": {
        "colab": {
          "base_uri": "https://localhost:8080/"
        },
        "id": "YYyM40gkK34g",
        "outputId": "9238e1d0-0581-4f8f-8cdb-7f94df3f2976"
      },
      "source": [
        "partsol = dsolve(diffeq, ics={s(0): 2})\n",
        "increase_font()\n",
        "display(partsol)"
      ],
      "execution_count": null,
      "outputs": [
        {
          "output_type": "display_data",
          "data": {
            "application/javascript": [
              "for (rule of document.styleSheets[0].cssRules){if (rule.selectorText=='body') {rule.style.fontSize = '20px';break}}"
            ],
            "text/plain": [
              "<IPython.core.display.Javascript object>"
            ]
          },
          "metadata": {}
        },
        {
          "output_type": "display_data",
          "data": {
            "text/latex": "$\\displaystyle s{\\left(t \\right)} = 3 t^{2} - t^{2} e^{- t^{2}} + 3 - e^{- t^{2}}$",
            "text/plain": [
              "Eq(s(t), 3*t**2 - t**2*exp(-t**2) + 3 - exp(-t**2))"
            ]
          },
          "metadata": {}
        }
      ]
    },
    {
      "cell_type": "markdown",
      "metadata": {
        "id": "G5ChQ1vSQCSs"
      },
      "source": [
        "## Homogeneous Differential Equations (HDE)"
      ]
    },
    {
      "cell_type": "markdown",
      "metadata": {
        "id": "c1WbGqa-Qhc8"
      },
      "source": [
        "### HDE Example 1:\n",
        "<img src=\"data:image/png;base64,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\" alt=\"hde-1\" height=30 />"
      ]
    },
    {
      "cell_type": "code",
      "metadata": {
        "id": "tLuZ8BrPQgw3"
      },
      "source": [
        "x = symbols('x')\n",
        "y = Function('y')"
      ],
      "execution_count": null,
      "outputs": []
    },
    {
      "cell_type": "code",
      "metadata": {
        "colab": {
          "base_uri": "https://localhost:8080/"
        },
        "id": "eYc95M4qWyDy",
        "outputId": "3d14b3cc-ee50-4599-e933-a37673d5e608"
      },
      "source": [
        "diffeq = Eq((x - 2*y(x)) + (2*x + y(x)) * y(x).diff(x), 0)\n",
        "increase_font()\n",
        "display(diffeq)"
      ],
      "execution_count": null,
      "outputs": [
        {
          "output_type": "display_data",
          "data": {
            "application/javascript": [
              "for (rule of document.styleSheets[0].cssRules){if (rule.selectorText=='body') {rule.style.fontSize = '20px';break}}"
            ],
            "text/plain": [
              "<IPython.core.display.Javascript object>"
            ]
          },
          "metadata": {}
        },
        {
          "output_type": "display_data",
          "data": {
            "text/latex": "$\\displaystyle x + \\left(2 x + y{\\left(x \\right)}\\right) \\frac{d}{d x} y{\\left(x \\right)} - 2 y{\\left(x \\right)} = 0$",
            "text/plain": [
              "Eq(x + (2*x + y(x))*Derivative(y(x), x) - 2*y(x), 0)"
            ]
          },
          "metadata": {}
        }
      ]
    },
    {
      "cell_type": "code",
      "metadata": {
        "colab": {
          "base_uri": "https://localhost:8080/"
        },
        "id": "pVPfzvtNXHv4",
        "outputId": "0f261940-cd43-42f2-99e4-1a502ec44edd"
      },
      "source": [
        "classify_ode(diffeq, y(x))"
      ],
      "execution_count": null,
      "outputs": [
        {
          "output_type": "execute_result",
          "data": {
            "text/plain": [
              "('1st_homogeneous_coeff_best',\n",
              " '1st_homogeneous_coeff_subs_indep_div_dep',\n",
              " '1st_homogeneous_coeff_subs_dep_div_indep',\n",
              " '1st_power_series',\n",
              " 'lie_group',\n",
              " '1st_homogeneous_coeff_subs_indep_div_dep_Integral',\n",
              " '1st_homogeneous_coeff_subs_dep_div_indep_Integral')"
            ]
          },
          "metadata": {},
          "execution_count": 48
        }
      ]
    },
    {
      "cell_type": "code",
      "metadata": {
        "colab": {
          "base_uri": "https://localhost:8080/"
        },
        "id": "crBQUP83W0B9",
        "outputId": "a89aba01-debe-47e9-e155-57648a4d8753"
      },
      "source": [
        "gensol = dsolve(diffeq, y(x))\n",
        "increase_font()\n",
        "display(gensol)"
      ],
      "execution_count": null,
      "outputs": [
        {
          "output_type": "display_data",
          "data": {
            "application/javascript": [
              "for (rule of document.styleSheets[0].cssRules){if (rule.selectorText=='body') {rule.style.fontSize = '20px';break}}"
            ],
            "text/plain": [
              "<IPython.core.display.Javascript object>"
            ]
          },
          "metadata": {}
        },
        {
          "output_type": "display_data",
          "data": {
            "text/latex": "$\\displaystyle \\log{\\left(x \\right)} = C_{1} - \\log{\\left(\\sqrt{1 + \\frac{y^{2}{\\left(x \\right)}}{x^{2}}} \\right)} - 2 \\operatorname{atan}{\\left(\\frac{y{\\left(x \\right)}}{x} \\right)}$",
            "text/plain": [
              "Eq(log(x), C1 - log(sqrt(1 + y(x)**2/x**2)) - 2*atan(y(x)/x))"
            ]
          },
          "metadata": {}
        }
      ]
    },
    {
      "cell_type": "markdown",
      "metadata": {
        "id": "egiovRUrQr-k"
      },
      "source": [
        "### HDE Example 2:\n",
        "<img src=\"data:image/png;base64,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\" alt=\"hde-2\" height=30 />"
      ]
    },
    {
      "cell_type": "code",
      "metadata": {
        "id": "5V2zT4f3Q0cp"
      },
      "source": [
        "x = symbols('x')\n",
        "y = Function('y')"
      ],
      "execution_count": null,
      "outputs": []
    },
    {
      "cell_type": "code",
      "metadata": {
        "colab": {
          "base_uri": "https://localhost:8080/"
        },
        "id": "ht_TK716Yo1l",
        "outputId": "d143f405-e49d-4eee-b2eb-760b2ac02873"
      },
      "source": [
        "diffeq = Eq((x**2 + 2*x*y(x) - 4*y(x)**2) - (x**2 - 8*x*y(x) - 4*y(x)**2) * y(x).diff(x), 0)\n",
        "increase_font()\n",
        "display(diffeq)"
      ],
      "execution_count": null,
      "outputs": [
        {
          "output_type": "display_data",
          "data": {
            "application/javascript": [
              "for (rule of document.styleSheets[0].cssRules){if (rule.selectorText=='body') {rule.style.fontSize = '20px';break}}"
            ],
            "text/plain": [
              "<IPython.core.display.Javascript object>"
            ]
          },
          "metadata": {}
        },
        {
          "output_type": "display_data",
          "data": {
            "text/latex": "$\\displaystyle x^{2} + 2 x y{\\left(x \\right)} - \\left(x^{2} - 8 x y{\\left(x \\right)} - 4 y^{2}{\\left(x \\right)}\\right) \\frac{d}{d x} y{\\left(x \\right)} - 4 y^{2}{\\left(x \\right)} = 0$",
            "text/plain": [
              "Eq(x**2 + 2*x*y(x) - (x**2 - 8*x*y(x) - 4*y(x)**2)*Derivative(y(x), x) - 4*y(x)**2, 0)"
            ]
          },
          "metadata": {}
        }
      ]
    },
    {
      "cell_type": "code",
      "metadata": {
        "colab": {
          "base_uri": "https://localhost:8080/"
        },
        "id": "PMMwBU4rYrKh",
        "outputId": "0b64a810-e264-4f79-bb36-68a92a4aac30"
      },
      "source": [
        "gensol = dsolve(diffeq, y(x))\n",
        "increase_font()\n",
        "for solnum in range(len(gensol)):\n",
        "  print('Solution {}:'.format(solnum+1), end='')\n",
        "  display(gensol[solnum])"
      ],
      "execution_count": null,
      "outputs": [
        {
          "output_type": "display_data",
          "data": {
            "application/javascript": [
              "for (rule of document.styleSheets[0].cssRules){if (rule.selectorText=='body') {rule.style.fontSize = '20px';break}}"
            ],
            "text/plain": [
              "<IPython.core.display.Javascript object>"
            ]
          },
          "metadata": {}
        },
        {
          "output_type": "stream",
          "name": "stdout",
          "text": [
            "Solution 1:"
          ]
        },
        {
          "output_type": "display_data",
          "data": {
            "text/latex": "$\\displaystyle y{\\left(x \\right)} = - \\frac{\\sqrt{- 16 x^{2} + 16 x e^{C_{1}} + e^{2 C_{1}}}}{8} + \\frac{e^{C_{1}}}{8}$",
            "text/plain": [
              "Eq(y(x), -sqrt(-16*x**2 + 16*x*exp(C1) + exp(2*C1))/8 + exp(C1)/8)"
            ]
          },
          "metadata": {}
        },
        {
          "output_type": "stream",
          "name": "stdout",
          "text": [
            "Solution 2:"
          ]
        },
        {
          "output_type": "display_data",
          "data": {
            "text/latex": "$\\displaystyle y{\\left(x \\right)} = \\frac{\\sqrt{- 16 x^{2} + 16 x e^{C_{1}} + e^{2 C_{1}}}}{8} + \\frac{e^{C_{1}}}{8}$",
            "text/plain": [
              "Eq(y(x), sqrt(-16*x**2 + 16*x*exp(C1) + exp(2*C1))/8 + exp(C1)/8)"
            ]
          },
          "metadata": {}
        }
      ]
    },
    {
      "cell_type": "markdown",
      "metadata": {
        "id": "F7ntiqNDQJVL"
      },
      "source": [
        "## Integrating Factors (IFs)"
      ]
    },
    {
      "cell_type": "markdown",
      "metadata": {
        "id": "uyPjUqS7Q0zf"
      },
      "source": [
        "### IF Example 1:\n",
        "<img src=\"data:image/png;base64,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\" alt=\"if-1\" height=30 />"
      ]
    },
    {
      "cell_type": "code",
      "metadata": {
        "id": "F0ysBoUcSpL1"
      },
      "source": [
        "t = symbols('t')\n",
        "s = Function('s')"
      ],
      "execution_count": null,
      "outputs": []
    },
    {
      "cell_type": "code",
      "metadata": {
        "colab": {
          "base_uri": "https://localhost:8080/"
        },
        "id": "jitP40XXaXBQ",
        "outputId": "664bdf02-225d-4fb0-d15c-e00da218dad6"
      },
      "source": [
        "diffeq = Eq(2*t*s(t).diff(t) + s(t)*(2 + s(t)**2*t), 0)\n",
        "increase_font()\n",
        "display(diffeq)"
      ],
      "execution_count": null,
      "outputs": [
        {
          "output_type": "display_data",
          "data": {
            "application/javascript": [
              "for (rule of document.styleSheets[0].cssRules){if (rule.selectorText=='body') {rule.style.fontSize = '20px';break}}"
            ],
            "text/plain": [
              "<IPython.core.display.Javascript object>"
            ]
          },
          "metadata": {}
        },
        {
          "output_type": "display_data",
          "data": {
            "text/latex": "$\\displaystyle 2 t \\frac{d}{d t} s{\\left(t \\right)} + \\left(t s^{2}{\\left(t \\right)} + 2\\right) s{\\left(t \\right)} = 0$",
            "text/plain": [
              "Eq(2*t*Derivative(s(t), t) + (t*s(t)**2 + 2)*s(t), 0)"
            ]
          },
          "metadata": {}
        }
      ]
    },
    {
      "cell_type": "code",
      "metadata": {
        "colab": {
          "base_uri": "https://localhost:8080/"
        },
        "id": "AxXnxrhAabne",
        "outputId": "fe7464da-5be2-4cb3-c0ce-e675d18b915b"
      },
      "source": [
        "classify_ode(diffeq, s(t))"
      ],
      "execution_count": null,
      "outputs": [
        {
          "output_type": "execute_result",
          "data": {
            "text/plain": [
              "('separable_reduced', 'lie_group', 'separable_reduced_Integral')"
            ]
          },
          "metadata": {},
          "execution_count": 55
        }
      ]
    },
    {
      "cell_type": "code",
      "metadata": {
        "colab": {
          "base_uri": "https://localhost:8080/"
        },
        "id": "eDIGKT7EaaD9",
        "outputId": "ff761670-4d94-4d09-98d9-7e69223a5cdc"
      },
      "source": [
        "gensol = dsolve(diffeq, s(t))\n",
        "increase_font()\n",
        "for solnum in range(len(gensol)):\n",
        "  print('Solution {}:'.format(solnum+1), end='')\n",
        "  display(gensol[solnum])"
      ],
      "execution_count": null,
      "outputs": [
        {
          "output_type": "display_data",
          "data": {
            "application/javascript": [
              "for (rule of document.styleSheets[0].cssRules){if (rule.selectorText=='body') {rule.style.fontSize = '20px';break}}"
            ],
            "text/plain": [
              "<IPython.core.display.Javascript object>"
            ]
          },
          "metadata": {}
        },
        {
          "output_type": "stream",
          "name": "stdout",
          "text": [
            "Solution 1:"
          ]
        },
        {
          "output_type": "display_data",
          "data": {
            "text/latex": "$\\displaystyle s{\\left(t \\right)} = - \\sqrt{\\frac{1}{t \\left(C_{1} t - 1\\right)}}$",
            "text/plain": [
              "Eq(s(t), -sqrt(1/(t*(C1*t - 1))))"
            ]
          },
          "metadata": {}
        },
        {
          "output_type": "stream",
          "name": "stdout",
          "text": [
            "Solution 2:"
          ]
        },
        {
          "output_type": "display_data",
          "data": {
            "text/latex": "$\\displaystyle s{\\left(t \\right)} = \\sqrt{\\frac{1}{t \\left(C_{1} t - 1\\right)}}$",
            "text/plain": [
              "Eq(s(t), sqrt(1/(t*(C1*t - 1))))"
            ]
          },
          "metadata": {}
        }
      ]
    },
    {
      "cell_type": "markdown",
      "metadata": {
        "id": "G3kmD7nLSp6x"
      },
      "source": [
        "### IF Example 2:\n",
        "<img src=\"data:image/png;base64,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\" alt=\"if-2\" height=30 />"
      ]
    },
    {
      "cell_type": "code",
      "metadata": {
        "id": "OLbnts9oSrmA"
      },
      "source": [
        "x = symbols('x')\n",
        "y = Function('y')"
      ],
      "execution_count": null,
      "outputs": []
    },
    {
      "cell_type": "code",
      "metadata": {
        "colab": {
          "base_uri": "https://localhost:8080/"
        },
        "id": "nGTC4uzGba4g",
        "outputId": "bb5db77b-3059-4bb8-db7d-fabe928c6d47"
      },
      "source": [
        "diffeq = Eq(y(x)*(x**2 + y(x)**2 - 1) + x*(x**2 + y(x)**2 + 1) * y(x).diff(x), 0)\n",
        "increase_font()\n",
        "display(diffeq)"
      ],
      "execution_count": null,
      "outputs": [
        {
          "output_type": "display_data",
          "data": {
            "application/javascript": [
              "for (rule of document.styleSheets[0].cssRules){if (rule.selectorText=='body') {rule.style.fontSize = '20px';break}}"
            ],
            "text/plain": [
              "<IPython.core.display.Javascript object>"
            ]
          },
          "metadata": {}
        },
        {
          "output_type": "display_data",
          "data": {
            "text/latex": "$\\displaystyle x \\left(x^{2} + y^{2}{\\left(x \\right)} + 1\\right) \\frac{d}{d x} y{\\left(x \\right)} + \\left(x^{2} + y^{2}{\\left(x \\right)} - 1\\right) y{\\left(x \\right)} = 0$",
            "text/plain": [
              "Eq(x*(x**2 + y(x)**2 + 1)*Derivative(y(x), x) + (x**2 + y(x)**2 - 1)*y(x), 0)"
            ]
          },
          "metadata": {}
        }
      ]
    },
    {
      "cell_type": "code",
      "metadata": {
        "colab": {
          "base_uri": "https://localhost:8080/"
        },
        "id": "ydYead_yb_hD",
        "outputId": "aa265958-698e-4c3f-f7a0-712d136c62f1"
      },
      "source": [
        "classify_ode(diffeq, y(x))"
      ],
      "execution_count": null,
      "outputs": [
        {
          "output_type": "execute_result",
          "data": {
            "text/plain": [
              "('lie_group',)"
            ]
          },
          "metadata": {},
          "execution_count": 59
        }
      ]
    },
    {
      "cell_type": "markdown",
      "metadata": {
        "id": "vKo19WRJb_zV"
      },
      "source": [
        "The solution for this problem is: \n",
        "\n",
        "<img src=\"data:image/png;base64,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\" alt=\"if-2s\" height=50 />\n",
        "\n",
        "However, `dsolve()` is unable to recognize the form of the equation and thus cannot find a solution for `y(x)`. "
      ]
    },
    {
      "cell_type": "code",
      "metadata": {
        "id": "ojz7bZTabdGf"
      },
      "source": [
        "# gensol = dsolve(diffeq, y(x))\n",
        "# increase_font()\n",
        "# display(gensol)"
      ],
      "execution_count": null,
      "outputs": []
    },
    {
      "cell_type": "markdown",
      "metadata": {
        "id": "GnSb_2FxS_b7"
      },
      "source": [
        "### IF Example 3:\n",
        "<img src=\"data:image/png;base64,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\" alt=\"if-3\" height=30 />"
      ]
    },
    {
      "cell_type": "code",
      "metadata": {
        "id": "B-oppNNuS_0V"
      },
      "source": [
        "x = symbols('x')\n",
        "y = Function('y')"
      ],
      "execution_count": null,
      "outputs": []
    },
    {
      "cell_type": "code",
      "metadata": {
        "colab": {
          "base_uri": "https://localhost:8080/"
        },
        "id": "4p7jw4Mld7qY",
        "outputId": "a0c8d905-1b9e-4b86-d06e-7de6235fca21"
      },
      "source": [
        "diffeq = Eq(y(x)*(x**3*E**(x*y(x)) - y(x)) + x*(y(x) + x**3*E**(x*y(x))) * y(x).diff(x), 0)\n",
        "increase_font()\n",
        "display(diffeq)"
      ],
      "execution_count": null,
      "outputs": [
        {
          "output_type": "display_data",
          "data": {
            "application/javascript": [
              "for (rule of document.styleSheets[0].cssRules){if (rule.selectorText=='body') {rule.style.fontSize = '20px';break}}"
            ],
            "text/plain": [
              "<IPython.core.display.Javascript object>"
            ]
          },
          "metadata": {}
        },
        {
          "output_type": "display_data",
          "data": {
            "text/latex": "$\\displaystyle x \\left(x^{3} e^{x y{\\left(x \\right)}} + y{\\left(x \\right)}\\right) \\frac{d}{d x} y{\\left(x \\right)} + \\left(x^{3} e^{x y{\\left(x \\right)}} - y{\\left(x \\right)}\\right) y{\\left(x \\right)} = 0$",
            "text/plain": [
              "Eq(x*(x**3*exp(x*y(x)) + y(x))*Derivative(y(x), x) + (x**3*exp(x*y(x)) - y(x))*y(x), 0)"
            ]
          },
          "metadata": {}
        }
      ]
    },
    {
      "cell_type": "code",
      "metadata": {
        "colab": {
          "base_uri": "https://localhost:8080/"
        },
        "id": "cZRMbQQJd8lK",
        "outputId": "4af1e291-2fa6-4dee-83df-40f9bdcf57cc"
      },
      "source": [
        "gensol = dsolve(diffeq, y(x))\n",
        "increase_font()\n",
        "display(gensol)"
      ],
      "execution_count": null,
      "outputs": [
        {
          "output_type": "display_data",
          "data": {
            "application/javascript": [
              "for (rule of document.styleSheets[0].cssRules){if (rule.selectorText=='body') {rule.style.fontSize = '20px';break}}"
            ],
            "text/plain": [
              "<IPython.core.display.Javascript object>"
            ]
          },
          "metadata": {}
        },
        {
          "output_type": "display_data",
          "data": {
            "text/latex": "$\\displaystyle e^{x y{\\left(x \\right)}} + \\frac{y^{2}{\\left(x \\right)}}{2 x^{2}} = C_{1}$",
            "text/plain": [
              "Eq(exp(x*y(x)) + y(x)**2/(2*x**2), C1)"
            ]
          },
          "metadata": {}
        }
      ]
    },
    {
      "cell_type": "markdown",
      "metadata": {
        "id": "ZXIDdaYiTAOt"
      },
      "source": [
        "### IF Example 4:\n",
        "<img src=\"data:image/png;base64,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\" alt=\"if-4\" height=30 />"
      ]
    },
    {
      "cell_type": "code",
      "metadata": {
        "id": "Ddgk5wJiTAkr"
      },
      "source": [
        "x = symbols('x')\n",
        "y = Function('y')"
      ],
      "execution_count": null,
      "outputs": []
    },
    {
      "cell_type": "code",
      "metadata": {
        "colab": {
          "base_uri": "https://localhost:8080/"
        },
        "id": "bo79QzZ9fcuN",
        "outputId": "6b3cf93e-26ef-4ba8-bb38-e46153672af2"
      },
      "source": [
        "diffeq = Eq(x**4*y(x).diff(x), -x**3*y(x) - csc(x*y(x)))\n",
        "increase_font()\n",
        "display(diffeq)"
      ],
      "execution_count": null,
      "outputs": [
        {
          "output_type": "display_data",
          "data": {
            "application/javascript": [
              "for (rule of document.styleSheets[0].cssRules){if (rule.selectorText=='body') {rule.style.fontSize = '20px';break}}"
            ],
            "text/plain": [
              "<IPython.core.display.Javascript object>"
            ]
          },
          "metadata": {}
        },
        {
          "output_type": "display_data",
          "data": {
            "text/latex": "$\\displaystyle x^{4} \\frac{d}{d x} y{\\left(x \\right)} = - x^{3} y{\\left(x \\right)} - \\csc{\\left(x y{\\left(x \\right)} \\right)}$",
            "text/plain": [
              "Eq(x**4*Derivative(y(x), x), -x**3*y(x) - csc(x*y(x)))"
            ]
          },
          "metadata": {}
        }
      ]
    },
    {
      "cell_type": "code",
      "metadata": {
        "colab": {
          "base_uri": "https://localhost:8080/"
        },
        "id": "fFI4J2_kf0pR",
        "outputId": "223a5164-5113-4eda-a69a-b775fd0fa847"
      },
      "source": [
        "classify_ode(diffeq, y(x))"
      ],
      "execution_count": null,
      "outputs": [
        {
          "output_type": "execute_result",
          "data": {
            "text/plain": [
              "('lie_group',)"
            ]
          },
          "metadata": {},
          "execution_count": 66
        }
      ]
    },
    {
      "cell_type": "markdown",
      "metadata": {
        "id": "zDvljwnVf7Nm"
      },
      "source": [
        "The solution for this problem is: \n",
        "\n",
        "<img src=\"data:image/png;base64,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\" alt=\"if-4s\" height=30 />\n",
        "\n",
        "However, `dsolve()` is unable to recognize the form of the equation and thus cannot find a solution for `y(x)`. "
      ]
    },
    {
      "cell_type": "code",
      "metadata": {
        "id": "iApnRSN3fdmc"
      },
      "source": [
        "# gensol = dsolve(diffeq, y(x))\n",
        "# increase_font()\n",
        "# display(gensol)"
      ],
      "execution_count": null,
      "outputs": []
    },
    {
      "cell_type": "markdown",
      "metadata": {
        "id": "ICEYRlLOTX_Z"
      },
      "source": [
        "### IF Example 5:\n",
        "<img src=\"data:image/png;base64,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\" alt=\"if-5\" height=30 />"
      ]
    },
    {
      "cell_type": "code",
      "metadata": {
        "id": "iKvnP_PWTXcr"
      },
      "source": [
        "x = symbols('x')\n",
        "y = Function('y')"
      ],
      "execution_count": null,
      "outputs": []
    },
    {
      "cell_type": "code",
      "metadata": {
        "colab": {
          "base_uri": "https://localhost:8080/"
        },
        "id": "TdWcij9Jgpzt",
        "outputId": "62c08ab5-2ab3-4b73-ad4c-848f6fcac3d6"
      },
      "source": [
        "diffeq = Eq(2*y(x)*(x**2 - y(x) + x) + (x**2 - 2*y(x))*y(x).diff(x), 0)\n",
        "increase_font()\n",
        "display(diffeq)"
      ],
      "execution_count": null,
      "outputs": [
        {
          "output_type": "display_data",
          "data": {
            "application/javascript": [
              "for (rule of document.styleSheets[0].cssRules){if (rule.selectorText=='body') {rule.style.fontSize = '20px';break}}"
            ],
            "text/plain": [
              "<IPython.core.display.Javascript object>"
            ]
          },
          "metadata": {}
        },
        {
          "output_type": "display_data",
          "data": {
            "text/latex": "$\\displaystyle \\left(x^{2} - 2 y{\\left(x \\right)}\\right) \\frac{d}{d x} y{\\left(x \\right)} + 2 \\left(x^{2} + x - y{\\left(x \\right)}\\right) y{\\left(x \\right)} = 0$",
            "text/plain": [
              "Eq((x**2 - 2*y(x))*Derivative(y(x), x) + 2*(x**2 + x - y(x))*y(x), 0)"
            ]
          },
          "metadata": {}
        }
      ]
    },
    {
      "cell_type": "code",
      "metadata": {
        "colab": {
          "base_uri": "https://localhost:8080/"
        },
        "id": "-PAaf7rhjKu7",
        "outputId": "6cf3af89-e2f1-428d-a8de-281f3e236f6c"
      },
      "source": [
        "classify_ode(diffeq, y(x))"
      ],
      "execution_count": null,
      "outputs": [
        {
          "output_type": "execute_result",
          "data": {
            "text/plain": [
              "('1st_power_series', 'lie_group')"
            ]
          },
          "metadata": {},
          "execution_count": 70
        }
      ]
    },
    {
      "cell_type": "markdown",
      "metadata": {
        "id": "uJ_CbGq2nc-d"
      },
      "source": [
        "The solution for this problem is: \n",
        "\n",
        "<img src=\"data:image/png;base64,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\" alt=\"if-5s\" height=30 />\n",
        "\n",
        "However, `dsolve()` is unable to recognize the form of the equation and was only able to find a power series solution for `y(x)`. "
      ]
    },
    {
      "cell_type": "code",
      "metadata": {
        "colab": {
          "base_uri": "https://localhost:8080/"
        },
        "id": "0BxRilCcgvI8",
        "outputId": "9da686b9-4f57-4a83-c903-9609bc4a76e1"
      },
      "source": [
        "gensol = dsolve(diffeq, y(x))\n",
        "increase_font()\n",
        "display(gensol)"
      ],
      "execution_count": null,
      "outputs": [
        {
          "output_type": "display_data",
          "data": {
            "application/javascript": [
              "for (rule of document.styleSheets[0].cssRules){if (rule.selectorText=='body') {rule.style.fontSize = '20px';break}}"
            ],
            "text/plain": [
              "<IPython.core.display.Javascript object>"
            ]
          },
          "metadata": {}
        },
        {
          "output_type": "display_data",
          "data": {
            "text/latex": "$\\displaystyle y{\\left(x \\right)} = \\frac{x^{2} \\left(C_{1} + 1\\right)}{2} + \\frac{x^{4} \\left(C_{1} + \\frac{3}{C_{1}}\\right)}{24} + \\frac{x^{5} \\left(- C_{1} \\left(1 - \\frac{3}{C_{1}^{2}}\\right) + \\frac{12}{C_{1}}\\right)}{120} + C_{1} - C_{1} x - \\frac{C_{1} x^{3}}{6} + O\\left(x^{6}\\right)$",
            "text/plain": [
              "Eq(y(x), x**2*(C1 + 1)/2 + x**4*(C1 + 3/C1)/24 + x**5*(-C1*(1 - 3/C1**2) + 12/C1)/120 + C1 - C1*x - C1*x**3/6 + O(x**6))"
            ]
          },
          "metadata": {}
        }
      ]
    },
    {
      "cell_type": "markdown",
      "metadata": {
        "id": "TvGCfU4pTYg-"
      },
      "source": [
        "### IF Example 6:\n",
        "<img src=\"data:image/png;base64,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\" alt=\"if-6\" height=30 />"
      ]
    },
    {
      "cell_type": "code",
      "metadata": {
        "id": "_ij7yX4JTZKS"
      },
      "source": [
        "x = Function('x')\n",
        "y = symbols('y')"
      ],
      "execution_count": null,
      "outputs": []
    },
    {
      "cell_type": "code",
      "metadata": {
        "colab": {
          "base_uri": "https://localhost:8080/"
        },
        "id": "5FoLPi71g_oP",
        "outputId": "d649400f-bde1-457c-a435-7b09b0c50201"
      },
      "source": [
        "diffeq = Eq(y*(2*x(y) - y + 1)*x(y).diff(y) + x(y)*(3*x(y) - 4*y + 3), 0)\n",
        "increase_font()\n",
        "display(diffeq)"
      ],
      "execution_count": null,
      "outputs": [
        {
          "output_type": "display_data",
          "data": {
            "application/javascript": [
              "for (rule of document.styleSheets[0].cssRules){if (rule.selectorText=='body') {rule.style.fontSize = '20px';break}}"
            ],
            "text/plain": [
              "<IPython.core.display.Javascript object>"
            ]
          },
          "metadata": {}
        },
        {
          "output_type": "display_data",
          "data": {
            "text/latex": "$\\displaystyle y \\left(- y + 2 x{\\left(y \\right)} + 1\\right) \\frac{d}{d y} x{\\left(y \\right)} + \\left(- 4 y + 3 x{\\left(y \\right)} + 3\\right) x{\\left(y \\right)} = 0$",
            "text/plain": [
              "Eq(y*(-y + 2*x(y) + 1)*Derivative(x(y), y) + (-4*y + 3*x(y) + 3)*x(y), 0)"
            ]
          },
          "metadata": {}
        }
      ]
    },
    {
      "cell_type": "code",
      "metadata": {
        "colab": {
          "base_uri": "https://localhost:8080/"
        },
        "id": "I_VvLwK3jmKb",
        "outputId": "6dcf8e53-8f04-457b-bc6b-f4661fa30924"
      },
      "source": [
        "classify_ode(diffeq, x(y))"
      ],
      "execution_count": null,
      "outputs": [
        {
          "output_type": "execute_result",
          "data": {
            "text/plain": [
              "('factorable', '1st_exact', 'lie_group', '1st_exact_Integral')"
            ]
          },
          "metadata": {},
          "execution_count": 74
        }
      ]
    },
    {
      "cell_type": "code",
      "metadata": {
        "colab": {
          "base_uri": "https://localhost:8080/"
        },
        "id": "Ukp76mGahBKQ",
        "outputId": "afd8a319-44d2-4abb-adb5-5f37d6cff462"
      },
      "source": [
        "gensol = dsolve(diffeq, x(y), hint='1st_exact')\n",
        "increase_font()\n",
        "for solnum in range(len(gensol)):\n",
        "  print('Solution {}:'.format(solnum+1), end='')\n",
        "  display(gensol[solnum])"
      ],
      "execution_count": null,
      "outputs": [
        {
          "output_type": "display_data",
          "data": {
            "application/javascript": [
              "for (rule of document.styleSheets[0].cssRules){if (rule.selectorText=='body') {rule.style.fontSize = '20px';break}}"
            ],
            "text/plain": [
              "<IPython.core.display.Javascript object>"
            ]
          },
          "metadata": {}
        },
        {
          "output_type": "stream",
          "name": "stdout",
          "text": [
            "Solution 1:"
          ]
        },
        {
          "output_type": "display_data",
          "data": {
            "text/latex": "$\\displaystyle x{\\left(y \\right)} = \\frac{y}{2} - \\frac{1}{2} - \\frac{\\sqrt{y^{3} \\left(C_{1} + y^{5} - 2 y^{4} + y^{3}\\right)}}{2 y^{3}}$",
            "text/plain": [
              "Eq(x(y), y/2 - 1/2 - sqrt(y**3*(C1 + y**5 - 2*y**4 + y**3))/(2*y**3))"
            ]
          },
          "metadata": {}
        },
        {
          "output_type": "stream",
          "name": "stdout",
          "text": [
            "Solution 2:"
          ]
        },
        {
          "output_type": "display_data",
          "data": {
            "text/latex": "$\\displaystyle x{\\left(y \\right)} = \\frac{y}{2} - \\frac{1}{2} + \\frac{\\sqrt{y^{3} \\left(C_{1} + y^{5} - 2 y^{4} + y^{3}\\right)}}{2 y^{3}}$",
            "text/plain": [
              "Eq(x(y), y/2 - 1/2 + sqrt(y**3*(C1 + y**5 - 2*y**4 + y**3))/(2*y**3))"
            ]
          },
          "metadata": {}
        }
      ]
    },
    {
      "cell_type": "markdown",
      "metadata": {
        "id": "3EtY5A3uQLPc"
      },
      "source": [
        "## Bernoulli's Equation (BE)"
      ]
    },
    {
      "cell_type": "markdown",
      "metadata": {
        "id": "lr4Dz8XcSsNl"
      },
      "source": [
        "### BE Example 1:\n",
        "<img src=\"data:image/png;base64,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\" alt=\"be-1\" height=30 />"
      ]
    },
    {
      "cell_type": "code",
      "metadata": {
        "id": "zgZy7SyoSuWq"
      },
      "source": [
        "x = symbols('x')\n",
        "y = Function('y')"
      ],
      "execution_count": null,
      "outputs": []
    },
    {
      "cell_type": "code",
      "metadata": {
        "colab": {
          "base_uri": "https://localhost:8080/"
        },
        "id": "a7x3QE4xhOtr",
        "outputId": "9a7535e5-23aa-4202-d72b-9ca538ebfba3"
      },
      "source": [
        "diffeq = Eq(x*y(x) + (x**2 - 3*y(x))*y(x).diff(x), 0)\n",
        "increase_font()\n",
        "display(diffeq)"
      ],
      "execution_count": null,
      "outputs": [
        {
          "output_type": "display_data",
          "data": {
            "application/javascript": [
              "for (rule of document.styleSheets[0].cssRules){if (rule.selectorText=='body') {rule.style.fontSize = '20px';break}}"
            ],
            "text/plain": [
              "<IPython.core.display.Javascript object>"
            ]
          },
          "metadata": {}
        },
        {
          "output_type": "display_data",
          "data": {
            "text/latex": "$\\displaystyle x y{\\left(x \\right)} + \\left(x^{2} - 3 y{\\left(x \\right)}\\right) \\frac{d}{d x} y{\\left(x \\right)} = 0$",
            "text/plain": [
              "Eq(x*y(x) + (x**2 - 3*y(x))*Derivative(y(x), x), 0)"
            ]
          },
          "metadata": {}
        }
      ]
    },
    {
      "cell_type": "code",
      "metadata": {
        "colab": {
          "base_uri": "https://localhost:8080/"
        },
        "id": "tO4r3jKQhO8P",
        "outputId": "8f856fd6-d403-45fb-cd66-c41bd4318b7e"
      },
      "source": [
        "classify_ode(diffeq, y(x))"
      ],
      "execution_count": null,
      "outputs": [
        {
          "output_type": "execute_result",
          "data": {
            "text/plain": [
              "('1st_exact', '1st_power_series', 'lie_group', '1st_exact_Integral')"
            ]
          },
          "metadata": {},
          "execution_count": 78
        }
      ]
    },
    {
      "cell_type": "markdown",
      "metadata": {
        "id": "WUXCGtJVw4SN"
      },
      "source": [
        "The solution for this problem is: \n",
        "\n",
        "<img src=\"data:image/png;base64,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\" alt=\"be-1s\" height=30 />\n",
        "\n",
        "However, `dsolve()` is unable to recognize the form of the equation and thus cannot find a solution for `y(x)`. "
      ]
    },
    {
      "cell_type": "code",
      "metadata": {
        "id": "nrAng5eShPgr"
      },
      "source": [
        "# gensol = dsolve(diffeq, y(x))\n",
        "# increase_font()\n",
        "# display(gensol)"
      ],
      "execution_count": null,
      "outputs": []
    },
    {
      "cell_type": "markdown",
      "metadata": {
        "id": "HiOPRVDoSuul"
      },
      "source": [
        "### BE Example 2:\n",
        "<img src=\"data:image/png;base64,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\" alt=\"be-2\" height=30 />"
      ]
    },
    {
      "cell_type": "code",
      "metadata": {
        "id": "IDIpfX0JhePa"
      },
      "source": [
        "x = symbols('x')\n",
        "y = Function('y')"
      ],
      "execution_count": null,
      "outputs": []
    },
    {
      "cell_type": "code",
      "metadata": {
        "colab": {
          "base_uri": "https://localhost:8080/"
        },
        "id": "X8qtqvHLSvfj",
        "outputId": "0f0777ec-8300-43c2-d549-5002fcb9213d"
      },
      "source": [
        "diffeq = Eq((y(x)**4 - 2*x*y(x)) + 3*x**2*y(x).diff(x), 0)\n",
        "increase_font()\n",
        "display(diffeq)"
      ],
      "execution_count": null,
      "outputs": [
        {
          "output_type": "display_data",
          "data": {
            "application/javascript": [
              "for (rule of document.styleSheets[0].cssRules){if (rule.selectorText=='body') {rule.style.fontSize = '20px';break}}"
            ],
            "text/plain": [
              "<IPython.core.display.Javascript object>"
            ]
          },
          "metadata": {}
        },
        {
          "output_type": "display_data",
          "data": {
            "text/latex": "$\\displaystyle 3 x^{2} \\frac{d}{d x} y{\\left(x \\right)} - 2 x y{\\left(x \\right)} + y^{4}{\\left(x \\right)} = 0$",
            "text/plain": [
              "Eq(3*x**2*Derivative(y(x), x) - 2*x*y(x) + y(x)**4, 0)"
            ]
          },
          "metadata": {}
        }
      ]
    },
    {
      "cell_type": "code",
      "metadata": {
        "colab": {
          "base_uri": "https://localhost:8080/"
        },
        "id": "g8Ok_EQUn6ek",
        "outputId": "7a106df3-df8a-49cb-9628-8adae07fce30"
      },
      "source": [
        "classify_ode(diffeq, y(x))"
      ],
      "execution_count": null,
      "outputs": [
        {
          "output_type": "execute_result",
          "data": {
            "text/plain": [
              "('1st_exact', 'lie_group', '1st_exact_Integral')"
            ]
          },
          "metadata": {},
          "execution_count": 82
        }
      ]
    },
    {
      "cell_type": "code",
      "metadata": {
        "colab": {
          "base_uri": "https://localhost:8080/"
        },
        "id": "uK2nB5yJahF9",
        "outputId": "fa6bf002-d9dc-4d21-c817-fb4b3cb1d2ba"
      },
      "source": [
        "gensol = dsolve(diffeq, y(x))\n",
        "increase_font()\n",
        "for solnum in range(len(gensol)):\n",
        "  print('Solution {}:'.format(solnum+1), end='')\n",
        "  display(gensol[solnum])"
      ],
      "execution_count": null,
      "outputs": [
        {
          "output_type": "display_data",
          "data": {
            "application/javascript": [
              "for (rule of document.styleSheets[0].cssRules){if (rule.selectorText=='body') {rule.style.fontSize = '20px';break}}"
            ],
            "text/plain": [
              "<IPython.core.display.Javascript object>"
            ]
          },
          "metadata": {}
        },
        {
          "output_type": "stream",
          "name": "stdout",
          "text": [
            "Solution 1:"
          ]
        },
        {
          "output_type": "display_data",
          "data": {
            "text/latex": "$\\displaystyle y{\\left(x \\right)} = \\sqrt[3]{\\frac{x^{2}}{C_{1} + x}}$",
            "text/plain": [
              "Eq(y(x), (x**2/(C1 + x))**(1/3))"
            ]
          },
          "metadata": {}
        },
        {
          "output_type": "stream",
          "name": "stdout",
          "text": [
            "Solution 2:"
          ]
        },
        {
          "output_type": "display_data",
          "data": {
            "text/latex": "$\\displaystyle y{\\left(x \\right)} = \\frac{\\sqrt[3]{\\frac{x^{2}}{C_{1} + x}} \\left(-1 - \\sqrt{3} i\\right)}{2}$",
            "text/plain": [
              "Eq(y(x), (x**2/(C1 + x))**(1/3)*(-1 - sqrt(3)*I)/2)"
            ]
          },
          "metadata": {}
        },
        {
          "output_type": "stream",
          "name": "stdout",
          "text": [
            "Solution 3:"
          ]
        },
        {
          "output_type": "display_data",
          "data": {
            "text/latex": "$\\displaystyle y{\\left(x \\right)} = \\frac{\\sqrt[3]{\\frac{x^{2}}{C_{1} + x}} \\left(-1 + \\sqrt{3} i\\right)}{2}$",
            "text/plain": [
              "Eq(y(x), (x**2/(C1 + x))**(1/3)*(-1 + sqrt(3)*I)/2)"
            ]
          },
          "metadata": {}
        }
      ]
    },
    {
      "cell_type": "code",
      "metadata": {
        "colab": {
          "base_uri": "https://localhost:8080/"
        },
        "id": "D5r0jLoGpju5",
        "outputId": "96c9529e-1898-45b3-b1c3-baca8e872d06"
      },
      "source": [
        "# Solving directly with initial conditions triggers an error in SymPy; most likely a bug in the solver implementation\n",
        "# partsol = dsolve(diffeq, ics={y(2): 1})\n",
        "# increase_font()\n",
        "# for solnum in range(len(partsol)):\n",
        "#   print('Solution {}:'.format(solnum+1), end='')\n",
        "#   display(partsol[solnum])\n",
        "\n",
        "# Instead, we can simply solve for the constant C1, then substitute to the general solution to find the particular solution\n",
        "C1 = symbols('C1')\n",
        "C1_val = solve(gensol[0].subs({x:2}).subs({y(2):1}), C1)[0]\n",
        "partsol = []\n",
        "for solnum in range(len(gensol)):\n",
        "  C1_val = solve(gensol[solnum].subs({x:2}).subs({y(2):1}), C1)\n",
        "  if len(C1_val) == 1:\n",
        "    partsol.append(simplify(gensol[solnum].subs({C1:C1_val[0]})))\n",
        "\n",
        "increase_font()\n",
        "for solnum in range(len(partsol)):\n",
        "  print('Solution {}:'.format(solnum+1), end='')\n",
        "  display(partsol[solnum])"
      ],
      "execution_count": null,
      "outputs": [
        {
          "output_type": "display_data",
          "data": {
            "application/javascript": [
              "for (rule of document.styleSheets[0].cssRules){if (rule.selectorText=='body') {rule.style.fontSize = '20px';break}}"
            ],
            "text/plain": [
              "<IPython.core.display.Javascript object>"
            ]
          },
          "metadata": {}
        },
        {
          "output_type": "stream",
          "name": "stdout",
          "text": [
            "Solution 1:"
          ]
        },
        {
          "output_type": "display_data",
          "data": {
            "text/latex": "$\\displaystyle y{\\left(x \\right)} = \\sqrt[3]{\\frac{x^{2}}{x + 2}}$",
            "text/plain": [
              "Eq(y(x), (x**2/(x + 2))**(1/3))"
            ]
          },
          "metadata": {}
        }
      ]
    },
    {
      "cell_type": "markdown",
      "metadata": {
        "id": "U3fH8MAdTyd8"
      },
      "source": [
        "### BE Example 3:\n",
        "<img src=\"data:image/png;base64,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\" alt=\"be-3\" height=30 />"
      ]
    },
    {
      "cell_type": "code",
      "metadata": {
        "id": "4CThhtdfTyvs"
      },
      "source": [
        "x = symbols('x')\n",
        "y = Function('y')"
      ],
      "execution_count": null,
      "outputs": []
    },
    {
      "cell_type": "code",
      "metadata": {
        "colab": {
          "base_uri": "https://localhost:8080/"
        },
        "id": "gZLrWiPbh-zJ",
        "outputId": "a87ef063-ed7f-47f0-92e5-72caf8f34108"
      },
      "source": [
        "diffeq = Eq((2*y(x)**2 - x**3) + 3*x*y(x)**2*y(x).diff(x), 0)\n",
        "increase_font()\n",
        "display(diffeq)"
      ],
      "execution_count": null,
      "outputs": [
        {
          "output_type": "display_data",
          "data": {
            "application/javascript": [
              "for (rule of document.styleSheets[0].cssRules){if (rule.selectorText=='body') {rule.style.fontSize = '20px';break}}"
            ],
            "text/plain": [
              "<IPython.core.display.Javascript object>"
            ]
          },
          "metadata": {}
        },
        {
          "output_type": "display_data",
          "data": {
            "text/latex": "$\\displaystyle - x^{3} + 3 x y^{2}{\\left(x \\right)} \\frac{d}{d x} y{\\left(x \\right)} + 2 y^{2}{\\left(x \\right)} = 0$",
            "text/plain": [
              "Eq(-x**3 + 3*x*y(x)**2*Derivative(y(x), x) + 2*y(x)**2, 0)"
            ]
          },
          "metadata": {}
        }
      ]
    },
    {
      "cell_type": "code",
      "metadata": {
        "colab": {
          "base_uri": "https://localhost:8080/"
        },
        "id": "VHiJFYQywZ6c",
        "outputId": "63110c1a-cb69-496c-f625-8bb42c937645"
      },
      "source": [
        "classify_ode(diffeq, y(x))"
      ],
      "execution_count": null,
      "outputs": [
        {
          "output_type": "execute_result",
          "data": {
            "text/plain": [
              "('lie_group',)"
            ]
          },
          "metadata": {},
          "execution_count": 87
        }
      ]
    },
    {
      "cell_type": "markdown",
      "metadata": {
        "id": "XqbSyxv4xJ3v"
      },
      "source": [
        "The solution for this problem is: \n",
        "\n",
        "<img src=\"data:image/png;base64,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\" alt=\"be-3s\" height=30 />\n",
        "\n",
        "However, `dsolve()` is unable to recognize the form of the equation and thus cannot find a solution for `y(x)`. "
      ]
    },
    {
      "cell_type": "code",
      "metadata": {
        "id": "NjpKGh7NiFyw"
      },
      "source": [
        "# gensol = dsolve(diffeq, y(x))\n",
        "# increase_font()\n",
        "# display(gensol)"
      ],
      "execution_count": null,
      "outputs": []
    },
    {
      "cell_type": "code",
      "metadata": {
        "id": "TodXQfQ8iH12"
      },
      "source": [
        "# partsol = dsolve(diffeq, ics={y(1): 1})\n",
        "# increase_font()\n",
        "# display(partsol)"
      ],
      "execution_count": null,
      "outputs": []
    },
    {
      "cell_type": "markdown",
      "metadata": {
        "id": "evljgiq-QLmC"
      },
      "source": [
        "## Substitution"
      ]
    },
    {
      "cell_type": "markdown",
      "metadata": {
        "id": "s64NO6JLUQdX"
      },
      "source": [
        "### Substitution Example 1:\n",
        "<img src=\"data:image/png;base64,iVBORw0KGgoAAAANSUhEUgAAAvMAAAA1CAYAAADMK2RXAAAdmklEQVR4Ae2dP5IkNRPF4QbACSDgABABPlhgggUmmGCxLhi7JjiLuViLB97igAsR4AMHgOUAEHAD5ovffvEmct6oqqQq1Z/uTkVMqLq6Skq9zHxKZalrnrrKkggkAolAIpAIJAKJQCKQCCQCJ4nAUycpdQqdCCQCiUAikAgkAolAIpAIJAJXGcynESQCiUAikAgkAolAIpAIJAInikAG8yequBQ7EUgEEoFEIBFIBBKBRCARyGA+bSARSAQSgUQgEUgEEoFEIBE4UQS6BPP//vvviQ4/xU4EjoVA+tKx9HFUadJOjqqZlCsRuI1A+uttTPJMXwQWBfM//vjj1dtvv331zDPPXH3xxRd9JcvWEoELQwDCf+qpp65ef/319KcL033NcP/888+re/fuXb388stPOPe///6ruS2vSQQSgR0RgNefffbZJ7yO/2ZJBNZAYFYwTxDPhELgwV8G82uoJtu8NAR+/fXXq+eff/7ar/Ct+/fvXxoMOV5DgGDg448/fsKz4lwWfP/8849dmR8TgUTgaAiwCH/hhRdu8Dr+nCUR6IlAUzCvSUUTioJ4zmdJBBKBPgh8++23N4J6Fs5MCFuUN99888akI1+nzkzwFhq42QeJk7jAI4hn0ZclEUgETgsBeD0G9fD6Vr78+eefD/L6zz//fFpAprRFBKqDeQJ2ttRocmdS2SrAKEp+ISf/+OOPqy+//PLqww8/vCoFWpz75JNPrn777bcLQeQ0hvnNN988ebSKfuaWO3fuXPsbC+ctiB87wt54LCxfV53B/FxNzruPrYvoHfyVOGlpKbmjBa3jXIsPyueof/rpp+MIdyGSyHfefffdq1dfffWGPuBGeJ0AmetaC1tton5ZsK9dkJM5yceCHBnMr43+dPvoBluL8+6LL7745Bzf1ZSqYN4DeYL6zMbXwDvvmr///vtJQFVyvEgCfgzBcG+W/RCAGNGDdLMkmGcUBHRPP/30dXtbBPT0+/3331/3qbFkML+dXaF34U4gT1avpiR31KB07Guc9zOY30Zfc32HZFrrvEsAL/+m3iKgB0XkjPMJfWcwv419lXph4f7SSy/dsIVoFzomsJ9K2FYF8zEjz6OhDORLaulzjlWYFBhrsgBRmRyTrY/XcMxE0EosfSS/7FbAvKSPpcE8qHpgt9UTMbetDOa3sXEC95iRrw3kh7jjs88+q+aOv/76a5tBZi9FBErbITKYL0LV9SS+89xzz92YT8mScj5m3wl8Szw/Z97Fr8Wx+PtWiZq33nrrul/6z2C+qylVN+YJMzLzivGIJ/wJOfY4ZiOTwfxegUQ1Ih0vxKjlXNR7FCdzFCgFl+QpTeBkCjLwKqG1zjl3umhDEH+PEhfUbHHbosRxcHxuNuX+foTxkSjB54V9y9svkjuGvUJ4Uh81OCZojHLq+KjyDqN9et+475AJHUuKMe96hps2WkvkdX4bs0XJYH4LlMf7IKaLPE+cUJp/fI7inqGEy2jESgYwdkhgf87FgdtjrE4qBIpTJW7rYAJAZyXDmGonv29DAHt57bXXihOwJuI5BF+SgiBPbVJ/9dVXpcu6nov9cXxuNuX+foTxffDBB9d6ZtHW8hQ0uWPY/KMtHzU4dh6XzEeVdxjt0/vGfacG848++ujaV9EV825rwb/1FI42toixMphv1VL/66Ovs3Acm3v8SdBQ4D8azMeJhVVjy8TSf/jrt+iT+/o93u4hkgpKriml7HwNGdW0ndfcRsC31KCnr7/++snjSo41CVP3CuaRgteZqW0mgLWL+lI9Rjhry7JG++7ve4+PfbMx21e7vUbYJHcIidu1bJj6iNxI0kYyRj0eVd7bCJ/2mYg5gVYNF7BNIvoruhp7ij6EEIkZ6R5ef/z48dClXc5nMN8FxtmN+Lzz4MGD0bZKT+x+//33W/cMBvOelW953HurlxM54SDvIXYklZqsPDJCICID1UecsPbAc40+9QM1MjHuiFF/6ILPvYpn59fO4siWVNdMcL3GukU77u97j++dd9659mN+m9Raou0ld9xETzZMfTRuZLLWE3Cybp6cOZq8N5E9j0/Rd0jM1BT4w4N5zrUW5/W7d++2NtF0fQbzTXB1v5i98ZGPSoG5d6qYQ/d53MH1g8F8fH0Sq8Vzz8oDhk/uDuiRP0vJqnMCWE9b2AkOWdpTGScFdNEzmGdE77///jURrJ2dly2p3jvY7a1R9/c9x0fyJAYGWyZPpF/V58gdGhv10canyZ2AHk5xDjmavL398FTbgz+iz2Jb8ceyLeNyXl+TizKYb9FM32vx78hFU1ts1Du/g4z3lZ4eDQbz8Z8b8CONSyg+uZ/KmN1AjjhhnQqWS+X0ibh3MB8fyaLnsV+3Lx1LJA+O15xglso653739z3HF5MnYL3VG4suhTuiLR8pOI5vtNDTFOeQI8k7x8/O9R7fZlO7LbaER3yzDbb68OHD0mVdzmUw3wXGWY1Ef0fPpaC81LA/reNen6+KwTyGFVecLT+28wkykqiOeVVaLFP3bEVmLkeU8cjHLjc4l37xHH90IV14XcLaJxe/h89Z/o+AY9U7mPdHsmR0WgsBHIED9qDH+9Ip58gClGzKyYN+fbxqJ9a0FcvUPfHaNY99jKXxrdl/bPuVV165zrzM2WIT22o5dgzQW4k7StdFHXPstj51D99vVaKsJY7bSo7YD36o1yHyGF3F/WNK3hpeL2Ht/USMdCyZsr6NgP8A1u3/9h3DZ0q8PoePCPp40uO/3cK+tIXL7aVkG9L/WF0ajS8U/H76njOuUl+neM4z7LU2U+JST+QVo7AlWSIIaowkMDLfk8aeb98TJCPgehd6LSU6YGv107tdNxCcueQwfp0wpgZ/iAD9eeG8k0O8FwfN8n8E3PZrnbUFP36MLvxbt9ogTymAR4dDPqi+SjbFY2VtE9B1saZN/1HYmD1x/VbF/b00vi1k8S02/NB5q+KcMMQdNbyOXmOZ4nW3i3hv7+Nok1PBce++h9qLwWAMqJxDpuR1HcaxJq8Pob/sPPqKCU9wLs2dLb2wiJfu4PUWPiLj6/98CJngdf7UbqmOtid5ubd0LefgCPorlU8//fTW/KJ2mHew1ZZxlfo45XOui5b4QDiqdl4oBvPx3aetwYKAhtjVqWoCwjFF+kA9g6+216p9cl+rn57tQiAenJWcU30ygfr16KfmRxilScMncPVzqbVPxC3OWotZfKsNuqvdkhGDbmyg9CMagnP3Q/nvmO/667O4h3NDBbtVVpJrkWdoghhqY+l59/ex8S3ta+x+fxK65iP2KEeJO3yCiNdzfIq8jtyyYeqpMfqY1/iM7SkYdD9xDqmRd4jXa/ZwE4BFfDhOXh/WumPdI5CnN+f12rfa8JRVtoTumKd9YcHn0vzN9UPxAjYQ2+VaYripQl8+h8DvWy7ep2Tc63tPimprXY084B//PD4uBvMx87fkkS+Cxs4x+rEJMwYbe5CJT+41AO99jRM/DjtV/B50NKYXtYeTRn3W9KV7L6V2bPncu/iTs5p/Be7B9tTTrlJmZspGov9iJ1P2oWB+L6J3f58aX289qj3X56NHj/TVqrXbKvqqwWAJr/tT2VUHGBqPvFUTHIdbux/Co8qiYvu+rcn1Uiuv38eYawryxKBtym9r2jzHa8DJMQYrzvco8R90orv79+9PNusB91RwWFq4DQXzdO7bZgjSa4rvDe+ZqIm+vPZx7XhrMOEal3cMe2/T750M5snyxZuW/vjVJ/ghYmLVpn5xmD2KT+57yNDS59wMAeQjrFVPBXfIRZZH15cmoRbZz/VaJ/s1bNl/LDX1ikq3ayeBki6cjNH7VKCHXSlI4XpsZGiiY9JRADHECSW5ep5zXKbG17Pv2FZ8EgputRm52Ebr8VzuUD9zeL3G7tR+71q8Rb2XvWlMBICSp/R0zDmkVt4Sr9dkQ+F1+eKYz0r+S6rhCAJmkiFgI70R5NXqpRYv5/WpV1SibyVEkKsm8OQe6VpjYYxDhXkgXg8GNQXM1H6NXDVt6hq1u0W9tuxj2Gu8qj3B5nx6a+lOli+CtHT/JsYTnYBjz0RwjQT1R44ayBa1T+5b9Dm3j4gZ+gLXGuJWf56pLU0qulZ1dFDu3yv4kTxHrH0iXiOYL/nomC7kW/Lrmi1V2JeuVz3Wh3SBD0XyL5FhDCT3ytQir/t7zfg0zp513CsL1mvLsZQ7GDttxEAC/uFcLLGfvflCNkzdOwiLY546xvYlC75R0rVzSIu8zutTmVrkjdld7s9ymxukM2psHR21zLc1mJJQi/2wyC/Zh9qKi0Luq+VS/6/lUwFlTNDQT824ox1iXz1LxGjt49L8tWQsLu8U9rEvZIn3Twbz/uq7pcE8wvik6SQmIQk6fEKIg1n72OVcu78l7UdnaQ3k6dczr2A/RhzcIz1hUDUB4ZLxneq9PhGvEcy3kH4MHtBbjZ6FfSQOjqfsQ/eNYYB/Y6+0hw3Xtqm2e9bu73vJErc1tv7wbQ4eS7lDfYLf2MJNfLE3ryNvtOWW4Fhj7VWDhWQZehrq/tMir2dS6W+qxK0UNXvsp9o7h++dG6Qzr7HxIT224uBvtHn99ddH+VE8Kpk8STrUf9Q39zLWseJbc6a2YUWOr9ljP9b3uX0nXamewj6OX3yqe5uD+alHPbGzsWNfRUoQnccwewfyTooCYa26RTFjWE1953tW5658/ccYY6QUt9j0CsK21k/LpDilg6HvfUx87l18K9wY6bs8+Ftt0Op+Unsf4x3K/iiYgZha2qvB0Mfq8vf+3MvfCeAlG4F9b1widr24Q236RC97X5PXwV14bVFrrtKY59bRPsf8MF7H+Fp5qyWTGrfYwOs9isu/to56+eHY2MGJhRIYeRDN+ObOwbFPD+Z5YjfEBe4D8OrQtbEPjluD+Tj3M1bGP1bAQjrvgctYX6f2nXBR3WK7zcH8nB9h1AKqiVwDiYRf8+imth9dd46kgnPEbNgSZxH+UR9DhBCzea2Ti/Th9db66SW3jyN+9jHxuXdpCeZ9b3OLPLIL1UO2URofE0Cc9DiWDcEDvRfuyODYS+616hYiLmGkc1G+NYP5OMnS5xLukOzUvnATr6DzNXjdA5mI3xrHPYL5GBCBy1gW1e3YeUtJmKiDeOwLLPQxVIZejzl0fc15l38NncQ2e/lhzdi4Bu7yWAZ5CPaXlJZg3hflLcmR1mCeMfl4x8aqxSR2vgbPL8F473uj3XLcYruHCuYh9rjPUgPrNam4os6NVFB8r0AerOIEgy6YJEoBGw6JY3JNC2m4Pvzz1vrxSdHl6fHZx8Tn3qUlmHcCaCEP+afqkm2Mjc2DR9pZK8BDDsdecq9Vt2A5hlOUb61gvjd3xPFszeuMJWK29nGPYD764dR853YceQusNd6og3gMr8d5YmirA7yu+Rj5ehWXX/KuVffyw5bxg50vYpcGry3BvGPcYqNzgnnn8qGnOJFnkDHLTQTcB6a4IN7tCyrX+a0fwPqe+V7bbCQUK8pINAh4lOKTxFHkQg6fMFuMYGwcbiClrTYxCzC2Ih/r51K+c5Jdg9Bagnll8UQiLROf7lHdGsyjc38yMJYl3NpG3N/njK+HzHGbzRp75tfijjj2yBHYy5F4HTllw9QxOI5jWOs4YlODi3OI5EWPCiCngm9dp3Fzr5c4F3/33Xf+dX6eQAD+iLEMWC+Zl53Xx7bZ6Cmn9OuB3Zjoc4J5Fi/qi5qFS6m8995719dxT5abCEQMOW6JD/xe99lbwXzr65Fuijr9CVJxB2gZ0HQP86/wyX1+S33v9C0LQ6viOb1CPlEfpWBLAeFQhmdOv+d6j0/Ea9g2C67o2GNvPYjXcbx1MB8DGcnSIsOaduL+fo7BPNyh7Cv49+SOqBt4XfpVvYbtxz5bjiUTtYLjlvuXXKunmlGGpcdTwXwrr+9l+0twPcK9vmgieTG3eDA/9luo+KQHW1o7mGdMvoDwxF58IrQWz8zF9ij3efK0hSOdM5zHJoP5999/vxsOpUdTErCUOejWcWVDPrlX3rbqZWAWDQAn6Um8tB+DeV9x47DS0ZKsw6ogHajxLYJ5fzUlPjpkE9F20CPBdW2R3lUP9THUHj5dCmRYFB4ha+P+3jq+oXG3nvdXU/7zzz+tTRSvL3FH8cKFJ+nHgxrZzBF4neFJHmqfBBcOf/L22Hev46lgvoXXa19pODnQC7wg/uYA3U7pZQwiT9KM8bp+lyJ7YhFRy19zMvPIHWMB+vWFS/ytBoH9WkVj3qJeos/S+H0RVqs3/NnH6/q+Fcz7vq2l/zQqDkgrOwIMCDUKd4QJ3if3KPtexyhbOIGbK7CHXE5IccUt4/Mgv0e/59jGFsG8b4Xj9bFDdiH9yYaWZAKG+ijpMQaSTDyOSy2Jldrudc79vWV8vWSgHTJw0g91r38atQV3IL/4A35yTI/A68gY8d06mG+1FfeVufJKLxr7EK/vZfetuBzxetfVkuDPkzRjvF7qt1aPc4N58MefZU/U8DyFWk8A4Z01S+x/7eMl+ixhMFdvzqulWHAymOcHWT2KHrcTFOod5b663PvRjAPWY9xL2hBmGCxONPYGhCX9QPIxOy89sLqWs2CEWaYRcGddAzd/4xRb44ZKDOjQZUsQLd2rrp0skEV7JyEdFY7VFvXeGUH395bxaUw9aibtiMsPP/ywuNmtuIN+4A54Xdm4o/E6YEZ85wbHi5VS2YBzyFx5PZNa4vWW7RmV4l/UZa6rJYGs8/rDhw8HsYz+jW3jf7X8tSSYd9/W0/q4rWuuvQ4O1r6Ivrz2ce9g3ucc5K/Rm+sbPfh9t4J5cIuPfflB1tISB+Cb9n2Cj9mDpf223h/lBOQ9i+9BrX1czXUYYEnZY+PR66QYt7LwepLCOa3Ax9rI726/UWWNYJ6nZehEf+y1HCo+2dSSvtsffTl5TPUZAzyuJdjjnOTmWAv7obbWPO/+Xju+3jKxGIuL6fv37y/qwnVX+lF7qQPuY6Kv5Q7wk9xH5nXGKpujXjvYKGHbcs59dom8MZOKv1Eir6+VIGoZ7ylf64HxEr5nW02000ePHg1C49zFfbV+rgy6+qKt2hITfNyvxYvih1LGuLbtS7kuzoFgWOPfnpQr6boYsXqmaCxYmFIAQaCEL00SPvFwrTI8U233/t4dpHf7Le3FRQ6rstoioiagbwlOfAJhpS29KaNTK8MlX+c4LiH3IRx5WiYinlpsu39xnwdepX6cPLivxp5igFdamHuGYU/yd3+vGV8Jq6Xn2NqooBicl/5OaQvuiI/Va3l9z4Wb/IW6ZvJcqtMl9zuHLJHX23Je38vml+Czxr3Ml7KRFjv1wHhJ7BKTNPD61G9nND9LbvxwqsC/kWu4tyWYp/2IFffHJ/t7P22dGv8RvleMJr3xecwPYwzNPUOxXTGY90wRj3/mFk0s1EOlNMEPXbvmeZ/c1+xrrO1IwCiutkT5CcbGDMTbhISik0eiWEJQ3s+5f466k+P1HPOc37TE7Bwy4YtjGTkmfBFNrKfsCTvR5DY2sfhCYezanth5W9FfGOfU+Pz+np9feOGFa8ynFmhj/Ub7W5M7Iq8P4Vbi9aFrx8bU47tox0uC4x6yTLURdYjcS+TFJ+PYk9fL6McAtXbu9MC4xd9cCngdv5euxt5Qpns9KES3JG+GCt+Jn9UPdWsw7/ODbIp5Zi//HhrzEc+XfHJsPnYeHeKDYjDvmaK5P4KNxjZlMB5wTK1W1lCST+5r9DHVpq/CmDQhiak/x2/OXkh/ZIijQ2xZ6hGIkwL4oZeexV8dO7ZfXv06+SIXduUZKEhGgTb+52MZI2rsVgEe5D5GTk5myIOMWxf397HxrS3bnTt3ridy8JjzNHQr7oi8PjSxCC/npT14HVnAVH9TMkv2veqILzI/ePBgkSjux7SZvH4TUsdoKsPsgTGcB6/NLc7rNVvt6C8m4NArcnisBS9ogQhHkzyRL1D79VNjcJ5RW0vtdKrfc/redTC0gMTOtFgC5zH+LAbzgPbBBx9cK3xOpsgJCQMYK+5MCD7lUGPtzfnOJ/c5bSy9R04nB5lbzwnmCaicHFodfen4T/V+7NsdVLrDF5YQfcTEH8Wy8K4p7o+STYtFBeKcV6bcfXJoew5jj/dzPBUYq3/VENZYVqlmjK3XuL9Pydzafsv1BO/R9+Y8Dd2CO9yOxhZtjN9tCH1vzevIITujPnow33sBVFrMJ6/f9M6SnWLrjhOf3Qd6cFfc2lyzxUbSl+ZsbBwbYkxxXBzjr84T4nu1WVOXMJjigpp2L+maqBt0xmfNgcyp6DYG8syrYxgPBvNssI+TC6/DqykI40IiKMqXoLGdktBcrz9WLJ5BjPf3PPbJvWfbtW1F5QmDOfWcYB5dxMdw6DFLGQEIEHz488l3SF+RYOdg649i7927VxaucBbdOgG7nNhe3OeOjPEavmciiH7M9aXxk6UpLWA455NJ7IPvkHWL4v6+ZzDPeONWmzlvEVuTO9bg9ZJ9rKX3aGNHDebxJT0Zi/JyPDR/1uCFP0XbmMM9Nf2c8jVgHxMSjv/QZ/QyFmDVYOK8PvZ++VJ7vt2nJCu8qlLiX8bhCxddX6qdO+fEG6V2L+3cUALQdch1U/PiYDAPqG+88cb1ZF47uXgAEIXiO58wS4YV7+F4K0NxA93DsHzscz/PxSy+m5iVYZYyAmN2XquzcsvDZwne1TbZmzlbMbBxAoY4uTOJMSE4WcRr1C91DAbieT+OE4hGVYNby6SidufU7u/OTXPaXHKP/1ap9MaCsfYd/7mfS9wxpje+c+xqeL1kH2PjW/JdxOKIwbzbYpQ3HjvOtZjEhXzy+jBqLDDBR8kaT1QoIQNf9lqMOq//8ssvwwIOfIMs6DjKyzHjcDn12uBoVzoeaL54Ova1VcK1KMiJn0Q/6MkXk3wu6W9ouKPBvD/6rdmfO9TRKZx3Qj0FmXvLqGAeR81yHAQ8e9OSlT/OKI4lifv73ECp56heeeWV6wUbrwjO0gcBBSvURwzm+4xyuBUF88nrwxjt8Q28Ht9ONvaPovaQb6xPBfPY1hG4c0zWS/huNJgHgPjDrDl75y8BxHMZIytEba0i85DlOAjEPZWQP5NAlvND4NISKOenweONCF7XYiZ5/Vj6iVn5U+J1nl7IpuK2y2Ohe1nSTAbzwBH/iRT/ejzLeSKgrDzbK3zLxXmO+DRGFf8zIAtq/u13lvNFgN8naaJE363bbc4XmRzZHASUlU9en4Peeve4n5/Szgdl5eOWy/WQypZrEKgK5v0RP1nCLOeFQMzKb7mX9bxQ7D8aAve4d732h+j9JckWt0Qg/jdIMnYZ0G+J/vn0FbPyyevH0Sv+zEJdi/Y5b6/aazQxK89WxSzHQKAqmEdUN765754/xrBTCkdAP4rJ7I0js99nCF6ET52B/H662KPnuLUqM/R7aOD0+9TbcZLXj6NLMvDidYL5UwrkeWKfWfnj2FKUpDqY5yYy9HHLDccZYEQ4j32sN1L4vklW2torX3qTxbFHdX7SsXD298mf0iPY89PIfiOKW6yY+POp6H66OGrPY7yuzG9m5ffXHr+HiU/cjpygkd34E0Ft2eL7zMrvb1NRgqZgXjf6BENQ/8MPP+jrrA+KgEiflTWPXykE9trGwfml78w96NBPQiyRvbI21AT1jx8/Pgn5U8h1EGBCjUkUBfX5Bol18D61Vmt4PX8DtZ9W4XUW4eJ1/JffHnL+qEXBPE92iAmwH16TGM8fVfZLlWtWMC+wCOr1WqW7d+/qdNYHRUCkL4eMNQG9r8IPOoyzFYsnX+gE0ieDk/o4W1XPGhhPZ5TZI7jPYH4WjGd30xSv59tG9lU5vM6Tb3idIP4UeD3GBn7M+89zcbivTZV6XxTMq0F+pIfBZjk2AkOkn4H8cfSWvnQcXRxZknyj0ZG1s61sY7yegfy2uhjqjQD+lGIkD+D1OQP5IQ3vf75LML//MFKCGgR4TKYfr+CcHHMuV9k16OU1iUAikAgcD4Hk9ePp5NQlYoGo7bfECgTx/lu7Ux/jucmfwfy5aTTHkwgkAolAIpAIJAKJQCJwMQhkMH8xqs6BJgKJQCKQCCQCiUAikAicGwIZzJ+bRnM8iUAikAgkAolAIpAIJAIXg8D/ALWxnx5QW1wZAAAAAElFTkSuQmCC\" alt=\"subs-1\" height=30 />"
      ]
    },
    {
      "cell_type": "code",
      "metadata": {
        "id": "ng4ibOoPUQ6A"
      },
      "source": [
        "x = symbols('x')\n",
        "y = Function('y')"
      ],
      "execution_count": null,
      "outputs": []
    },
    {
      "cell_type": "code",
      "metadata": {
        "colab": {
          "base_uri": "https://localhost:8080/"
        },
        "id": "KV0k-WSaiKs_",
        "outputId": "f8fa3f32-22ad-4818-acbc-0606a376912e"
      },
      "source": [
        "diffeq = Eq((x+2*y(x)-1) + (2*x + 4*y(x) - 3)*y(x).diff(x), 0)\n",
        "increase_font()\n",
        "display(diffeq)"
      ],
      "execution_count": null,
      "outputs": [
        {
          "output_type": "display_data",
          "data": {
            "application/javascript": [
              "for (rule of document.styleSheets[0].cssRules){if (rule.selectorText=='body') {rule.style.fontSize = '20px';break}}"
            ],
            "text/plain": [
              "<IPython.core.display.Javascript object>"
            ]
          },
          "metadata": {}
        },
        {
          "output_type": "display_data",
          "data": {
            "text/latex": "$\\displaystyle x + \\left(2 x + 4 y{\\left(x \\right)} - 3\\right) \\frac{d}{d x} y{\\left(x \\right)} + 2 y{\\left(x \\right)} - 1 = 0$",
            "text/plain": [
              "Eq(x + (2*x + 4*y(x) - 3)*Derivative(y(x), x) + 2*y(x) - 1, 0)"
            ]
          },
          "metadata": {}
        }
      ]
    },
    {
      "cell_type": "code",
      "metadata": {
        "colab": {
          "base_uri": "https://localhost:8080/"
        },
        "id": "BNP99fDOiK9y",
        "outputId": "6fab3315-b9ec-4000-f617-1036e2bf0684"
      },
      "source": [
        "classify_ode(diffeq, y(x))"
      ],
      "execution_count": null,
      "outputs": [
        {
          "output_type": "execute_result",
          "data": {
            "text/plain": [
              "('1st_exact', '1st_power_series', 'lie_group', '1st_exact_Integral')"
            ]
          },
          "metadata": {},
          "execution_count": 92
        }
      ]
    },
    {
      "cell_type": "code",
      "metadata": {
        "colab": {
          "base_uri": "https://localhost:8080/"
        },
        "id": "C7i38mZ7iLZu",
        "outputId": "2b9e7bbf-21ec-478d-f28c-5eebd1583f65"
      },
      "source": [
        "gensol = dsolve(diffeq, y(x))\n",
        "increase_font()\n",
        "for solnum in range(len(gensol)):\n",
        "  print('Solution {}:'.format(solnum+1), end='')\n",
        "  display(gensol[solnum])"
      ],
      "execution_count": null,
      "outputs": [
        {
          "output_type": "display_data",
          "data": {
            "application/javascript": [
              "for (rule of document.styleSheets[0].cssRules){if (rule.selectorText=='body') {rule.style.fontSize = '20px';break}}"
            ],
            "text/plain": [
              "<IPython.core.display.Javascript object>"
            ]
          },
          "metadata": {}
        },
        {
          "output_type": "stream",
          "name": "stdout",
          "text": [
            "Solution 1:"
          ]
        },
        {
          "output_type": "display_data",
          "data": {
            "text/latex": "$\\displaystyle y{\\left(x \\right)} = - \\frac{x}{2} - \\frac{\\sqrt{C_{1} - 4 x}}{4} + \\frac{3}{4}$",
            "text/plain": [
              "Eq(y(x), -x/2 - sqrt(C1 - 4*x)/4 + 3/4)"
            ]
          },
          "metadata": {}
        },
        {
          "output_type": "stream",
          "name": "stdout",
          "text": [
            "Solution 2:"
          ]
        },
        {
          "output_type": "display_data",
          "data": {
            "text/latex": "$\\displaystyle y{\\left(x \\right)} = - \\frac{x}{2} + \\frac{\\sqrt{C_{1} - 4 x}}{4} + \\frac{3}{4}$",
            "text/plain": [
              "Eq(y(x), -x/2 + sqrt(C1 - 4*x)/4 + 3/4)"
            ]
          },
          "metadata": {}
        }
      ]
    },
    {
      "cell_type": "markdown",
      "metadata": {
        "id": "rXNVAKBLUZ2i"
      },
      "source": [
        "### Substitution Example 2:\n",
        "<img src=\"data:image/png;base64,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\" alt=\"subs-2\" height=50 />"
      ]
    },
    {
      "cell_type": "code",
      "metadata": {
        "id": "t6YOv2loUaQv"
      },
      "source": [
        "x = symbols('x')\n",
        "y = Function('y')"
      ],
      "execution_count": null,
      "outputs": []
    },
    {
      "cell_type": "code",
      "metadata": {
        "colab": {
          "base_uri": "https://localhost:8080/"
        },
        "id": "wUKa9Sc_iVho",
        "outputId": "8b7ca5bb-8d7b-4f19-9aeb-a581b04f4990"
      },
      "source": [
        "diffeq = Eq(y(x).diff(x), (9*x + 4*y(x) + 1)**2)\n",
        "increase_font()\n",
        "display(diffeq)"
      ],
      "execution_count": null,
      "outputs": [
        {
          "output_type": "display_data",
          "data": {
            "application/javascript": [
              "for (rule of document.styleSheets[0].cssRules){if (rule.selectorText=='body') {rule.style.fontSize = '20px';break}}"
            ],
            "text/plain": [
              "<IPython.core.display.Javascript object>"
            ]
          },
          "metadata": {}
        },
        {
          "output_type": "display_data",
          "data": {
            "text/latex": "$\\displaystyle \\frac{d}{d x} y{\\left(x \\right)} = \\left(9 x + 4 y{\\left(x \\right)} + 1\\right)^{2}$",
            "text/plain": [
              "Eq(Derivative(y(x), x), (9*x + 4*y(x) + 1)**2)"
            ]
          },
          "metadata": {}
        }
      ]
    },
    {
      "cell_type": "code",
      "metadata": {
        "colab": {
          "base_uri": "https://localhost:8080/"
        },
        "id": "sIr0phlQy8CA",
        "outputId": "c68305a7-700d-497c-d1e9-0b5400eb0d0a"
      },
      "source": [
        "classify_ode(diffeq, y(x))"
      ],
      "execution_count": null,
      "outputs": [
        {
          "output_type": "execute_result",
          "data": {
            "text/plain": [
              "('1st_power_series', 'lie_group')"
            ]
          },
          "metadata": {},
          "execution_count": 96
        }
      ]
    },
    {
      "cell_type": "markdown",
      "metadata": {
        "id": "Q0XLWVQIzGVN"
      },
      "source": [
        "The solution for this problem is: \n",
        "\n",
        "<img src=\"data:image/png;base64,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\" alt=\"subs-2s\" height=30 />\n",
        "\n",
        "However, `dsolve()` is unable to recognize the form of the equation and was only able to find a power series solution for `y(x)`. "
      ]
    },
    {
      "cell_type": "code",
      "metadata": {
        "colab": {
          "base_uri": "https://localhost:8080/"
        },
        "id": "zQGtBNOJiakE",
        "outputId": "a74d9e58-f7c1-4856-c7b7-b6719ff5ea1e"
      },
      "source": [
        "gensol = dsolve(diffeq, y(x))\n",
        "increase_font()\n",
        "display(gensol)"
      ],
      "execution_count": null,
      "outputs": [
        {
          "output_type": "display_data",
          "data": {
            "application/javascript": [
              "for (rule of document.styleSheets[0].cssRules){if (rule.selectorText=='body') {rule.style.fontSize = '20px';break}}"
            ],
            "text/plain": [
              "<IPython.core.display.Javascript object>"
            ]
          },
          "metadata": {}
        },
        {
          "output_type": "display_data",
          "data": {
            "text/latex": "$\\displaystyle y{\\left(x \\right)} = x \\left(16 C_{1}^{2} + 8 C_{1} + 1\\right) + x^{2} \\left(36 C_{1} + 4 \\left(4 C_{1} + 1\\right) \\left(16 C_{1}^{2} + 8 C_{1} + 1\\right) + 9\\right) + \\frac{x^{3} \\left(576 C_{1}^{2} + 288 C_{1} + 72 \\left(4 C_{1} + 1\\right)^{2} + 4 \\left(16 C_{1}^{2} + 8 C_{1} + 1\\right) \\left(64 C_{1}^{2} + 32 C_{1} + 8 \\left(4 C_{1} + 1\\right)^{2} + 13\\right) + 117\\right)}{3} + \\frac{2 x^{4} \\left(972 C_{1} + 108 \\left(4 C_{1} + 1\\right) \\left(16 C_{1}^{2} + 8 C_{1} + 1\\right) + 9 \\left(4 C_{1} + 1\\right) \\left(64 C_{1}^{2} + 32 C_{1} + 8 \\left(4 C_{1} + 1\\right)^{2} + 13\\right) + 4 \\left(16 C_{1}^{2} + 8 C_{1} + 1\\right) \\left(108 C_{1} + 12 \\left(4 C_{1} + 1\\right) \\left(16 C_{1}^{2} + 8 C_{1} + 1\\right) + \\left(4 C_{1} + 1\\right) \\left(64 C_{1}^{2} + 32 C_{1} + 8 \\left(4 C_{1} + 1\\right)^{2} + 13\\right) + 27\\right) + 243\\right)}{3} + \\frac{8 x^{5} \\left(5184 C_{1}^{2} + 2592 C_{1} + 1134 \\left(4 C_{1} + 1\\right)^{2} + 18 \\left(4 C_{1} + 1\\right) \\left(108 C_{1} + 12 \\left(4 C_{1} + 1\\right) \\left(16 C_{1}^{2} + 8 C_{1} + 1\\right) + \\left(4 C_{1} + 1\\right) \\left(64 C_{1}^{2} + 32 C_{1} + 8 \\left(4 C_{1} + 1\\right)^{2} + 13\\right) + 27\\right) + 36 \\left(16 C_{1}^{2} + 8 C_{1} + 1\\right) \\left(64 C_{1}^{2} + 32 C_{1} + 14 \\left(4 C_{1} + 1\\right)^{2} + 13\\right) + 4 \\left(16 C_{1}^{2} + 8 C_{1} + 1\\right) \\left(576 C_{1}^{2} + 288 C_{1} + 126 \\left(4 C_{1} + 1\\right)^{2} + 2 \\left(4 C_{1} + 1\\right) \\left(108 C_{1} + 12 \\left(4 C_{1} + 1\\right) \\left(16 C_{1}^{2} + 8 C_{1} + 1\\right) + \\left(4 C_{1} + 1\\right) \\left(64 C_{1}^{2} + 32 C_{1} + 8 \\left(4 C_{1} + 1\\right)^{2} + 13\\right) + 27\\right) + 4 \\left(16 C_{1}^{2} + 8 C_{1} + 1\\right) \\left(64 C_{1}^{2} + 32 C_{1} + 14 \\left(4 C_{1} + 1\\right)^{2} + 13\\right) + 117\\right) + 1053\\right)}{15} + C_{1} + O\\left(x^{6}\\right)$",
            "text/plain": [
              "Eq(y(x), x*(16*C1**2 + 8*C1 + 1) + x**2*(36*C1 + 4*(4*C1 + 1)*(16*C1**2 + 8*C1 + 1) + 9) + x**3*(576*C1**2 + 288*C1 + 72*(4*C1 + 1)**2 + 4*(16*C1**2 + 8*C1 + 1)*(64*C1**2 + 32*C1 + 8*(4*C1 + 1)**2 + 13) + 117)/3 + 2*x**4*(972*C1 + 108*(4*C1 + 1)*(16*C1**2 + 8*C1 + 1) + 9*(4*C1 + 1)*(64*C1**2 + 32*C1 + 8*(4*C1 + 1)**2 + 13) + 4*(16*C1**2 + 8*C1 + 1)*(108*C1 + 12*(4*C1 + 1)*(16*C1**2 + 8*C1 + 1) + (4*C1 + 1)*(64*C1**2 + 32*C1 + 8*(4*C1 + 1)**2 + 13) + 27) + 243)/3 + 8*x**5*(5184*C1**2 + 2592*C1 + 1134*(4*C1 + 1)**2 + 18*(4*C1 + 1)*(108*C1 + 12*(4*C1 + 1)*(16*C1**2 + 8*C1 + 1) + (4*C1 + 1)*(64*C1**2 + 32*C1 + 8*(4*C1 + 1)**2 + 13) + 27) + 36*(16*C1**2 + 8*C1 + 1)*(64*C1**2 + 32*C1 + 14*(4*C1 + 1)**2 + 13) + 4*(16*C1**2 + 8*C1 + 1)*(576*C1**2 + 288*C1 + 126*(4*C1 + 1)**2 + 2*(4*C1 + 1)*(108*C1 + 12*(4*C1 + 1)*(16*C1**2 + 8*C1 + 1) + (4*C1 + 1)*(64*C1**2 + 32*C1 + 8*(4*C1 + 1)**2 + 13) + 27) + 4*(16*C1**2 + 8*C1 + 1)*(64*C1**2 + 32*C1 + 14*(4*C1 + 1)**2 + 13) + 117) + 1053)/15 + C1 + O(x**6))"
            ]
          },
          "metadata": {}
        }
      ]
    },
    {
      "cell_type": "markdown",
      "metadata": {
        "id": "uHbFWdfSUHvZ"
      },
      "source": [
        "## Coefficients Linear in the Two Variables (CLTV)"
      ]
    },
    {
      "cell_type": "markdown",
      "metadata": {
        "id": "xaRR0ItIUPUk"
      },
      "source": [
        "### CLTV Example 1:\n",
        "<img src=\"data:image/png;base64,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\" alt=\"subs-1\" height=30 />"
      ]
    },
    {
      "cell_type": "code",
      "metadata": {
        "id": "mGNoc06zUP9k"
      },
      "source": [
        "x = symbols('x')\n",
        "y = Function('y')"
      ],
      "execution_count": null,
      "outputs": []
    },
    {
      "cell_type": "code",
      "metadata": {
        "colab": {
          "base_uri": "https://localhost:8080/"
        },
        "id": "sF-1IwcVikQM",
        "outputId": "405cdb03-6a6a-4dec-93b4-3417e4b7ffc6"
      },
      "source": [
        "diffeq = Eq((x + y(x) - 1) + (2*x + 2*y(x) + 1)*y(x).diff(x), 0)\n",
        "increase_font()\n",
        "display(diffeq)"
      ],
      "execution_count": null,
      "outputs": [
        {
          "output_type": "display_data",
          "data": {
            "application/javascript": [
              "for (rule of document.styleSheets[0].cssRules){if (rule.selectorText=='body') {rule.style.fontSize = '20px';break}}"
            ],
            "text/plain": [
              "<IPython.core.display.Javascript object>"
            ]
          },
          "metadata": {}
        },
        {
          "output_type": "display_data",
          "data": {
            "text/latex": "$\\displaystyle x + \\left(2 x + 2 y{\\left(x \\right)} + 1\\right) \\frac{d}{d x} y{\\left(x \\right)} + y{\\left(x \\right)} - 1 = 0$",
            "text/plain": [
              "Eq(x + (2*x + 2*y(x) + 1)*Derivative(y(x), x) + y(x) - 1, 0)"
            ]
          },
          "metadata": {}
        }
      ]
    },
    {
      "cell_type": "code",
      "metadata": {
        "colab": {
          "base_uri": "https://localhost:8080/"
        },
        "id": "bnyfwB59im0F",
        "outputId": "99d5b9a1-d07a-441c-c99b-34ef90e6918f"
      },
      "source": [
        "classify_ode(diffeq, y(x))"
      ],
      "execution_count": null,
      "outputs": [
        {
          "output_type": "execute_result",
          "data": {
            "text/plain": [
              "('1st_power_series', 'lie_group')"
            ]
          },
          "metadata": {},
          "execution_count": 100
        }
      ]
    },
    {
      "cell_type": "markdown",
      "metadata": {
        "id": "WvwNq4MMzfqN"
      },
      "source": [
        "The solution for this problem is: \n",
        "\n",
        "<img src=\"data:image/png;base64,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\" alt=\"cltv-1s\" height=30 />\n",
        "\n",
        "However, `dsolve()` is unable to recognize the form of the equation and thus cannot find a solution for `y(x)`. "
      ]
    },
    {
      "cell_type": "code",
      "metadata": {
        "id": "WNuxiSbGilyC"
      },
      "source": [
        "# gensol = dsolve(diffeq, y(x))\n",
        "# increase_font()\n",
        "# display(gensol)"
      ],
      "execution_count": null,
      "outputs": []
    },
    {
      "cell_type": "markdown",
      "metadata": {
        "id": "jzDYsD4IUdSU"
      },
      "source": [
        "### CLTV Example 2:\n",
        "<img src=\"data:image/png;base64,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\" alt=\"subs-2\" height=30 />"
      ]
    },
    {
      "cell_type": "code",
      "metadata": {
        "id": "7qJjeGu6UdmI"
      },
      "source": [
        "x = symbols('x')\n",
        "y = Function('y')"
      ],
      "execution_count": null,
      "outputs": []
    },
    {
      "cell_type": "code",
      "metadata": {
        "colab": {
          "base_uri": "https://localhost:8080/"
        },
        "id": "AOeDUSh1ivBT",
        "outputId": "1976fbcb-e32f-422a-ebda-c196413eea91"
      },
      "source": [
        "diffeq = Eq((x - 4*y(x) - 9) + (4*x + y(x) - 2)*y(x).diff(x), 0)\n",
        "increase_font()\n",
        "display(diffeq)"
      ],
      "execution_count": null,
      "outputs": [
        {
          "output_type": "display_data",
          "data": {
            "application/javascript": [
              "for (rule of document.styleSheets[0].cssRules){if (rule.selectorText=='body') {rule.style.fontSize = '20px';break}}"
            ],
            "text/plain": [
              "<IPython.core.display.Javascript object>"
            ]
          },
          "metadata": {}
        },
        {
          "output_type": "display_data",
          "data": {
            "text/latex": "$\\displaystyle x + \\left(4 x + y{\\left(x \\right)} - 2\\right) \\frac{d}{d x} y{\\left(x \\right)} - 4 y{\\left(x \\right)} - 9 = 0$",
            "text/plain": [
              "Eq(x + (4*x + y(x) - 2)*Derivative(y(x), x) - 4*y(x) - 9, 0)"
            ]
          },
          "metadata": {}
        }
      ]
    },
    {
      "cell_type": "code",
      "metadata": {
        "colab": {
          "base_uri": "https://localhost:8080/"
        },
        "id": "S6z5aYk4ivMl",
        "outputId": "ca458126-d7b0-4325-e484-11a200afdd37"
      },
      "source": [
        "gensol = dsolve(diffeq, y(x))\n",
        "increase_font()\n",
        "display(gensol)"
      ],
      "execution_count": null,
      "outputs": [
        {
          "output_type": "display_data",
          "data": {
            "application/javascript": [
              "for (rule of document.styleSheets[0].cssRules){if (rule.selectorText=='body') {rule.style.fontSize = '20px';break}}"
            ],
            "text/plain": [
              "<IPython.core.display.Javascript object>"
            ]
          },
          "metadata": {}
        },
        {
          "output_type": "display_data",
          "data": {
            "text/latex": "$\\displaystyle \\log{\\left(x - 1 \\right)} = C_{1} - \\log{\\left(\\sqrt{1 + \\frac{\\left(y{\\left(x \\right)} + 2\\right)^{2}}{\\left(x - 1\\right)^{2}}} \\right)} - 4 \\operatorname{atan}{\\left(\\frac{y{\\left(x \\right)} + 2}{x - 1} \\right)}$",
            "text/plain": [
              "Eq(log(x - 1), C1 - log(sqrt(1 + (y(x) + 2)**2/(x - 1)**2)) - 4*atan((y(x) + 2)/(x - 1)))"
            ]
          },
          "metadata": {}
        }
      ]
    },
    {
      "cell_type": "markdown",
      "metadata": {
        "id": "CUSjnDBUtV6v"
      },
      "source": [
        "## Homogeneous Linear Differential Equations with Constant Coefficients (HLDE)"
      ]
    },
    {
      "cell_type": "markdown",
      "metadata": {
        "id": "hnUpwKwx4LHJ"
      },
      "source": [
        "### HLDE Example 1.1:\n",
        "<img src=\"data:image/png;base64,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\" alt=\"hlde-1-1\" height=30 />"
      ]
    },
    {
      "cell_type": "code",
      "metadata": {
        "id": "VYRTXY28q0-W"
      },
      "source": [
        "x = symbols('x')\n",
        "y = Function('y')"
      ],
      "execution_count": null,
      "outputs": []
    },
    {
      "cell_type": "code",
      "metadata": {
        "colab": {
          "base_uri": "https://localhost:8080/"
        },
        "id": "Kz1QA5frMlPN",
        "outputId": "a4362e8b-9fed-443d-d76f-18c04def1b0d"
      },
      "source": [
        "D = symbols('D')\n",
        "deq = Eq((D**2+5*D+4)*(2*D**2+5*D+2),0)\n",
        "display(deq)\n",
        "expand(deq)"
      ],
      "execution_count": null,
      "outputs": [
        {
          "output_type": "display_data",
          "data": {
            "text/latex": "$\\displaystyle \\left(D^{2} + 5 D + 4\\right) \\left(2 D^{2} + 5 D + 2\\right) = 0$",
            "text/plain": [
              "Eq((D**2 + 5*D + 4)*(2*D**2 + 5*D + 2), 0)"
            ]
          },
          "metadata": {}
        },
        {
          "output_type": "execute_result",
          "data": {
            "text/latex": "$\\displaystyle 2 D^{4} + 15 D^{3} + 35 D^{2} + 30 D + 8 = 0$",
            "text/plain": [
              "Eq(2*D**4 + 15*D**3 + 35*D**2 + 30*D + 8, 0)"
            ]
          },
          "metadata": {},
          "execution_count": 106
        }
      ]
    },
    {
      "cell_type": "code",
      "metadata": {
        "colab": {
          "base_uri": "https://localhost:8080/"
        },
        "id": "gz8jscRqrReA",
        "outputId": "41cfb031-2eb5-4c61-852b-6d2421d9d518"
      },
      "source": [
        "diffeq = Eq(2*y(x).diff(x, x, x, x) + 15*y(x).diff(x, x, x) + 35*y(x).diff(x, x) + 30*y(x).diff(x) + 8*y(x), 0)\n",
        "increase_font()\n",
        "display(diffeq)"
      ],
      "execution_count": null,
      "outputs": [
        {
          "output_type": "display_data",
          "data": {
            "application/javascript": [
              "for (rule of document.styleSheets[0].cssRules){if (rule.selectorText=='body') {rule.style.fontSize = '20px';break}}"
            ],
            "text/plain": [
              "<IPython.core.display.Javascript object>"
            ]
          },
          "metadata": {}
        },
        {
          "output_type": "display_data",
          "data": {
            "text/latex": "$\\displaystyle 8 y{\\left(x \\right)} + 30 \\frac{d}{d x} y{\\left(x \\right)} + 35 \\frac{d^{2}}{d x^{2}} y{\\left(x \\right)} + 15 \\frac{d^{3}}{d x^{3}} y{\\left(x \\right)} + 2 \\frac{d^{4}}{d x^{4}} y{\\left(x \\right)} = 0$",
            "text/plain": [
              "Eq(8*y(x) + 30*Derivative(y(x), x) + 35*Derivative(y(x), (x, 2)) + 15*Derivative(y(x), (x, 3)) + 2*Derivative(y(x), (x, 4)), 0)"
            ]
          },
          "metadata": {}
        }
      ]
    },
    {
      "cell_type": "code",
      "metadata": {
        "colab": {
          "base_uri": "https://localhost:8080/"
        },
        "id": "YAfBYGehrzzh",
        "outputId": "c7e29245-4061-4261-8f12-5c0637644d58"
      },
      "source": [
        "classify_ode(diffeq, y(x))"
      ],
      "execution_count": null,
      "outputs": [
        {
          "output_type": "execute_result",
          "data": {
            "text/plain": [
              "('nth_linear_constant_coeff_homogeneous',)"
            ]
          },
          "metadata": {},
          "execution_count": 108
        }
      ]
    },
    {
      "cell_type": "code",
      "metadata": {
        "colab": {
          "base_uri": "https://localhost:8080/"
        },
        "id": "G5vANTNcrq3Q",
        "outputId": "1e8298b6-4ba3-4f6f-d62d-6f36247f9a2c"
      },
      "source": [
        "gensol = dsolve(diffeq, y(x))\n",
        "increase_font()\n",
        "display(gensol)"
      ],
      "execution_count": null,
      "outputs": [
        {
          "output_type": "display_data",
          "data": {
            "application/javascript": [
              "for (rule of document.styleSheets[0].cssRules){if (rule.selectorText=='body') {rule.style.fontSize = '20px';break}}"
            ],
            "text/plain": [
              "<IPython.core.display.Javascript object>"
            ]
          },
          "metadata": {}
        },
        {
          "output_type": "display_data",
          "data": {
            "text/latex": "$\\displaystyle y{\\left(x \\right)} = C_{1} e^{- 4 x} + C_{2} e^{- 2 x} + C_{3} e^{- x} + C_{4} e^{- \\frac{x}{2}}$",
            "text/plain": [
              "Eq(y(x), C1*exp(-4*x) + C2*exp(-2*x) + C3*exp(-x) + C4*exp(-x/2))"
            ]
          },
          "metadata": {}
        }
      ]
    },
    {
      "cell_type": "markdown",
      "metadata": {
        "id": "PsOaA4Rw6ODD"
      },
      "source": [
        "### HLDE Example 1.2:\n",
        "<img src=\"data:image/png;base64,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\" alt=\"hlde-1-2\" height=30 />"
      ]
    },
    {
      "cell_type": "code",
      "metadata": {
        "id": "3ROTXT8d6Of2"
      },
      "source": [
        "x = symbols('x')\n",
        "y = Function('y')"
      ],
      "execution_count": null,
      "outputs": []
    },
    {
      "cell_type": "code",
      "metadata": {
        "colab": {
          "base_uri": "https://localhost:8080/"
        },
        "id": "6VPQxkHx6OtY",
        "outputId": "b34488a6-c3e0-48ff-a4e3-fd78e223c48d"
      },
      "source": [
        "diffeq = Eq(4*y(x).diff(x, x, x) - 13*y(x).diff(x) + 6*y(x), 0)\n",
        "increase_font()\n",
        "display(diffeq)"
      ],
      "execution_count": null,
      "outputs": [
        {
          "output_type": "display_data",
          "data": {
            "application/javascript": [
              "for (rule of document.styleSheets[0].cssRules){if (rule.selectorText=='body') {rule.style.fontSize = '20px';break}}"
            ],
            "text/plain": [
              "<IPython.core.display.Javascript object>"
            ]
          },
          "metadata": {}
        },
        {
          "output_type": "display_data",
          "data": {
            "text/latex": "$\\displaystyle 6 y{\\left(x \\right)} - 13 \\frac{d}{d x} y{\\left(x \\right)} + 4 \\frac{d^{3}}{d x^{3}} y{\\left(x \\right)} = 0$",
            "text/plain": [
              "Eq(6*y(x) - 13*Derivative(y(x), x) + 4*Derivative(y(x), (x, 3)), 0)"
            ]
          },
          "metadata": {}
        }
      ]
    },
    {
      "cell_type": "code",
      "metadata": {
        "colab": {
          "base_uri": "https://localhost:8080/"
        },
        "id": "BYtvJ3BT6Pg6",
        "outputId": "695b3ef5-3fda-4354-eb05-d451429f9c53"
      },
      "source": [
        "gensol = dsolve(diffeq, y(x))\n",
        "increase_font()\n",
        "display(gensol)"
      ],
      "execution_count": null,
      "outputs": [
        {
          "output_type": "display_data",
          "data": {
            "application/javascript": [
              "for (rule of document.styleSheets[0].cssRules){if (rule.selectorText=='body') {rule.style.fontSize = '20px';break}}"
            ],
            "text/plain": [
              "<IPython.core.display.Javascript object>"
            ]
          },
          "metadata": {}
        },
        {
          "output_type": "display_data",
          "data": {
            "text/latex": "$\\displaystyle y{\\left(x \\right)} = C_{1} e^{- 2 x} + C_{2} e^{\\frac{x}{2}} + C_{3} e^{\\frac{3 x}{2}}$",
            "text/plain": [
              "Eq(y(x), C1*exp(-2*x) + C2*exp(x/2) + C3*exp(3*x/2))"
            ]
          },
          "metadata": {}
        }
      ]
    },
    {
      "cell_type": "markdown",
      "metadata": {
        "id": "ZQsJaSny6nvM"
      },
      "source": [
        "### HLDE Example 1.3:\n",
        "<img src=\"data:image/png;base64,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\" alt=\"hlde-1-3\" height=50 />"
      ]
    },
    {
      "cell_type": "code",
      "metadata": {
        "id": "7qmHaOac6n7-"
      },
      "source": [
        "x = symbols('x')\n",
        "y = Function('y')"
      ],
      "execution_count": null,
      "outputs": []
    },
    {
      "cell_type": "code",
      "metadata": {
        "colab": {
          "base_uri": "https://localhost:8080/"
        },
        "id": "Ch8XOksb6oyS",
        "outputId": "80286f8e-8599-41b5-db0e-c1140b67776a"
      },
      "source": [
        "diffeq = Eq(y(x).diff(x, x, x) - 2*y(x).diff(x, x) - 3*y(x).diff(x), 0)\n",
        "increase_font()\n",
        "display(diffeq)"
      ],
      "execution_count": null,
      "outputs": [
        {
          "output_type": "display_data",
          "data": {
            "application/javascript": [
              "for (rule of document.styleSheets[0].cssRules){if (rule.selectorText=='body') {rule.style.fontSize = '20px';break}}"
            ],
            "text/plain": [
              "<IPython.core.display.Javascript object>"
            ]
          },
          "metadata": {}
        },
        {
          "output_type": "display_data",
          "data": {
            "text/latex": "$\\displaystyle - 3 \\frac{d}{d x} y{\\left(x \\right)} - 2 \\frac{d^{2}}{d x^{2}} y{\\left(x \\right)} + \\frac{d^{3}}{d x^{3}} y{\\left(x \\right)} = 0$",
            "text/plain": [
              "Eq(-3*Derivative(y(x), x) - 2*Derivative(y(x), (x, 2)) + Derivative(y(x), (x, 3)), 0)"
            ]
          },
          "metadata": {}
        }
      ]
    },
    {
      "cell_type": "code",
      "metadata": {
        "colab": {
          "base_uri": "https://localhost:8080/"
        },
        "id": "ZI86d4Ye6pWL",
        "outputId": "929ece10-b486-4afd-91db-0f2885ce550a"
      },
      "source": [
        "gensol = dsolve(diffeq, y(x))\n",
        "increase_font()\n",
        "display(gensol)"
      ],
      "execution_count": null,
      "outputs": [
        {
          "output_type": "display_data",
          "data": {
            "application/javascript": [
              "for (rule of document.styleSheets[0].cssRules){if (rule.selectorText=='body') {rule.style.fontSize = '20px';break}}"
            ],
            "text/plain": [
              "<IPython.core.display.Javascript object>"
            ]
          },
          "metadata": {}
        },
        {
          "output_type": "display_data",
          "data": {
            "text/latex": "$\\displaystyle y{\\left(x \\right)} = C_{1} + C_{2} e^{- x} + C_{3} e^{3 x}$",
            "text/plain": [
              "Eq(y(x), C1 + C2*exp(-x) + C3*exp(3*x))"
            ]
          },
          "metadata": {}
        }
      ]
    },
    {
      "cell_type": "markdown",
      "metadata": {
        "id": "S9cwSKIs6pxk"
      },
      "source": [
        "### HLDE Example 1.4:\n",
        "<img src=\"data:image/png;base64,iVBORw0KGgoAAAANSUhEUgAAAYIAAAA2CAYAAADK1p5eAAAAAXNSR0IArs4c6QAAAARnQU1BAACxjwv8YQUAAAAJcEhZcwAADsMAAA7DAcdvqGQAABAvSURBVHhe7Z1bjF3TG8D3/N8xyhMiU1MSIaGoB3EpCYpEKTGIyxRBK2HcRdFpFCWklWDqOvUy4xZtpHVNXFoR96mEeOlFRLwYdXs39m+dtU6/Wf+9z77PnHP290vWzDp777POOevyXda1ZyokUBRFUWrL/+x/RVEUpaaoIlAURak5qggURVFqjioCRVGUmqOKQFEUpeaoIlAURak5qggS+P3334NXXnklWL58ebBgwYKgp6enGRYtWhQ8++yz5hlFUZRORRVBC1AARxxxRHDZZZcFX331VfDCCy8ELLuYnJwMxsfHgy+//DK48cYbjULgmqIoSidSiiL4888/g1WrVpnQTfz888/Bnj17gv7+/uDdd98NjjnmGHP9gAMOCC699NLgkUceMa+//vrr4IEHHjBKQlHqCDJgyZIlwYYNG+wVpZMopAgo/FtvvTWYO3duMDw8HKxbt85c6zZWr15thL/PUUcdZWNBsGvXLhtTlPrx008/BZs2bQqWLl1quk2RC0rnkFsRoPkPO+wwI/xh7dq1we7du4Pe3l7zuhu46667jJWP9Z9EN/1uRcnKscceG/z7779GDgByYf78+cH27dvNa6XNYa+hrITWP30gJlxwwQVTf/zxh72Tj4GBgWZ6a9assVfjcc+mCSeccMLU2WefPfXoo49OhZXSplAOpOk+Z/PmzfZq/ZicnJxatmyZyYdt27bZq9kgjfHxcZMOZebyldDf32+ub9myxT4dD58v35sUqBvUv/Xr10/t3LnTpqI4osqF162YmJiYChVDM483btxo7yhVQL299957p7Wb/fff39TrpLJyZFYEocZvftjQ0NBUaAXYO/nwG24aRUDllELYBRq1DGSG/wxCZWxszKaUHzLYpUkhFM2HTgUBKvM5qzBFuEtDgEAZuTKU1wlc++233+y7o+E7+GnyHV2acWkTuJ5XmXUT5KFT7lF5lIaFCxc23/PRRx/Zq0qZIIdk+4uq2yiIpHaZSRGMjo42Ex8cHCws/BDoNHr5pdMoAodvOUZBBiCs/M8hs/j8LJAWGe8ymv91FRr8bj//CVnwlTnp+flJGaFo/eeSlAHv6+npab6HsooCL5H0faOBa3WFcpH5QX7ThrLWdXoK+vr6TBq9vb1Tu3fvtneUMpDGKGUkhT3xBQsWNO9Tnq3kXeqWS6FSmK5Q9+zZY+/kx2/ghCyKwLf6WkEm+BYOmZdWGcj3EchYGkySpu02ovJRhixIRZBUUf26MjIyYu/EM2fOnObzcYrA4TccAr+zTpD/sk1hPG3dutXezQeegEsPD6GunnPZYMC4fI1rO1yTbYCyjSN1y6UbyCXIGEFRsC7cj5DWehZF4FuUaVi+fPm09yQJCB8yl+4M5xUQEFJ1qOCyGwglGmVJZ0GWX1K5I6jTWPiSRYsWZXqesvWVAd+xDvDbKVP3u4kneV1pYRzRpfvSSy/Zq0oRpPxpVUd9GRk3Tpqq5eLSSW+g6OAwOOGPcJE/qmpFAPPmzZv2vrQDKj7SMs7yvTsRJ1QpNzlom7cMQL53x44d9mo80rpJ81lZFQGgcORnEOrg9UlPoEwlAMgPlzbyQ72CYkhvgNCqfvr1Oc7LTTV99OWXX26uDxgcHCw8VfKxxx4Lwi8YhBUuuOGGG+zVmePBBx+0sQZPPPGEjWVDphMKNSSTfdV9hFZdEHoAwRdffBGce+659mox3PRcQqhg7NV4TjzxRBurDqZEh43Fvmrw4osv2lh3Qnt89dVXTTz08IJ33nknOPDAA83rMujr6zMBkCO66KwYr7/+uo0Fpt1QZ+PgHnLW8f7779vYdFIpAllwixcvtrF8fPfdd8Hdd99t4m7O8UzDugAqvIOVwXyvrLDILLQ0TTz0koJPP/3UxLsRFPZDDz0UubBupnjvvfdsLGjmexX4xsnIyIiNdR8shHTtEZ555plSlYADA9Lx1ltvdbXRVDVSmEshHwd7pDkwwKMWvyYqgo8//tisGgQ8gYULF5p4Xq677jrzH6vr5JNPNvHZwF8k9vnnn9tYfg466CAbU8rGV9R4KFXBViLSQ0HJ5zEUOoHHH3/cxhrWZZrFk3m45ZZbbKwhU3wwotxmjlEBj9uHPb6iniXg5XQrGK6O4447zsbicd6Y49dff7WxvSQqgu1iZSCrB4tA4fAjsMb97pmZxu0b5Ihq6Pfdd5+pbK22j2DjOUhy0ZRisK+TsyLJ64svvtjEq8K3tH788Ucb6x6o19LbufPOO22sfDAiXZcy3UO+MjjyyCP/r0sOkBWbN2+e5rU4br755kjPkHSqrh+zRZ5eh0MPPdTGGnz22Wc2tpdERfDJJ5/YWDFFQKW75557TJxGLbsYnDCdSeQ+QRAl7L/55hvTHfHGG2/YK9OhULAW4cknnzSWiFI+7AIr+7Apjyq6LyS+pcUGhN3GBx98YGMNzjzzTBurBmmZSgMTkAd0S/nKgNdxY1JcZzNI2c07MDAQPP3002qUCQ455BAbiyeTR+Bb0Vm46aabjEUXNUDshGm7gjWCN+POHXBnFJx//vnm9Zo1a4LzzjvPxJXyIJ9XrFhhtgEH6s6HH35Y2DNVGrCtuoO8dcLTnb8xb968ZlfLnDlzTLcR9/Iiy23r1q02Np077rjDxhqkkQ1uEgEK4amnnipkkLXqbiojFB1HxJqX4ysnnXSSjRUjURG48QHIO1uIw1vcQJ+sfLOJPz4hByIdV199tbEwcD9RBlihFCb/mWmEtcLgS5TbquQDz+ztt982gujwww8PHn74YdPA6SPmTIiZUgJ+A0MBdRuyr/mss84y+Y7wR/HSZUTddiCQ8cq4h7DMcxiTlB9xuxSjjGhzjrhZLg6+h2u7tMfZnMzQybRUBFIJQB5FQMNm2iFajP9FvIoqke6lw1lAuJ98fxkQSsyiURe0PBAw9P/jXSGInDWIxbfffvvlEj5lkdcIald8y5T8Jt9pB+Pj40YJuLq+ZcuWaX3xCF7KKisyD33ZIrnqqqtsrDHLpdVAvezeuuaaa4yhVoSotl5mmM0JMq1oqQh8rZ2nMWDZcbgLFayd9ij3hcpMzFFXWnP88ccbgUOQg7UIHk6CwxOLmj1SBX///beNNUgzO6OT8H8fSnf9+vXGwMEAkgaO64uXljreRNZuIpS5E9RxHgHwedIwe+6554wQjcKtAcIbUKMsP4ldQ0XA1XRuGwM4WQf43JQy0imbdpwF0u79k1WDh4XAISCQaPxYo1IpMOGAedGTFR8N+v3339tYMRhbiiqLskJexej/Prz1pMWddNNJ8i7ETIMcNI5TONRn1711/fXXm/yoG7/88ouNFaMyRYDFfcUVV5g4Fl6e+ckoD9h3333N/ypRa6I9wTpEKUjBQOOf6cWI/hS8buOcc86xsXhoI7KLSI4xlM0ll1zSFOx4K1HG4NjYmPnPd2rXLueykV4VlDWbraUi8LuCWrlzPvfff3+zj3fHjh2momHxRgXJ888/b64xS6HIDIUkfvjhBxtr4C+6mA3q2j+ZBtadMJDpwDqNmvJbFt9++62NNUgzBS8KuY1GFWGmJyqcccYZNtYg70K7pG5mBLv0BPEMJZS9WwPBep+6eAP+tPc8HH300Ta2l0yKIAuykTLgQxdRXJC4Z50SqQq/AktLR2k/mA0i+6ihyvUn0tqlv7qTlWgUZXk4//zzj40l89dffxnlBWlky7XXXtsU8BiFclzPre1hckG3lU0r9tlnHxtr0GrQ3eEbvQcffLCN7SVREcgC8xeBtCKLdSthTr5/v4qClt4GlakurmUngyVThVvsg5Egp05Wte3CbJLXwylC1qnocnUwhqGcIYScgNWrV5v/ZUFvBHWsqlB0nM6XU2m8YhSwJErWJY4RyC4TP8FOhf5G6XEw0KS0P77wor+0Cl577TUba3D55ZfbWPfAlg6SqG0HovBlQBYjTXYtp1kP4nuBmzZtMv8x4mi/GHDdqKSTkL0XabxiuQbG96odiYpAbjKXxSNoZ4aHh22s4fbjgiozj7O+mAXke4ZR+Ksqy+gv9ZF9z0Cj68auB4Ss7IP3x0TiYNsVh3x/GqT8OPXUU22sNVdeeaWpI8CCNrqH3GylKgy4ThinkxsuohCTxmmksojbrDFREZx22mk2Fr1rYKfBdD5moTjY30RXI84u9MencZknJiZsrLq+YbZCcd4iRsJMrVuYDW6//XYb2ytkW4GSlGN6bifhNKAEZNdQ2hXizBqjrB1MQqG+1NmA8zfUY+eGOGTvB3kW60GFWqolYSKYYM1QxQHUMv0sJ32Fbs609yYRNuppzy+r2Zm0VcBxlTJPsxxwHlrbzfeF1mXLk6tIN7QMm8+PjY3ZO/FkObOYoxrDRtJ8npD35LpOIhSyzd+b1B5ke+N95FlaRkdHm+8NlUCmU8pWrFjRfK8LdW+7frsLFa29Mx159Gqr+pwsPUPkmaNr1661V8uByuTSJlDAaSsJwkO+NwrSJwNkhSdwRKZSDCpfaGVMy9cs5ScVAYHXOyOO3ZNnJaf9DMpdKo44RcDnYSDI9IlnUWidjF+G5K1/TCV5JJUAz8cJnjikDFm5cqW9mg4+X5YlIaqe1Anqt5R/xGWZcJ+ydPeJtyKVIpDavK+vz14tjl/BXBgZGTE/JA7u+dY9gcYugy/83TMTExM2JSUL5DkBa4R89PPWBfKdcnXPxwlV7kkh5AKV2pWhvM6z1I0kouoV73VpuhD12TSYVnWvG0GA+G3F5ZFvbHEtqxCmV6FXnHm+a9cueyc90rJNEmp1gXpKebh8Ibi2I6/RXpNIpQgABeASLkOQIhzkl/UDPybO6ot6Piq4xk/FwaqsuxVRFN8qSxsQ+K2gLvAMZeULJKdU8OrSCOikeiUDafOZNJS06Xcz5AF5HaUUyKO8XtLw8HAzraGhoUzdQg6+m0sj7/foVly5ScOGMkTupfXcevgTvjERpm5deOGFJs5AD7MM3Gi+oihKFEwZnTt3rvnP2gHkBq+zwiQPVlGHSsnM7FHKJXHWkINpR27qUahlmnN6FUVR4li1alVz/cDKlStzKQFmM4Ueo4lzPKVSPqkVAYyOjjanfS1ZsmTadD5FURTJunXrTIDBwcFgaGjIxLPCBoNsZd/f32+mkyrlk7pryIF2nz9/vpkTjKv35ptvBqeffrq9qyiK0lAC7vwRFqVu3Lgx1bYSPqwvYfEZYmrbtm1dubivHcjkEQCFiSeAMkApsBthOx04oyjK7IFMWLp0aVMm4AWkUQKsjmWlOWdUO7i2ePFiowQGBgZUCVQJHkFeWFPgZpKEBW1mBCiKUj9YaEr7Rw44ecC087TI2V7+FEhmw/hrG5Ryydw15IMFsGHDBjMoxAZ1Om6gKPUDOcAZImxJgxXPmECSFyChC+iUU06xr/YSKgGzaVraLSmUfBRWBBLGDdrhgBdFUWYeZhPmFdh0A1100UXN7b8ZGKY76LbbbtO9wGaAUhWBoiiK0nlkHixWFEVRugtVBIqiKDVHFYGiKErNUUWgKIpSc1QRKIqi1BxVBIqiKLUmCP4DRzad+rTBrRkAAAAASUVORK5CYII=\" alt=\"hlde-1-4\" height=30 />"
      ]
    },
    {
      "cell_type": "code",
      "metadata": {
        "id": "iEW5wzFq6qKi"
      },
      "source": [
        "x = symbols('x')\n",
        "y = Function('y')"
      ],
      "execution_count": null,
      "outputs": []
    },
    {
      "cell_type": "code",
      "metadata": {
        "colab": {
          "base_uri": "https://localhost:8080/"
        },
        "id": "3vzlWBjs6qgV",
        "outputId": "9c260ccd-a2d0-4b96-faac-8257b71020a6"
      },
      "source": [
        "diffeq = Eq(4*y(x).diff(x, x, x) - 13*y(x).diff(x) - 6*y(x), 0)\n",
        "increase_font()\n",
        "display(diffeq)"
      ],
      "execution_count": null,
      "outputs": [
        {
          "output_type": "display_data",
          "data": {
            "application/javascript": [
              "for (rule of document.styleSheets[0].cssRules){if (rule.selectorText=='body') {rule.style.fontSize = '20px';break}}"
            ],
            "text/plain": [
              "<IPython.core.display.Javascript object>"
            ]
          },
          "metadata": {}
        },
        {
          "output_type": "display_data",
          "data": {
            "text/latex": "$\\displaystyle - 6 y{\\left(x \\right)} - 13 \\frac{d}{d x} y{\\left(x \\right)} + 4 \\frac{d^{3}}{d x^{3}} y{\\left(x \\right)} = 0$",
            "text/plain": [
              "Eq(-6*y(x) - 13*Derivative(y(x), x) + 4*Derivative(y(x), (x, 3)), 0)"
            ]
          },
          "metadata": {}
        }
      ]
    },
    {
      "cell_type": "code",
      "metadata": {
        "colab": {
          "base_uri": "https://localhost:8080/"
        },
        "id": "qI6vIFZQ6q5e",
        "outputId": "d4bbdd92-f3aa-457c-d0f7-7851ba74a6da"
      },
      "source": [
        "gensol = dsolve(diffeq, y(x))\n",
        "increase_font()\n",
        "display(gensol)"
      ],
      "execution_count": null,
      "outputs": [
        {
          "output_type": "display_data",
          "data": {
            "application/javascript": [
              "for (rule of document.styleSheets[0].cssRules){if (rule.selectorText=='body') {rule.style.fontSize = '20px';break}}"
            ],
            "text/plain": [
              "<IPython.core.display.Javascript object>"
            ]
          },
          "metadata": {}
        },
        {
          "output_type": "display_data",
          "data": {
            "text/latex": "$\\displaystyle y{\\left(x \\right)} = C_{1} e^{- \\frac{3 x}{2}} + C_{2} e^{- \\frac{x}{2}} + C_{3} e^{2 x}$",
            "text/plain": [
              "Eq(y(x), C1*exp(-3*x/2) + C2*exp(-x/2) + C3*exp(2*x))"
            ]
          },
          "metadata": {}
        }
      ]
    },
    {
      "cell_type": "markdown",
      "metadata": {
        "id": "eFH3ItJL6rWT"
      },
      "source": [
        "### HLDE Example 1.5:\n",
        "<img src=\"data:image/png;base64,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\" alt=\"hlde-1-5\" height=30 />"
      ]
    },
    {
      "cell_type": "code",
      "metadata": {
        "id": "nWw1VcjJ6rmd"
      },
      "source": [
        "x = symbols('x')\n",
        "y = Function('y')"
      ],
      "execution_count": null,
      "outputs": []
    },
    {
      "cell_type": "code",
      "metadata": {
        "colab": {
          "base_uri": "https://localhost:8080/"
        },
        "id": "kXe9leua6r3Y",
        "outputId": "983cdc50-8000-4633-ff12-8e6a7f5ee882"
      },
      "source": [
        "diffeq = Eq(y(x).diff(x, x, x) - 5*y(x).diff(x) - 2*y(x), 0)\n",
        "increase_font()\n",
        "display(diffeq)"
      ],
      "execution_count": null,
      "outputs": [
        {
          "output_type": "display_data",
          "data": {
            "application/javascript": [
              "for (rule of document.styleSheets[0].cssRules){if (rule.selectorText=='body') {rule.style.fontSize = '20px';break}}"
            ],
            "text/plain": [
              "<IPython.core.display.Javascript object>"
            ]
          },
          "metadata": {}
        },
        {
          "output_type": "display_data",
          "data": {
            "text/latex": "$\\displaystyle - 2 y{\\left(x \\right)} - 5 \\frac{d}{d x} y{\\left(x \\right)} + \\frac{d^{3}}{d x^{3}} y{\\left(x \\right)} = 0$",
            "text/plain": [
              "Eq(-2*y(x) - 5*Derivative(y(x), x) + Derivative(y(x), (x, 3)), 0)"
            ]
          },
          "metadata": {}
        }
      ]
    },
    {
      "cell_type": "code",
      "metadata": {
        "colab": {
          "base_uri": "https://localhost:8080/"
        },
        "id": "UsznnkRd6sYY",
        "outputId": "d53f2138-b480-4bb7-f5a1-10658219963a"
      },
      "source": [
        "gensol = dsolve(diffeq, y(x))\n",
        "increase_font()\n",
        "display(gensol)"
      ],
      "execution_count": null,
      "outputs": [
        {
          "output_type": "display_data",
          "data": {
            "application/javascript": [
              "for (rule of document.styleSheets[0].cssRules){if (rule.selectorText=='body') {rule.style.fontSize = '20px';break}}"
            ],
            "text/plain": [
              "<IPython.core.display.Javascript object>"
            ]
          },
          "metadata": {}
        },
        {
          "output_type": "display_data",
          "data": {
            "text/latex": "$\\displaystyle y{\\left(x \\right)} = C_{1} e^{- 2 x} + C_{2} e^{x \\left(1 - \\sqrt{2}\\right)} + C_{3} e^{x \\left(1 + \\sqrt{2}\\right)}$",
            "text/plain": [
              "Eq(y(x), C1*exp(-2*x) + C2*exp(x*(1 - sqrt(2))) + C3*exp(x*(1 + sqrt(2))))"
            ]
          },
          "metadata": {}
        }
      ]
    },
    {
      "cell_type": "markdown",
      "metadata": {
        "id": "Hr0PwBEr6s9f"
      },
      "source": [
        "### HLDE Example 1.6:\n",
        "<img src=\"data:image/png;base64,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\" alt=\"hlde-1-6\" height=30 />"
      ]
    },
    {
      "cell_type": "code",
      "metadata": {
        "id": "tJDNaz2Y6tQU"
      },
      "source": [
        "x = symbols('x')\n",
        "y = Function('y')"
      ],
      "execution_count": null,
      "outputs": []
    },
    {
      "cell_type": "code",
      "metadata": {
        "colab": {
          "base_uri": "https://localhost:8080/"
        },
        "id": "bg5cpvqz6teN",
        "outputId": "14d70f15-d72e-46b6-89db-2e288d759da7"
      },
      "source": [
        "diffeq = Eq(y(x).diff(x, x, x) - 3*y(x).diff(x, x) - 3*y(x).diff(x) + y(x), 0)\n",
        "increase_font()\n",
        "display(diffeq)"
      ],
      "execution_count": null,
      "outputs": [
        {
          "output_type": "display_data",
          "data": {
            "application/javascript": [
              "for (rule of document.styleSheets[0].cssRules){if (rule.selectorText=='body') {rule.style.fontSize = '20px';break}}"
            ],
            "text/plain": [
              "<IPython.core.display.Javascript object>"
            ]
          },
          "metadata": {}
        },
        {
          "output_type": "display_data",
          "data": {
            "text/latex": "$\\displaystyle y{\\left(x \\right)} - 3 \\frac{d}{d x} y{\\left(x \\right)} - 3 \\frac{d^{2}}{d x^{2}} y{\\left(x \\right)} + \\frac{d^{3}}{d x^{3}} y{\\left(x \\right)} = 0$",
            "text/plain": [
              "Eq(y(x) - 3*Derivative(y(x), x) - 3*Derivative(y(x), (x, 2)) + Derivative(y(x), (x, 3)), 0)"
            ]
          },
          "metadata": {}
        }
      ]
    },
    {
      "cell_type": "code",
      "metadata": {
        "colab": {
          "base_uri": "https://localhost:8080/"
        },
        "id": "BsH5PKqU6t6f",
        "outputId": "78bc37a0-940c-4e28-f41a-81386542f72c"
      },
      "source": [
        "gensol = dsolve(diffeq, y(x))\n",
        "increase_font()\n",
        "display(gensol)"
      ],
      "execution_count": null,
      "outputs": [
        {
          "output_type": "display_data",
          "data": {
            "application/javascript": [
              "for (rule of document.styleSheets[0].cssRules){if (rule.selectorText=='body') {rule.style.fontSize = '20px';break}}"
            ],
            "text/plain": [
              "<IPython.core.display.Javascript object>"
            ]
          },
          "metadata": {}
        },
        {
          "output_type": "display_data",
          "data": {
            "text/latex": "$\\displaystyle y{\\left(x \\right)} = C_{3} e^{- x} + \\left(C_{1} e^{- \\sqrt{3} x} + C_{2} e^{\\sqrt{3} x}\\right) e^{2 x}$",
            "text/plain": [
              "Eq(y(x), C3*exp(-x) + (C1*exp(-sqrt(3)*x) + C2*exp(sqrt(3)*x))*exp(2*x))"
            ]
          },
          "metadata": {}
        }
      ]
    },
    {
      "cell_type": "markdown",
      "metadata": {
        "id": "ef7mWqkg-5ls"
      },
      "source": [
        "### HLDE Example 2.1:\n",
        "<img src=\"data:image/png;base64,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\" alt=\"hlde-2-1\" height=30 />"
      ]
    },
    {
      "cell_type": "code",
      "metadata": {
        "id": "GsGUHuyR-50_"
      },
      "source": [
        "x = symbols('x')\n",
        "y = Function('y')"
      ],
      "execution_count": null,
      "outputs": []
    },
    {
      "cell_type": "code",
      "metadata": {
        "colab": {
          "base_uri": "https://localhost:8080/"
        },
        "id": "FGqfwWQbGzVG",
        "outputId": "b743cc6d-21ab-42f3-dba1-9eb6ca287cd4"
      },
      "source": [
        "D = symbols('D')\n",
        "deq = Eq(D**2*(D*D+2*D+1)**3*(D**2+3*D+2),0)\n",
        "display(deq)\n",
        "expand(deq)"
      ],
      "execution_count": null,
      "outputs": [
        {
          "output_type": "display_data",
          "data": {
            "text/latex": "$\\displaystyle D^{2} \\left(D^{2} + 2 D + 1\\right)^{3} \\left(D^{2} + 3 D + 2\\right) = 0$",
            "text/plain": [
              "Eq(D**2*(D**2 + 2*D + 1)**3*(D**2 + 3*D + 2), 0)"
            ]
          },
          "metadata": {}
        },
        {
          "output_type": "execute_result",
          "data": {
            "text/latex": "$\\displaystyle D^{10} + 9 D^{9} + 35 D^{8} + 77 D^{7} + 105 D^{6} + 91 D^{5} + 49 D^{4} + 15 D^{3} + 2 D^{2} = 0$",
            "text/plain": [
              "Eq(D**10 + 9*D**9 + 35*D**8 + 77*D**7 + 105*D**6 + 91*D**5 + 49*D**4 + 15*D**3 + 2*D**2, 0)"
            ]
          },
          "metadata": {},
          "execution_count": 126
        }
      ]
    },
    {
      "cell_type": "code",
      "metadata": {
        "colab": {
          "base_uri": "https://localhost:8080/"
        },
        "id": "o9V97j5p-6CL",
        "outputId": "b1f9e26e-ad3d-4652-ada8-b75e901b16c9"
      },
      "source": [
        "diffeq = Eq(y(x).diff(x, 10) + 9*y(x).diff(x, 9) + 35*y(x).diff(x, 8) + 77*y(x).diff(x, 7) + 105*y(x).diff(x, 6) + 91*y(x).diff(x, 5) + 49*y(x).diff(x, 4) + 15*y(x).diff(x, 3) + 2*y(x).diff(x, 2), 0)\n",
        "display(diffeq)"
      ],
      "execution_count": null,
      "outputs": [
        {
          "output_type": "display_data",
          "data": {
            "text/latex": "$\\displaystyle 2 \\frac{d^{2}}{d x^{2}} y{\\left(x \\right)} + 15 \\frac{d^{3}}{d x^{3}} y{\\left(x \\right)} + 49 \\frac{d^{4}}{d x^{4}} y{\\left(x \\right)} + 91 \\frac{d^{5}}{d x^{5}} y{\\left(x \\right)} + 105 \\frac{d^{6}}{d x^{6}} y{\\left(x \\right)} + 77 \\frac{d^{7}}{d x^{7}} y{\\left(x \\right)} + 35 \\frac{d^{8}}{d x^{8}} y{\\left(x \\right)} + 9 \\frac{d^{9}}{d x^{9}} y{\\left(x \\right)} + \\frac{d^{10}}{d x^{10}} y{\\left(x \\right)} = 0$",
            "text/plain": [
              "Eq(2*Derivative(y(x), (x, 2)) + 15*Derivative(y(x), (x, 3)) + 49*Derivative(y(x), (x, 4)) + 91*Derivative(y(x), (x, 5)) + 105*Derivative(y(x), (x, 6)) + 77*Derivative(y(x), (x, 7)) + 35*Derivative(y(x), (x, 8)) + 9*Derivative(y(x), (x, 9)) + Derivative(y(x), (x, 10)), 0)"
            ]
          },
          "metadata": {}
        }
      ]
    },
    {
      "cell_type": "code",
      "metadata": {
        "colab": {
          "base_uri": "https://localhost:8080/"
        },
        "id": "V8aAsjLn-6SL",
        "outputId": "e84ccf07-1aaf-475f-d6d0-59df924456d2"
      },
      "source": [
        "gensol = expand(dsolve(diffeq, y(x)))\n",
        "increase_font()\n",
        "display(gensol)"
      ],
      "execution_count": null,
      "outputs": [
        {
          "output_type": "display_data",
          "data": {
            "application/javascript": [
              "for (rule of document.styleSheets[0].cssRules){if (rule.selectorText=='body') {rule.style.fontSize = '20px';break}}"
            ],
            "text/plain": [
              "<IPython.core.display.Javascript object>"
            ]
          },
          "metadata": {}
        },
        {
          "output_type": "display_data",
          "data": {
            "text/latex": "$\\displaystyle y{\\left(x \\right)} = C_{1} + C_{10} e^{- 2 x} + C_{2} x + C_{3} x e^{- x} + C_{4} e^{- x} + C_{5} x^{2} e^{- x} + C_{6} x^{3} e^{- x} + C_{7} x^{4} e^{- x} + C_{8} x^{5} e^{- x} + C_{9} x^{6} e^{- x}$",
            "text/plain": [
              "Eq(y(x), C1 + C10*exp(-2*x) + C2*x + C3*x*exp(-x) + C4*exp(-x) + C5*x**2*exp(-x) + C6*x**3*exp(-x) + C7*x**4*exp(-x) + C8*x**5*exp(-x) + C9*x**6*exp(-x))"
            ]
          },
          "metadata": {}
        }
      ]
    },
    {
      "cell_type": "markdown",
      "metadata": {
        "id": "Vl-ueLWY-6jl"
      },
      "source": [
        "### HLDE Example 2.2:\n",
        "<img src=\"data:image/png;base64,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\" alt=\"hlde-2-2\" height=30 />"
      ]
    },
    {
      "cell_type": "code",
      "metadata": {
        "id": "C7HiDbVH-60O"
      },
      "source": [
        "x = symbols('x')\n",
        "y = Function('y')"
      ],
      "execution_count": null,
      "outputs": []
    },
    {
      "cell_type": "code",
      "metadata": {
        "colab": {
          "base_uri": "https://localhost:8080/"
        },
        "id": "HzuqX4KK-7JM",
        "outputId": "2826ff92-4099-4034-8bf4-cdcb91d67d58"
      },
      "source": [
        "diffeq = Eq(y(x).diff(x, 2) + 6*y(x).diff(x) + 9*y(x), 0)\n",
        "increase_font()\n",
        "display(diffeq)"
      ],
      "execution_count": null,
      "outputs": [
        {
          "output_type": "display_data",
          "data": {
            "application/javascript": [
              "for (rule of document.styleSheets[0].cssRules){if (rule.selectorText=='body') {rule.style.fontSize = '20px';break}}"
            ],
            "text/plain": [
              "<IPython.core.display.Javascript object>"
            ]
          },
          "metadata": {}
        },
        {
          "output_type": "display_data",
          "data": {
            "text/latex": "$\\displaystyle 9 y{\\left(x \\right)} + 6 \\frac{d}{d x} y{\\left(x \\right)} + \\frac{d^{2}}{d x^{2}} y{\\left(x \\right)} = 0$",
            "text/plain": [
              "Eq(9*y(x) + 6*Derivative(y(x), x) + Derivative(y(x), (x, 2)), 0)"
            ]
          },
          "metadata": {}
        }
      ]
    },
    {
      "cell_type": "code",
      "metadata": {
        "colab": {
          "base_uri": "https://localhost:8080/"
        },
        "id": "MkjtjInI-7V2",
        "outputId": "fbf812f5-d003-4d64-e8a0-069c26441d59"
      },
      "source": [
        "gensol = dsolve(diffeq, y(x))\n",
        "increase_font()\n",
        "display(gensol)"
      ],
      "execution_count": null,
      "outputs": [
        {
          "output_type": "display_data",
          "data": {
            "application/javascript": [
              "for (rule of document.styleSheets[0].cssRules){if (rule.selectorText=='body') {rule.style.fontSize = '20px';break}}"
            ],
            "text/plain": [
              "<IPython.core.display.Javascript object>"
            ]
          },
          "metadata": {}
        },
        {
          "output_type": "display_data",
          "data": {
            "text/latex": "$\\displaystyle y{\\left(x \\right)} = \\left(C_{1} + C_{2} x\\right) e^{- 3 x}$",
            "text/plain": [
              "Eq(y(x), (C1 + C2*x)*exp(-3*x))"
            ]
          },
          "metadata": {}
        }
      ]
    },
    {
      "cell_type": "markdown",
      "metadata": {
        "id": "KtIefQ93_Q-2"
      },
      "source": [
        "### HLDE Example 2.3:\n",
        "<img src=\"data:image/png;base64,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\" alt=\"hlde-2-3\" height=30 />"
      ]
    },
    {
      "cell_type": "code",
      "metadata": {
        "id": "JFxOH2LB_VkR"
      },
      "source": [
        "x = symbols('x')\n",
        "y = Function('y')"
      ],
      "execution_count": null,
      "outputs": []
    },
    {
      "cell_type": "code",
      "metadata": {
        "colab": {
          "base_uri": "https://localhost:8080/"
        },
        "id": "NDc7pU3F_V82",
        "outputId": "b4befd42-027a-455d-9f23-ac0c3453b271"
      },
      "source": [
        "diffeq = Eq(4*y(x).diff(x, 3) - 27*y(x).diff(x) + 27*y(x), 0)\n",
        "increase_font()\n",
        "display(diffeq)"
      ],
      "execution_count": null,
      "outputs": [
        {
          "output_type": "display_data",
          "data": {
            "application/javascript": [
              "for (rule of document.styleSheets[0].cssRules){if (rule.selectorText=='body') {rule.style.fontSize = '20px';break}}"
            ],
            "text/plain": [
              "<IPython.core.display.Javascript object>"
            ]
          },
          "metadata": {}
        },
        {
          "output_type": "display_data",
          "data": {
            "text/latex": "$\\displaystyle 27 y{\\left(x \\right)} - 27 \\frac{d}{d x} y{\\left(x \\right)} + 4 \\frac{d^{3}}{d x^{3}} y{\\left(x \\right)} = 0$",
            "text/plain": [
              "Eq(27*y(x) - 27*Derivative(y(x), x) + 4*Derivative(y(x), (x, 3)), 0)"
            ]
          },
          "metadata": {}
        }
      ]
    },
    {
      "cell_type": "code",
      "metadata": {
        "colab": {
          "base_uri": "https://localhost:8080/"
        },
        "id": "SVw5dVaU_WNN",
        "outputId": "5e688683-7461-4bae-8440-cf21192f58e4"
      },
      "source": [
        "gensol = dsolve(diffeq, y(x))\n",
        "increase_font()\n",
        "display(gensol)"
      ],
      "execution_count": null,
      "outputs": [
        {
          "output_type": "display_data",
          "data": {
            "application/javascript": [
              "for (rule of document.styleSheets[0].cssRules){if (rule.selectorText=='body') {rule.style.fontSize = '20px';break}}"
            ],
            "text/plain": [
              "<IPython.core.display.Javascript object>"
            ]
          },
          "metadata": {}
        },
        {
          "output_type": "display_data",
          "data": {
            "text/latex": "$\\displaystyle y{\\left(x \\right)} = C_{3} e^{- 3 x} + \\left(C_{1} + C_{2} x\\right) e^{\\frac{3 x}{2}}$",
            "text/plain": [
              "Eq(y(x), C3*exp(-3*x) + (C1 + C2*x)*exp(3*x/2))"
            ]
          },
          "metadata": {}
        }
      ]
    },
    {
      "cell_type": "markdown",
      "metadata": {
        "id": "_JYfhO4D_Wbn"
      },
      "source": [
        "### HLDE Example 2.4:\n",
        "<img src=\"data:image/png;base64,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\" alt=\"hlde-2-4\" height=30 />"
      ]
    },
    {
      "cell_type": "code",
      "metadata": {
        "id": "SUjNbpb__WsJ"
      },
      "source": [
        "x = symbols('x')\n",
        "y = Function('y')"
      ],
      "execution_count": null,
      "outputs": []
    },
    {
      "cell_type": "code",
      "metadata": {
        "colab": {
          "base_uri": "https://localhost:8080/"
        },
        "id": "3dICDUXu_XB8",
        "outputId": "f8379340-4f57-4be1-f21d-85f17daf9be4"
      },
      "source": [
        "diffeq = Eq(4*y(x).diff(x, 4) - 4*y(x).diff(x, 3) - 23*y(x).diff(x, 2) + 12*y(x).diff(x) + 36*y(x), 0)\n",
        "increase_font()\n",
        "display(diffeq)"
      ],
      "execution_count": null,
      "outputs": [
        {
          "output_type": "display_data",
          "data": {
            "application/javascript": [
              "for (rule of document.styleSheets[0].cssRules){if (rule.selectorText=='body') {rule.style.fontSize = '20px';break}}"
            ],
            "text/plain": [
              "<IPython.core.display.Javascript object>"
            ]
          },
          "metadata": {}
        },
        {
          "output_type": "display_data",
          "data": {
            "text/latex": "$\\displaystyle 36 y{\\left(x \\right)} + 12 \\frac{d}{d x} y{\\left(x \\right)} - 23 \\frac{d^{2}}{d x^{2}} y{\\left(x \\right)} - 4 \\frac{d^{3}}{d x^{3}} y{\\left(x \\right)} + 4 \\frac{d^{4}}{d x^{4}} y{\\left(x \\right)} = 0$",
            "text/plain": [
              "Eq(36*y(x) + 12*Derivative(y(x), x) - 23*Derivative(y(x), (x, 2)) - 4*Derivative(y(x), (x, 3)) + 4*Derivative(y(x), (x, 4)), 0)"
            ]
          },
          "metadata": {}
        }
      ]
    },
    {
      "cell_type": "code",
      "metadata": {
        "colab": {
          "base_uri": "https://localhost:8080/"
        },
        "id": "l_oQu93W_XU7",
        "outputId": "0e36fd13-7a56-4701-d314-cf40602a4850"
      },
      "source": [
        "gensol = dsolve(diffeq, y(x))\n",
        "increase_font()\n",
        "display(gensol)"
      ],
      "execution_count": null,
      "outputs": [
        {
          "output_type": "display_data",
          "data": {
            "application/javascript": [
              "for (rule of document.styleSheets[0].cssRules){if (rule.selectorText=='body') {rule.style.fontSize = '20px';break}}"
            ],
            "text/plain": [
              "<IPython.core.display.Javascript object>"
            ]
          },
          "metadata": {}
        },
        {
          "output_type": "display_data",
          "data": {
            "text/latex": "$\\displaystyle y{\\left(x \\right)} = \\left(C_{1} + C_{2} x\\right) e^{- \\frac{3 x}{2}} + \\left(C_{3} + C_{4} x\\right) e^{2 x}$",
            "text/plain": [
              "Eq(y(x), (C1 + C2*x)*exp(-3*x/2) + (C3 + C4*x)*exp(2*x))"
            ]
          },
          "metadata": {}
        }
      ]
    },
    {
      "cell_type": "markdown",
      "metadata": {
        "id": "iSq52chr_Xhv"
      },
      "source": [
        "### HLDE Example 2.5:\n",
        "<img src=\"data:image/png;base64,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\" alt=\"hlde-2-5\" height=30 />"
      ]
    },
    {
      "cell_type": "code",
      "metadata": {
        "id": "zdEvcqk6_XzB"
      },
      "source": [
        "x = symbols('x')\n",
        "y = Function('y')"
      ],
      "execution_count": null,
      "outputs": []
    },
    {
      "cell_type": "code",
      "metadata": {
        "colab": {
          "base_uri": "https://localhost:8080/"
        },
        "id": "v4eOUqMC_YAK",
        "outputId": "6aa507fc-3ac9-468f-fd8c-0ca6cb46507a"
      },
      "source": [
        "diffeq = Eq(y(x).diff(x, 4) - 5*y(x).diff(x, 2) - 6*y(x).diff(x) - 2*y(x), 0)\n",
        "increase_font()\n",
        "display(diffeq)"
      ],
      "execution_count": null,
      "outputs": [
        {
          "output_type": "display_data",
          "data": {
            "application/javascript": [
              "for (rule of document.styleSheets[0].cssRules){if (rule.selectorText=='body') {rule.style.fontSize = '20px';break}}"
            ],
            "text/plain": [
              "<IPython.core.display.Javascript object>"
            ]
          },
          "metadata": {}
        },
        {
          "output_type": "display_data",
          "data": {
            "text/latex": "$\\displaystyle - 2 y{\\left(x \\right)} - 6 \\frac{d}{d x} y{\\left(x \\right)} - 5 \\frac{d^{2}}{d x^{2}} y{\\left(x \\right)} + \\frac{d^{4}}{d x^{4}} y{\\left(x \\right)} = 0$",
            "text/plain": [
              "Eq(-2*y(x) - 6*Derivative(y(x), x) - 5*Derivative(y(x), (x, 2)) + Derivative(y(x), (x, 4)), 0)"
            ]
          },
          "metadata": {}
        }
      ]
    },
    {
      "cell_type": "code",
      "metadata": {
        "colab": {
          "base_uri": "https://localhost:8080/"
        },
        "id": "RKDxNtkB_YRj",
        "outputId": "93996528-72a4-4a37-f799-4f96845b18c5"
      },
      "source": [
        "gensol = dsolve(diffeq, y(x))\n",
        "increase_font()\n",
        "display(gensol)"
      ],
      "execution_count": null,
      "outputs": [
        {
          "output_type": "display_data",
          "data": {
            "application/javascript": [
              "for (rule of document.styleSheets[0].cssRules){if (rule.selectorText=='body') {rule.style.fontSize = '20px';break}}"
            ],
            "text/plain": [
              "<IPython.core.display.Javascript object>"
            ]
          },
          "metadata": {}
        },
        {
          "output_type": "display_data",
          "data": {
            "text/latex": "$\\displaystyle y{\\left(x \\right)} = \\left(C_{1} + C_{2} x\\right) e^{- x} + \\left(C_{3} e^{- \\sqrt{3} x} + C_{4} e^{\\sqrt{3} x}\\right) e^{x}$",
            "text/plain": [
              "Eq(y(x), (C1 + C2*x)*exp(-x) + (C3*exp(-sqrt(3)*x) + C4*exp(sqrt(3)*x))*exp(x))"
            ]
          },
          "metadata": {}
        }
      ]
    },
    {
      "cell_type": "markdown",
      "metadata": {
        "id": "RsTvy2QM_YmU"
      },
      "source": [
        "### HLDE Example 2.6:\n",
        "<img src=\"data:image/png;base64,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\" alt=\"hlde-2-6\" height=30 />"
      ]
    },
    {
      "cell_type": "code",
      "metadata": {
        "id": "hWpYx9Ui_YyQ"
      },
      "source": [
        "x = symbols('x')\n",
        "y = Function('y')"
      ],
      "execution_count": null,
      "outputs": []
    },
    {
      "cell_type": "code",
      "metadata": {
        "colab": {
          "base_uri": "https://localhost:8080/"
        },
        "id": "JGfXPEjl_Y_S",
        "outputId": "13029898-9e18-4d9d-985a-44714d81c348"
      },
      "source": [
        "diffeq = Eq(y(x).diff(x, 4) + 3*y(x).diff(x, 3) + 2*y(x).diff(x, 2), 0)\n",
        "increase_font()\n",
        "display(diffeq)"
      ],
      "execution_count": null,
      "outputs": [
        {
          "output_type": "display_data",
          "data": {
            "application/javascript": [
              "for (rule of document.styleSheets[0].cssRules){if (rule.selectorText=='body') {rule.style.fontSize = '20px';break}}"
            ],
            "text/plain": [
              "<IPython.core.display.Javascript object>"
            ]
          },
          "metadata": {}
        },
        {
          "output_type": "display_data",
          "data": {
            "text/latex": "$\\displaystyle 2 \\frac{d^{2}}{d x^{2}} y{\\left(x \\right)} + 3 \\frac{d^{3}}{d x^{3}} y{\\left(x \\right)} + \\frac{d^{4}}{d x^{4}} y{\\left(x \\right)} = 0$",
            "text/plain": [
              "Eq(2*Derivative(y(x), (x, 2)) + 3*Derivative(y(x), (x, 3)) + Derivative(y(x), (x, 4)), 0)"
            ]
          },
          "metadata": {}
        }
      ]
    },
    {
      "cell_type": "code",
      "metadata": {
        "colab": {
          "base_uri": "https://localhost:8080/"
        },
        "id": "-RJv8a86_ZOv",
        "outputId": "94923c3f-d1e7-415a-f012-fbd2c9fc7c33"
      },
      "source": [
        "gensol = dsolve(diffeq, y(x))\n",
        "increase_font()\n",
        "display(gensol)"
      ],
      "execution_count": null,
      "outputs": [
        {
          "output_type": "display_data",
          "data": {
            "application/javascript": [
              "for (rule of document.styleSheets[0].cssRules){if (rule.selectorText=='body') {rule.style.fontSize = '20px';break}}"
            ],
            "text/plain": [
              "<IPython.core.display.Javascript object>"
            ]
          },
          "metadata": {}
        },
        {
          "output_type": "display_data",
          "data": {
            "text/latex": "$\\displaystyle y{\\left(x \\right)} = C_{1} + C_{2} x + C_{3} e^{- 2 x} + C_{4} e^{- x}$",
            "text/plain": [
              "Eq(y(x), C1 + C2*x + C3*exp(-2*x) + C4*exp(-x))"
            ]
          },
          "metadata": {}
        }
      ]
    },
    {
      "cell_type": "code",
      "metadata": {
        "colab": {
          "base_uri": "https://localhost:8080/"
        },
        "id": "FrCX7abnJLzQ",
        "outputId": "f8afa0a4-ebff-47cc-c0e0-972790d19372"
      },
      "source": [
        "partsol = dsolve(diffeq, ics={y(0): 0, diff(y(x), x).subs(x,0): 4, diff(y(x), x, 2).subs(x,0): -6, diff(y(x), x, 3).subs(x,0): 14})\n",
        "increase_font()\n",
        "display(partsol)"
      ],
      "execution_count": null,
      "outputs": [
        {
          "output_type": "display_data",
          "data": {
            "application/javascript": [
              "for (rule of document.styleSheets[0].cssRules){if (rule.selectorText=='body') {rule.style.fontSize = '20px';break}}"
            ],
            "text/plain": [
              "<IPython.core.display.Javascript object>"
            ]
          },
          "metadata": {}
        },
        {
          "output_type": "display_data",
          "data": {
            "text/latex": "$\\displaystyle y{\\left(x \\right)} = 2 x + 2 e^{- x} - 2 e^{- 2 x}$",
            "text/plain": [
              "Eq(y(x), 2*x + 2*exp(-x) - 2*exp(-2*x))"
            ]
          },
          "metadata": {}
        }
      ]
    },
    {
      "cell_type": "markdown",
      "metadata": {
        "id": "O9qGg2Yx_qfY"
      },
      "source": [
        "### HLDE Example 3.1:\n",
        "<img src=\"data:image/png;base64,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\" alt=\"hlde-3-1\" height=30 />"
      ]
    },
    {
      "cell_type": "code",
      "metadata": {
        "id": "j4pT940M_qtR"
      },
      "source": [
        "x = symbols('x')\n",
        "y = Function('y')"
      ],
      "execution_count": null,
      "outputs": []
    },
    {
      "cell_type": "code",
      "metadata": {
        "colab": {
          "base_uri": "https://localhost:8080/"
        },
        "id": "fTnDF523KrkU",
        "outputId": "b6b42f5f-3d76-40e8-de02-043ac29c77ef"
      },
      "source": [
        "D = symbols('D')\n",
        "deq = Eq((D-3)*(D**2+4*D+4)*(D**2+2*D+3),0)\n",
        "display(deq)\n",
        "expand(deq)"
      ],
      "execution_count": null,
      "outputs": [
        {
          "output_type": "display_data",
          "data": {
            "text/latex": "$\\displaystyle \\left(D - 3\\right) \\left(D^{2} + 2 D + 3\\right) \\left(D^{2} + 4 D + 4\\right) = 0$",
            "text/plain": [
              "Eq((D - 3)*(D**2 + 2*D + 3)*(D**2 + 4*D + 4), 0)"
            ]
          },
          "metadata": {}
        },
        {
          "output_type": "execute_result",
          "data": {
            "text/latex": "$\\displaystyle D^{5} + 3 D^{4} - 3 D^{3} - 25 D^{2} - 48 D - 36 = 0$",
            "text/plain": [
              "Eq(D**5 + 3*D**4 - 3*D**3 - 25*D**2 - 48*D - 36, 0)"
            ]
          },
          "metadata": {},
          "execution_count": 146
        }
      ]
    },
    {
      "cell_type": "code",
      "metadata": {
        "colab": {
          "base_uri": "https://localhost:8080/"
        },
        "id": "dPF-MsnA_q5C",
        "outputId": "c818aa3e-bb6a-4f6f-dcd4-5579316e5916"
      },
      "source": [
        "diffeq = Eq(y(x).diff(x, 5) + 3*y(x).diff(x, 4) - 3*y(x).diff(x, 3) - 25*y(x).diff(x, 2) - 48*y(x).diff(x) - 36*y(x), 0)\n",
        "increase_font()\n",
        "display(diffeq)"
      ],
      "execution_count": null,
      "outputs": [
        {
          "output_type": "display_data",
          "data": {
            "application/javascript": [
              "for (rule of document.styleSheets[0].cssRules){if (rule.selectorText=='body') {rule.style.fontSize = '20px';break}}"
            ],
            "text/plain": [
              "<IPython.core.display.Javascript object>"
            ]
          },
          "metadata": {}
        },
        {
          "output_type": "display_data",
          "data": {
            "text/latex": "$\\displaystyle - 36 y{\\left(x \\right)} - 48 \\frac{d}{d x} y{\\left(x \\right)} - 25 \\frac{d^{2}}{d x^{2}} y{\\left(x \\right)} - 3 \\frac{d^{3}}{d x^{3}} y{\\left(x \\right)} + 3 \\frac{d^{4}}{d x^{4}} y{\\left(x \\right)} + \\frac{d^{5}}{d x^{5}} y{\\left(x \\right)} = 0$",
            "text/plain": [
              "Eq(-36*y(x) - 48*Derivative(y(x), x) - 25*Derivative(y(x), (x, 2)) - 3*Derivative(y(x), (x, 3)) + 3*Derivative(y(x), (x, 4)) + Derivative(y(x), (x, 5)), 0)"
            ]
          },
          "metadata": {}
        }
      ]
    },
    {
      "cell_type": "code",
      "metadata": {
        "colab": {
          "base_uri": "https://localhost:8080/"
        },
        "id": "Sp14zhhk_rFi",
        "outputId": "cca1a014-b06b-4ff3-b9ca-11c5061ada61"
      },
      "source": [
        "gensol = dsolve(diffeq, y(x))\n",
        "increase_font()\n",
        "display(gensol)"
      ],
      "execution_count": null,
      "outputs": [
        {
          "output_type": "display_data",
          "data": {
            "application/javascript": [
              "for (rule of document.styleSheets[0].cssRules){if (rule.selectorText=='body') {rule.style.fontSize = '20px';break}}"
            ],
            "text/plain": [
              "<IPython.core.display.Javascript object>"
            ]
          },
          "metadata": {}
        },
        {
          "output_type": "display_data",
          "data": {
            "text/latex": "$\\displaystyle y{\\left(x \\right)} = C_{5} e^{3 x} + \\left(C_{1} + C_{2} x\\right) e^{- 2 x} + \\left(C_{3} \\sin{\\left(\\sqrt{2} x \\right)} + C_{4} \\cos{\\left(\\sqrt{2} x \\right)}\\right) e^{- x}$",
            "text/plain": [
              "Eq(y(x), C5*exp(3*x) + (C1 + C2*x)*exp(-2*x) + (C3*sin(sqrt(2)*x) + C4*cos(sqrt(2)*x))*exp(-x))"
            ]
          },
          "metadata": {}
        }
      ]
    },
    {
      "cell_type": "markdown",
      "metadata": {
        "id": "jhpzlZQS_rsk"
      },
      "source": [
        "### HLDE Example 3.2:\n",
        "<img src=\"data:image/png;base64,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\" alt=\"hlde-3-2\" height=30 />"
      ]
    },
    {
      "cell_type": "code",
      "metadata": {
        "id": "y4tEEWQk_r7K"
      },
      "source": [
        "x = symbols('x')\n",
        "y = Function('y')"
      ],
      "execution_count": null,
      "outputs": []
    },
    {
      "cell_type": "code",
      "metadata": {
        "colab": {
          "base_uri": "https://localhost:8080/"
        },
        "id": "kn8toYge_sH_",
        "outputId": "13ef2e13-d021-4ec3-decb-d44b92e2e939"
      },
      "source": [
        "diffeq = Eq(y(x).diff(x, 2) - 2*y(x).diff(x) + 5*y(x), 0)\n",
        "increase_font()\n",
        "display(diffeq)"
      ],
      "execution_count": null,
      "outputs": [
        {
          "output_type": "display_data",
          "data": {
            "application/javascript": [
              "for (rule of document.styleSheets[0].cssRules){if (rule.selectorText=='body') {rule.style.fontSize = '20px';break}}"
            ],
            "text/plain": [
              "<IPython.core.display.Javascript object>"
            ]
          },
          "metadata": {}
        },
        {
          "output_type": "display_data",
          "data": {
            "text/latex": "$\\displaystyle 5 y{\\left(x \\right)} - 2 \\frac{d}{d x} y{\\left(x \\right)} + \\frac{d^{2}}{d x^{2}} y{\\left(x \\right)} = 0$",
            "text/plain": [
              "Eq(5*y(x) - 2*Derivative(y(x), x) + Derivative(y(x), (x, 2)), 0)"
            ]
          },
          "metadata": {}
        }
      ]
    },
    {
      "cell_type": "code",
      "metadata": {
        "colab": {
          "base_uri": "https://localhost:8080/"
        },
        "id": "kinu6Yog_sVg",
        "outputId": "c0753af8-9548-4c2f-de3e-b49d07a4fc8a"
      },
      "source": [
        "gensol = dsolve(diffeq, y(x))\n",
        "increase_font()\n",
        "display(gensol)"
      ],
      "execution_count": null,
      "outputs": [
        {
          "output_type": "display_data",
          "data": {
            "application/javascript": [
              "for (rule of document.styleSheets[0].cssRules){if (rule.selectorText=='body') {rule.style.fontSize = '20px';break}}"
            ],
            "text/plain": [
              "<IPython.core.display.Javascript object>"
            ]
          },
          "metadata": {}
        },
        {
          "output_type": "display_data",
          "data": {
            "text/latex": "$\\displaystyle y{\\left(x \\right)} = \\left(C_{1} \\sin{\\left(2 x \\right)} + C_{2} \\cos{\\left(2 x \\right)}\\right) e^{x}$",
            "text/plain": [
              "Eq(y(x), (C1*sin(2*x) + C2*cos(2*x))*exp(x))"
            ]
          },
          "metadata": {}
        }
      ]
    },
    {
      "cell_type": "markdown",
      "metadata": {
        "id": "MqS4lCR7_szY"
      },
      "source": [
        "### HLDE Example 3.3:\n",
        "<img src=\"data:image/png;base64,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\" alt=\"hlde-3-3\" height=30 />"
      ]
    },
    {
      "cell_type": "code",
      "metadata": {
        "id": "1a1FW4lq_tCB"
      },
      "source": [
        "x = symbols('x')\n",
        "y = Function('y')"
      ],
      "execution_count": null,
      "outputs": []
    },
    {
      "cell_type": "code",
      "metadata": {
        "colab": {
          "base_uri": "https://localhost:8080/"
        },
        "id": "iYeceFru_tOG",
        "outputId": "cfeaaadf-c1d9-4bd3-fd36-4bb101be3730"
      },
      "source": [
        "diffeq = Eq(y(x).diff(x, 2) + 9*y(x), 0)\n",
        "increase_font()\n",
        "display(diffeq)"
      ],
      "execution_count": null,
      "outputs": [
        {
          "output_type": "display_data",
          "data": {
            "application/javascript": [
              "for (rule of document.styleSheets[0].cssRules){if (rule.selectorText=='body') {rule.style.fontSize = '20px';break}}"
            ],
            "text/plain": [
              "<IPython.core.display.Javascript object>"
            ]
          },
          "metadata": {}
        },
        {
          "output_type": "display_data",
          "data": {
            "text/latex": "$\\displaystyle 9 y{\\left(x \\right)} + \\frac{d^{2}}{d x^{2}} y{\\left(x \\right)} = 0$",
            "text/plain": [
              "Eq(9*y(x) + Derivative(y(x), (x, 2)), 0)"
            ]
          },
          "metadata": {}
        }
      ]
    },
    {
      "cell_type": "code",
      "metadata": {
        "colab": {
          "base_uri": "https://localhost:8080/"
        },
        "id": "PjgePHHl_tgk",
        "outputId": "ee539f3a-97f2-4079-9126-9548d082d326"
      },
      "source": [
        "gensol = dsolve(diffeq, y(x))\n",
        "increase_font()\n",
        "display(gensol)"
      ],
      "execution_count": null,
      "outputs": [
        {
          "output_type": "display_data",
          "data": {
            "application/javascript": [
              "for (rule of document.styleSheets[0].cssRules){if (rule.selectorText=='body') {rule.style.fontSize = '20px';break}}"
            ],
            "text/plain": [
              "<IPython.core.display.Javascript object>"
            ]
          },
          "metadata": {}
        },
        {
          "output_type": "display_data",
          "data": {
            "text/latex": "$\\displaystyle y{\\left(x \\right)} = C_{1} \\sin{\\left(3 x \\right)} + C_{2} \\cos{\\left(3 x \\right)}$",
            "text/plain": [
              "Eq(y(x), C1*sin(3*x) + C2*cos(3*x))"
            ]
          },
          "metadata": {}
        }
      ]
    },
    {
      "cell_type": "markdown",
      "metadata": {
        "id": "UxZzPBM7_ua9"
      },
      "source": [
        "### HLDE Example 3.4:\n",
        "<img src=\"data:image/png;base64,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\" alt=\"hlde-3-4\" height=30 />"
      ]
    },
    {
      "cell_type": "code",
      "metadata": {
        "id": "mvb0aJ8M_uqZ"
      },
      "source": [
        "x = symbols('x')\n",
        "y = Function('y')"
      ],
      "execution_count": null,
      "outputs": []
    },
    {
      "cell_type": "code",
      "metadata": {
        "colab": {
          "base_uri": "https://localhost:8080/"
        },
        "id": "zk-mrghv_u9j",
        "outputId": "b0bdab08-9b6e-4ff8-b03e-efdc96483bb2"
      },
      "source": [
        "diffeq = Eq(y(x).diff(x, 2) - 4*y(x).diff(x) + 7*y(x), 0)\n",
        "increase_font()\n",
        "display(diffeq)"
      ],
      "execution_count": null,
      "outputs": [
        {
          "output_type": "display_data",
          "data": {
            "application/javascript": [
              "for (rule of document.styleSheets[0].cssRules){if (rule.selectorText=='body') {rule.style.fontSize = '20px';break}}"
            ],
            "text/plain": [
              "<IPython.core.display.Javascript object>"
            ]
          },
          "metadata": {}
        },
        {
          "output_type": "display_data",
          "data": {
            "text/latex": "$\\displaystyle 7 y{\\left(x \\right)} - 4 \\frac{d}{d x} y{\\left(x \\right)} + \\frac{d^{2}}{d x^{2}} y{\\left(x \\right)} = 0$",
            "text/plain": [
              "Eq(7*y(x) - 4*Derivative(y(x), x) + Derivative(y(x), (x, 2)), 0)"
            ]
          },
          "metadata": {}
        }
      ]
    },
    {
      "cell_type": "code",
      "metadata": {
        "colab": {
          "base_uri": "https://localhost:8080/"
        },
        "id": "pPgGJAJx_vOa",
        "outputId": "b0ec295b-3b3a-4fd7-c77e-137056744262"
      },
      "source": [
        "gensol = dsolve(diffeq, y(x))\n",
        "increase_font()\n",
        "display(gensol)"
      ],
      "execution_count": null,
      "outputs": [
        {
          "output_type": "display_data",
          "data": {
            "application/javascript": [
              "for (rule of document.styleSheets[0].cssRules){if (rule.selectorText=='body') {rule.style.fontSize = '20px';break}}"
            ],
            "text/plain": [
              "<IPython.core.display.Javascript object>"
            ]
          },
          "metadata": {}
        },
        {
          "output_type": "display_data",
          "data": {
            "text/latex": "$\\displaystyle y{\\left(x \\right)} = \\left(C_{1} \\sin{\\left(\\sqrt{3} x \\right)} + C_{2} \\cos{\\left(\\sqrt{3} x \\right)}\\right) e^{2 x}$",
            "text/plain": [
              "Eq(y(x), (C1*sin(sqrt(3)*x) + C2*cos(sqrt(3)*x))*exp(2*x))"
            ]
          },
          "metadata": {}
        }
      ]
    },
    {
      "cell_type": "markdown",
      "metadata": {
        "id": "netlSSAm_wRP"
      },
      "source": [
        "### HLDE Example 3.5:\n",
        "<img src=\"data:image/png;base64,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\" alt=\"hlde-3-5\" height=30 />"
      ]
    },
    {
      "cell_type": "code",
      "metadata": {
        "id": "kerIXHwS_whv"
      },
      "source": [
        "x = symbols('x')\n",
        "y = Function('y')"
      ],
      "execution_count": null,
      "outputs": []
    },
    {
      "cell_type": "code",
      "metadata": {
        "colab": {
          "base_uri": "https://localhost:8080/"
        },
        "id": "_capx66g_wuD",
        "outputId": "fbaea9b5-c6f6-4379-868b-be908e1d7eb9"
      },
      "source": [
        "diffeq = Eq(y(x).diff(x, 3) + 7*y(x).diff(x, 2) + 19*y(x).diff(x) + 13*y(x), 0)\n",
        "increase_font()\n",
        "display(diffeq)"
      ],
      "execution_count": null,
      "outputs": [
        {
          "output_type": "display_data",
          "data": {
            "application/javascript": [
              "for (rule of document.styleSheets[0].cssRules){if (rule.selectorText=='body') {rule.style.fontSize = '20px';break}}"
            ],
            "text/plain": [
              "<IPython.core.display.Javascript object>"
            ]
          },
          "metadata": {}
        },
        {
          "output_type": "display_data",
          "data": {
            "text/latex": "$\\displaystyle 13 y{\\left(x \\right)} + 19 \\frac{d}{d x} y{\\left(x \\right)} + 7 \\frac{d^{2}}{d x^{2}} y{\\left(x \\right)} + \\frac{d^{3}}{d x^{3}} y{\\left(x \\right)} = 0$",
            "text/plain": [
              "Eq(13*y(x) + 19*Derivative(y(x), x) + 7*Derivative(y(x), (x, 2)) + Derivative(y(x), (x, 3)), 0)"
            ]
          },
          "metadata": {}
        }
      ]
    },
    {
      "cell_type": "code",
      "metadata": {
        "colab": {
          "base_uri": "https://localhost:8080/"
        },
        "id": "QJTf114Y_w9t",
        "outputId": "1ec769e1-97b1-4a7f-c25c-abbe62de9b88"
      },
      "source": [
        "gensol = expand(dsolve(diffeq, y(x)))\n",
        "increase_font()\n",
        "display(gensol)"
      ],
      "execution_count": null,
      "outputs": [
        {
          "output_type": "display_data",
          "data": {
            "application/javascript": [
              "for (rule of document.styleSheets[0].cssRules){if (rule.selectorText=='body') {rule.style.fontSize = '20px';break}}"
            ],
            "text/plain": [
              "<IPython.core.display.Javascript object>"
            ]
          },
          "metadata": {}
        },
        {
          "output_type": "display_data",
          "data": {
            "text/latex": "$\\displaystyle y{\\left(x \\right)} = C_{1} e^{- x} + C_{2} e^{- 3 x} \\sin{\\left(2 x \\right)} + C_{3} e^{- 3 x} \\cos{\\left(2 x \\right)}$",
            "text/plain": [
              "Eq(y(x), C1*exp(-x) + C2*exp(-3*x)*sin(2*x) + C3*exp(-3*x)*cos(2*x))"
            ]
          },
          "metadata": {}
        }
      ]
    },
    {
      "cell_type": "code",
      "metadata": {
        "colab": {
          "base_uri": "https://localhost:8080/"
        },
        "id": "VkLK_tYmLjCP",
        "outputId": "8fe0cd22-7e7d-4324-ad7e-af60ad6a4b28"
      },
      "source": [
        "partsol = dsolve(diffeq, ics={y(0): 0, diff(y(x), x).subs(x,0): 2, diff(y(x), x, 2).subs(x,0): -12})\n",
        "increase_font()\n",
        "display(partsol)"
      ],
      "execution_count": null,
      "outputs": [
        {
          "output_type": "display_data",
          "data": {
            "application/javascript": [
              "for (rule of document.styleSheets[0].cssRules){if (rule.selectorText=='body') {rule.style.fontSize = '20px';break}}"
            ],
            "text/plain": [
              "<IPython.core.display.Javascript object>"
            ]
          },
          "metadata": {}
        },
        {
          "output_type": "display_data",
          "data": {
            "text/latex": "$\\displaystyle y{\\left(x \\right)} = e^{- 3 x} \\sin{\\left(2 x \\right)}$",
            "text/plain": [
              "Eq(y(x), exp(-3*x)*sin(2*x))"
            ]
          },
          "metadata": {}
        }
      ]
    },
    {
      "cell_type": "markdown",
      "metadata": {
        "id": "x4MuIo26_xMp"
      },
      "source": [
        "### HLDE Example 3.6:\n",
        "<img src=\"data:image/png;base64,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\" alt=\"hlde-3-6\" height=30 />"
      ]
    },
    {
      "cell_type": "code",
      "metadata": {
        "id": "1zkKVWOU_xdW"
      },
      "source": [
        "x = symbols('x')\n",
        "y = Function('y')"
      ],
      "execution_count": null,
      "outputs": []
    },
    {
      "cell_type": "code",
      "metadata": {
        "colab": {
          "base_uri": "https://localhost:8080/"
        },
        "id": "3UKsF4AX_xqA",
        "outputId": "28cfad63-dd27-425d-c4b2-7f30c6204530"
      },
      "source": [
        "diffeq = Eq(2*y(x).diff(x, 3) - y(x).diff(x, 2) + 36*y(x).diff(x) - 18*y(x), 0)\n",
        "increase_font()\n",
        "display(diffeq)"
      ],
      "execution_count": null,
      "outputs": [
        {
          "output_type": "display_data",
          "data": {
            "application/javascript": [
              "for (rule of document.styleSheets[0].cssRules){if (rule.selectorText=='body') {rule.style.fontSize = '20px';break}}"
            ],
            "text/plain": [
              "<IPython.core.display.Javascript object>"
            ]
          },
          "metadata": {}
        },
        {
          "output_type": "display_data",
          "data": {
            "text/latex": "$\\displaystyle - 18 y{\\left(x \\right)} + 36 \\frac{d}{d x} y{\\left(x \\right)} - \\frac{d^{2}}{d x^{2}} y{\\left(x \\right)} + 2 \\frac{d^{3}}{d x^{3}} y{\\left(x \\right)} = 0$",
            "text/plain": [
              "Eq(-18*y(x) + 36*Derivative(y(x), x) - Derivative(y(x), (x, 2)) + 2*Derivative(y(x), (x, 3)), 0)"
            ]
          },
          "metadata": {}
        }
      ]
    },
    {
      "cell_type": "code",
      "metadata": {
        "colab": {
          "base_uri": "https://localhost:8080/"
        },
        "id": "45v46RSS_x6h",
        "outputId": "4ca487a6-ed3f-41ce-cf3b-0a53ea1ad306"
      },
      "source": [
        "gensol = dsolve(diffeq, y(x))\n",
        "increase_font()\n",
        "display(gensol)"
      ],
      "execution_count": null,
      "outputs": [
        {
          "output_type": "display_data",
          "data": {
            "application/javascript": [
              "for (rule of document.styleSheets[0].cssRules){if (rule.selectorText=='body') {rule.style.fontSize = '20px';break}}"
            ],
            "text/plain": [
              "<IPython.core.display.Javascript object>"
            ]
          },
          "metadata": {}
        },
        {
          "output_type": "display_data",
          "data": {
            "text/latex": "$\\displaystyle y{\\left(x \\right)} = C_{1} e^{\\frac{x}{2}} + C_{2} \\sin{\\left(3 \\sqrt{2} x \\right)} + C_{3} \\cos{\\left(3 \\sqrt{2} x \\right)}$",
            "text/plain": [
              "Eq(y(x), C1*exp(x/2) + C2*sin(3*sqrt(2)*x) + C3*cos(3*sqrt(2)*x))"
            ]
          },
          "metadata": {}
        }
      ]
    },
    {
      "cell_type": "markdown",
      "metadata": {
        "id": "bUv7Gr8eAQHJ"
      },
      "source": [
        "### HLDE Example 4.1:\n",
        "<img src=\"data:image/png;base64,iVBORw0KGgoAAAANSUhEUgAAAY8AAAAxCAYAAAAiLSVWAAAAAXNSR0IArs4c6QAAAARnQU1BAACxjwv8YQUAAAAJcEhZcwAADsMAAA7DAcdvqGQAAA/8SURBVHhe7Z1Zix1FFIA7+QE6bi8iMjp5UHwwalwQxSQgExdwguJEEYkoaqJiXDAxiRpxHVGigomKkvgycY8P0biAcUPccBQUQTKZkAdfjBPND8jYX92qnnNrer23+67ng5pb00vdvnWqzqnlVNe8mZBAURRFUQow334qiqIoSm7UeCiKoiiFUeOhKIqiFEaNh6IoilKYnjQe5557bjBv3rxg2bJlgfoD9Cf//PNP8OabbwYbNmww5eDYY481ZYJAfMWKFea8oiiN0XPGA2Xx008/2f+UfuWEE04IrrvuuuDJJ58MBgYGTJmgITE5OWkMx1tvvWXOr169WhsYitIADbvq/vvvv8ELL7xg4o888oj5bDcfffRRcMUVV9j/gmB4eDjYvXu3aW0q/cX8+fONUaAMfPzxx/boLPRGPvnkExPftWtXXblRWs/27duDX3/9Nbj77ruDwcFBe1TpZAr3PDAa99xzT3DKKacEmzZtCp5//nlzrN3s27cvuOGGG4KhoaFg0aJF9qjS72zZssXG6lm5cmXUqPjtt9/Mp9I+3njjDaNL0CvLly8Ppqam7BmlUylkPGgdnHrqqUbIsHnzZiNkhgXazejoaHDo0CHzjMcdd5w9qvQrR44cMT0PymscJ510ko0FwcTEhI0p7WLPnj3Bzp07g4ULFwYffPCBkdujjz5qzyqdSG7jgSBvuukmo6BptWE01qxZM8dwuEnJPIGJbYYPnnnmGdNlbRTuZ0x7bGwsuOiii+xRBZg4Zlyf/P7666/t0eJ888030eSzlCGTzxzjXJYMSUPemxVIl/mJV155xfQsy+T333+3sSA466yzbKz3KUOOeSAN9x15R8ZHRkaMIWdEA/hcsmSJiSvVgeMI9Uw6laCbKQup9Y45jyzCHgbSNyE0GDNhq86emcvBgwdnQiUeXe/C8PBwXTjmmGPmXDM0NDQzPj5uU8pHqBDNvYsWLbJHZkz6HOMz7Vl7nZdffrkun/fu3WvP5OeXX36ZCZVAlAaBvHZylMcJHKMMJDE5OTkT9hLr7uEZXXpJ6RI4jrzLgLLm0g0Vlj3auyBHP1+bkWMS3LN+/fooHfK5kToY9kSiNBYvXmyPKmWCrGTdRlbIXdYNwtatW+0d9WQaj23btkWJhD2O3AUhtFx1DxAHigQF5z9s3oLLNSgeAmk5XGXgsx+NBwoWxSDzlFA0Lz788MOZsDUS3Y9S8OXC/35jge9Okx/nwtZNdD1yigOFx3f6DQ2ONYN8XtLq9TKCHGUeliVHnx07dsyRVTN1MOx5ROnQaFXKA7lKHY0elvC/O0d4+umn7ZlZUo3HoUOHZgYGBszNfE5PT9sz2YTdoLovT4MfsmrVqrrr8xRcZzUptBJXgPvNeMTlowxF8gJjLA0HiiUNZCANAs+Rhkw7yXg4eBa/MZKVfhI8p/zeXi8fVcsR4no1LjSbx/Q6XFr0RpRykPo5zjCA35jwe+ipWh1r726kFVAE/4vzsHr16rp70pSKS58hEB95vyu4CxYsyKw4ZeCG0Qit+D6HHKLC8Ma12ItUYmmESCdPCzRPb9Mhu8tpcnb4LSVC0fxFybl7yaO///7bnmkdsl6UNQSXhqxTZcuRtChn7jrqot94adZ4TE1NRWkNDg7ao0ozUO5cA4EykVQPkK/UIchXyjKxZCA02eugF1IEWUkIeUHJy/v8XgWgBPjxDHfFVQZ3ryu4rjVF971q2mE8nCImP+Rv9GVQpBLLQpNHuYP/fWnKsajxAFrRMn2CHK5MgzLjflPR4ZgyabXxKNLDc+SRI/nn0iZd8tfB/+5e4s0YDxgZGYnSYxhdaQ4554ixT5OP3xiQ86aJ3lb4Xbv1G3hX+V5VVfHYY4/ZWI3nnnvOxmZZt24d1sisFj7++OMjDwEXHCwCY7EYK4m5/qijjrJnegu8VMIWYPD9998Hl19+uT3aHHjVOc455xwbay+4b4aF2f5X4/XXX7exZPD8wWuH3xQaDrNosF/cuauSI/mHh07Y4zX5eeaZZ9oz5XPVVVfZWBAtTFYaA+9L3q7guPjii+t0ps+VV15Zd/6HH36wsRRXXdZLOKTwqoYCGbYQ7X+BccH1XQdZNY4xSAqOsNUT+fsTetWN97bbbgueeOKJyhQiRrpT4LdKtm7damPx9LPh8Clbji+99NIceVQBjSNH2MMJ9u/fb/9TikIDU3L66afbWDynnXaajdUIe6E2lmA8vvjii0hA9DgWL15s4q0CAyL57rvvbExpFUNDQzaWX+kcPnzYxmpUYaxp4cpnwygkrUuglXX11Vf3teHoVDkWwddBLCL0ueyyy+pGH/zgk7XmSDZCewn/bQpZPUZ/ka1c9xFrPLDuDlZ8thr/ByUpB6U6RkdHbazW+8uzSE92h/3hpTLBEEj++OMPG6vnjjvuMAoTBZpkODZu3GiURa/SyXIsgtRDX375pY3Nctddd9UZSgfPH2c0aXEz1CtHOYA0duzY0bNl4vPPP7ex/Mh8de+Dg1jjIYXTDuNxxhln2FiNRlcX0/JUGuPee+81K04dKKG0/GSV/969e00c5e7PXZXJ2WefbWM1Dhw4YGOzsGrWKcH33nsv1nDQKGHYi+HNXoX30HWqHItwySWX2FhtZMSHub5PP/3U/jcLzx/3ihrKA0O9Tz31lD1Sg7Lij3z0OwsWLLCxejJ7HlVOhFUBr7Jw0NLSPRsag8pFK8UpHvLy/PPPN/kplQ/dfyrb2rVrzf8o4nYPD/F89DocNIDkkIQLHJ+enrZX9SbdLEeJfNMujjxx8x5xDhX//fefjcUjG6pjY2NN6TvyEAeduLJWRli2bJn9psaRPYdmG02xxkMKplVeVhJ/jFX+4DRoNd1+++32vxrXX3+9KRRKcahIf/75Z1Qh6f7juSY93PDWcC388fHxliicCy+80MZq+F1xhrGkl1G/06lyLIL/mvakSXN/Al96B8WB843j5ptvtjElD3OMhy+UdhgPH39cMokHHngg8qySwbWmlOKgQKi4UgYMZ9Bq8eceaO0zXtxq/DJK40N62WUFFGWvU1SOndZj92WcZDwwlPL3xE2uS5zBxLA2ayyLlruiodPK6Rzj4e/N0Q7j4Y/JnnfeeTamtBLmBMh7jC8teSYYDx48GPz444+mIPPJ/xwHrqGnx1t8q8T3BvLnQJR6GpGj22WxU0nbQ+iWW26xsZpxSJozZfM4N5l+//33m08lP7HDVu0myXumnTDe6Lr4aYHuv4PKGndNXGC8tJPAgC9dutQoFmAxWNxaEv7nuBwaZBJazj2VTSdu3hQn07gge8FugVae0CidLMei5G3IXnPNNTZW47PPPrOxel588UXziRNB3KR6r+McIxqlI42HTz8Ktt089NBD0WQyrnpZi8EYMpReGQ8++KCNVc/JJ59sY4rPww8/3DVyzEL2NtIMCYZQuii/9tprNjYLvRE3l3rnnXeaz35ADlvGuTAXYY7x8IWS1j2sCrlRD/iTZe2A7n3cOKQf5ApMWnFx18SFdi/EktBalSu3ZUVMQ17H0EdVvamff/7ZxmrIXQHbRZxM44Js2VNW4q6JC43Q6XKskhtvvNHG4te3PPvss+aTOZ9OqntV0+wUgJxP6kjj4S8KbNalTCmGP2yY951geEHJIZZvv/3WxsoFZeCgJdVPlb8IvhyPPvpoG0vH92arSo5FKOrIw7oP2cp+9913baxmVJ1DAO/t6yf8fMuzhk56rMkFg7HGQ35BkldDlUhPDx6229aa9CutePEkDQvZ3dYFXeXTiS8Q9RuxeRYvyzUfr776atSDw5DQo0K3lFl+umGdh+9c8tdff9lYMuSVQ27ZHDvnIYeJshbZlA0eEPJhb731VhtTuo28Ld0ivP322zZWA+8upVqqkGNRGllCcO2119pYbXzfjWi4IavHH3/cfPYTfq/SnyLw8Ycs5ShQrPGQLyGTq81bgdv8Huh26sKd1nPiiSfaWI2JiQkbS8cviBdccIGNlQNdbDmG32/j1UXx5ejPFSVRtRwbQRoPeh15jIe/5uOdd96J3HPRLZdeeqk9Uw7dsM6DZ5TDebzqhbSTkGXBHwWKNR5Z75GpClaIO5dC2LJlyxyXQqV68G6TlY53BjFOnAULslxBrGK4kcVrrldKBdA3B6TTjBwdnTJsLN+3V+Qt3/fdd5+N1dZ84J5LGWVPoH7VLXI4L20dDOCp5uo0a2EYPosIT8whrKBcHQV2FSzKigJ7mEOoCOquD3+gPdNdsOua+w38pnayXmwRSvjqq6/smWzYkTAsKNG9WfLw977O2rXR7UJHCHsQ9mg87Frnl6e4HSa7AVnO43boK5uq5RhHaLCi+wlpO9XlZXBwMEpv586d9mg2lB35LC6EvQ97Rf/Bb5f1bzRmK29A9u6asBExR46JWl1u/bh582Z7ND959kFGsBRWHkxey37c3UqnGA+2BQ1b53X5iuIoUpE3bNhQdz+FzK90yBB5SYWTpdi5R16fZDz4LvJQ/g7irVC6VdFq4wFVyTEO7pHfRRgfH7dnG2NiYiJKa6CBLbEp9/J5urVhWiZ+I8HXVZRNV+/4RAY+icaDvYJdwlj9vFAIZQVxAQUhg28w3DVxD9lNtMt48F0Eehvko8xXGch3lIe7PkuBUchkK4VAy9LJUR4n7V27dtk740Fp8f3yPgqnS88FaTBcoNJTvroZ8tz9nlYaQeTo52maHPP0OJxxJyAbv8chA+e4xl3vG680Nm3aFKVDvCiyBU2Q+3D3M37ddvVQ6mbiSTo5dTxJdhXzKnV3fVZwD0qBosVTpDB1Mu0yHrIVUSTkeUYUNgUNpS8LFsEpBc5nIfMmK/A9lA+MIWl3u9FwkN/uN7bSeEBZcnTw/I2Wu7y/nV4GvQ3u4bORIXRwv5cyVcYwWq+A3qWO+YaffMqqd6nGg7FFl9jChQs103PQLuOhdAftNB7dSLO9DkABul5XkXk/JZ15/AkzNZHly5dH3hfvv/+++V9RFKVqWCawZMkSs0AQ99w9e/bkctH1wYuTF1KGrWuzWjrsLdkzSjNkGg8EhwDdeg98xeUqQ0VRlLJB77AaempqyhgMDEeeVeU+uKFiNHDxZpMrXjWvlEPsOg+JE5xbdc7rnflfURSlCmioSsOxbdu2hgwHsCcJhmN4eFhfZVMymcYDEODExITpcdAiwICwsb6iKEqZbN++3egXaThGRkbs2WQ2btxo3v0kX6qK4XCvXR8bG9PhqrJh2KoIrPlwHhahcGfWrFljzyiKojQGegWnHKdXVq5cOTM9PW3PZhMaDnNvnLupOq5UQ66ehyQ0FmZzmVDYpmXQyteXKIrSm9Bj4P1VvCKdYXF6HKEhsGfzwxAVvY1J++blVatWmQ2ulPLJnDDPAoHLt/AqiqI0AkPiNEgbgWErttF1jI6Omg2h2NdDqYamjYeiKIrSfxQetlIURVEUNR6KoihKYdR4KIqiKAUJgv8B2ux5kZ7TN9cAAAAASUVORK5CYII=\" alt=\"hlde-4-1\" height=30 />"
      ]
    },
    {
      "cell_type": "code",
      "metadata": {
        "id": "P31IIqXbAQa0"
      },
      "source": [
        "x = symbols('x')\n",
        "y = Function('y')"
      ],
      "execution_count": null,
      "outputs": []
    },
    {
      "cell_type": "code",
      "metadata": {
        "colab": {
          "base_uri": "https://localhost:8080/"
        },
        "id": "ukb3otjuAQnf",
        "outputId": "2b0edf7a-15e9-4229-9b68-c4a9f89913ff"
      },
      "source": [
        "diffeq = Eq(y(x).diff(x, 4) + 18*y(x).diff(x, 2) + 81*y(x), 0)\n",
        "increase_font()\n",
        "display(diffeq)"
      ],
      "execution_count": null,
      "outputs": [
        {
          "output_type": "display_data",
          "data": {
            "application/javascript": [
              "for (rule of document.styleSheets[0].cssRules){if (rule.selectorText=='body') {rule.style.fontSize = '20px';break}}"
            ],
            "text/plain": [
              "<IPython.core.display.Javascript object>"
            ]
          },
          "metadata": {}
        },
        {
          "output_type": "display_data",
          "data": {
            "text/latex": "$\\displaystyle 81 y{\\left(x \\right)} + 18 \\frac{d^{2}}{d x^{2}} y{\\left(x \\right)} + \\frac{d^{4}}{d x^{4}} y{\\left(x \\right)} = 0$",
            "text/plain": [
              "Eq(81*y(x) + 18*Derivative(y(x), (x, 2)) + Derivative(y(x), (x, 4)), 0)"
            ]
          },
          "metadata": {}
        }
      ]
    },
    {
      "cell_type": "code",
      "metadata": {
        "colab": {
          "base_uri": "https://localhost:8080/"
        },
        "id": "wlGVG1ZYAQ1i",
        "outputId": "2d5d0442-f0c7-40d7-9acb-7a138b11747d"
      },
      "source": [
        "gensol = dsolve(diffeq, y(x))\n",
        "increase_font()\n",
        "display(gensol)"
      ],
      "execution_count": null,
      "outputs": [
        {
          "output_type": "display_data",
          "data": {
            "application/javascript": [
              "for (rule of document.styleSheets[0].cssRules){if (rule.selectorText=='body') {rule.style.fontSize = '20px';break}}"
            ],
            "text/plain": [
              "<IPython.core.display.Javascript object>"
            ]
          },
          "metadata": {}
        },
        {
          "output_type": "display_data",
          "data": {
            "text/latex": "$\\displaystyle y{\\left(x \\right)} = \\left(C_{1} + C_{2} x\\right) \\sin{\\left(3 x \\right)} + \\left(C_{3} + C_{4} x\\right) \\cos{\\left(3 x \\right)}$",
            "text/plain": [
              "Eq(y(x), (C1 + C2*x)*sin(3*x) + (C3 + C4*x)*cos(3*x))"
            ]
          },
          "metadata": {}
        }
      ]
    },
    {
      "cell_type": "markdown",
      "metadata": {
        "id": "zfC31D7DARBI"
      },
      "source": [
        "### HLDE Example 4.2:\n",
        "<img src=\"data:image/png;base64,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\" alt=\"hlde-4-2\" height=30 />"
      ]
    },
    {
      "cell_type": "code",
      "metadata": {
        "id": "_cm_G5q5ARQI"
      },
      "source": [
        "x = symbols('x')\n",
        "y = Function('y')"
      ],
      "execution_count": null,
      "outputs": []
    },
    {
      "cell_type": "code",
      "metadata": {
        "colab": {
          "base_uri": "https://localhost:8080/"
        },
        "id": "vSITSYTbARc4",
        "outputId": "f154bf9c-7111-48bc-ae4c-769a7abd99c9"
      },
      "source": [
        "diffeq = Eq(y(x).diff(x, 6) + 9*y(x).diff(x, 4) + 24*y(x).diff(x, 2) + 16*y(x), 0)\n",
        "increase_font()\n",
        "display(diffeq)"
      ],
      "execution_count": null,
      "outputs": [
        {
          "output_type": "display_data",
          "data": {
            "application/javascript": [
              "for (rule of document.styleSheets[0].cssRules){if (rule.selectorText=='body') {rule.style.fontSize = '20px';break}}"
            ],
            "text/plain": [
              "<IPython.core.display.Javascript object>"
            ]
          },
          "metadata": {}
        },
        {
          "output_type": "display_data",
          "data": {
            "text/latex": "$\\displaystyle 16 y{\\left(x \\right)} + 24 \\frac{d^{2}}{d x^{2}} y{\\left(x \\right)} + 9 \\frac{d^{4}}{d x^{4}} y{\\left(x \\right)} + \\frac{d^{6}}{d x^{6}} y{\\left(x \\right)} = 0$",
            "text/plain": [
              "Eq(16*y(x) + 24*Derivative(y(x), (x, 2)) + 9*Derivative(y(x), (x, 4)) + Derivative(y(x), (x, 6)), 0)"
            ]
          },
          "metadata": {}
        }
      ]
    },
    {
      "cell_type": "code",
      "metadata": {
        "colab": {
          "base_uri": "https://localhost:8080/"
        },
        "id": "DSaBYHgVARp6",
        "outputId": "fdd70b9c-b398-4745-aae4-5d95d646911e"
      },
      "source": [
        "gensol = dsolve(diffeq, y(x))\n",
        "increase_font()\n",
        "display(gensol)"
      ],
      "execution_count": null,
      "outputs": [
        {
          "output_type": "display_data",
          "data": {
            "application/javascript": [
              "for (rule of document.styleSheets[0].cssRules){if (rule.selectorText=='body') {rule.style.fontSize = '20px';break}}"
            ],
            "text/plain": [
              "<IPython.core.display.Javascript object>"
            ]
          },
          "metadata": {}
        },
        {
          "output_type": "display_data",
          "data": {
            "text/latex": "$\\displaystyle y{\\left(x \\right)} = C_{5} \\sin{\\left(x \\right)} + C_{6} \\cos{\\left(x \\right)} + \\left(C_{1} + C_{2} x\\right) \\sin{\\left(2 x \\right)} + \\left(C_{3} + C_{4} x\\right) \\cos{\\left(2 x \\right)}$",
            "text/plain": [
              "Eq(y(x), C5*sin(x) + C6*cos(x) + (C1 + C2*x)*sin(2*x) + (C3 + C4*x)*cos(2*x))"
            ]
          },
          "metadata": {}
        }
      ]
    },
    {
      "cell_type": "markdown",
      "metadata": {
        "id": "Dkr1U6KoAR9x"
      },
      "source": [
        "### HLDE Example 4.3:\n",
        "<img src=\"data:image/png;base64,iVBORw0KGgoAAAANSUhEUgAAAlYAAAA8CAYAAACkVfQKAAAAAXNSR0IArs4c6QAAAARnQU1BAACxjwv8YQUAAAAJcEhZcwAADsMAAA7DAcdvqGQAABamSURBVHhe7Z1bqFTVH8e3vVd/rbegMn0JglTOiYguJpTHCjmCYFdSki4WpBFlmqhkqREZ0UWttF60SFEkrQg6pRbdrTB6yEtF9KJpl3fPfz571hp/s9z32TN7zczvA4uzZs+cuez127/fd631W2uPGa0RKIqiKIqiKC1zlvmrKIqiKIqitIgKK0VRFEVRlJJQYaUoiqIoilISKqwURVEURVFKQoWVoiiKoihKSfSFsNqzZ0+wdOnSYHBwMBgzZkyj8JjjR44cMa9UFKWdcK1t2LAhuPXWW4OJEyc2XY9DQ0Phc3/99Zd5df/Ab3777beDBQsW6HnpMbRt+4+e3W4BQ33jjTeCjRs3BocPHzZHoxk7dmzwyiuvhM5eUZTy2b9/f7Bq1argww8/NEfi4XocGRkJLr/8cnOkd0FoPvfcc2HgPXnypDkazYQJE4Jt27YFkyZNMkcUn8nbttu3b+8Lm+8LEFa9yNq1axGMjcLjmsAKnzt+/Pjo+vXrR2sOvPE8dY4rilI+7vW4Zs2aputx69atTddjLdCEz/U606dPb/xmfj/nwfohzs+SJUsaz1N4/alTp8LnFb8p0rZKb1CqsKqp8tGjR4+aR9UiHTkGHQXHpWEjthRFGR09cOCAqZWDvB63bNlijjbjXo+7d+82z5RL2b+tFWzwJfDGfa8HHnig6bz49P17iZGREVMrB9m233//vTnajNu2ca9TuotScqw++eSTYPLkycH48eODlStXmqN+UDPu2Ck+jteM3jwKgn/++cfUFKW/mTVrVpgDsmjRouDXX381R1sn7XqUHDx40NRa5++//w59E36K8uabb5pn/ODxxx+PneK77777TK3Of//9Z2pKWdQETXD99deH8aBsm1+8eHHsFJ+2bY9iBFYhUPg1J9VQ2//73/9G161bZ57tDmyvgkKvWlH6HUae586d27guKDzuxGi0/My4kea8bN68efTiiy9uvO/UqVPDY92EPC979+41R5WyYBQQu5DneeHChR2ZdpWfuW/fPnNU6WYKCSscL0aHkMIYrKDieLdBLoc16rIcuaL0CrXee+P6oOzYscM8Uz7kn8jPsjlYRcEfDQ8PN95v0qRJbf3+7YLzIM/LoUOHzDNK2SCwsBNpM+3sULht26rNK36QW1hFOasjR46YZ88EBS4NJ0thFInCCFI7Fbw06n5Jls0K553zTztI8WnP1Zw5c0IhmjXh32c76HVoI/I87HklcTwPBBvbiaK0a1Ra5mGR2NsKBEM5SkVHMKnjh53Z12YpXAP8DzkyXAftDIgy94zP0+T1ZPAVtE8rPn3FihWNc47ttyuvzW1bpVpoD2Kb9Jcy3mUlt7CSUwSIqhMnTphnosGp84UGBgYa/5e38CNxulmDeFY4WfYz2pUo202QOMnFLY0qrWB0WUSPz3bQ60g7p+QVVoBQkeKq7Kk0KapaDTAIqPHjxzfeD1GVBrbvrtLKWxBaZXcAsHWuMd4f+9fRqng4V9LWaY9WINVlzJgx4Xu1Q1y5baujVdXB9T9x4sSG7cQV4lcWO8glrOip2g/IIqokGI01UluinBDHCMBRPUiMryzHxWfY982jRHuVBQsWNJ1rCkbEubFChr88ts5AlqztIkcJbYnKGUmzA80zyQYdBvf8FRFWgEOR79PqKiraGEFl7Ym/rXZwEFWzZs1qfMcsokqCqLP/S4kKztgw3x0hhi3K11N4j2PHjplXt4b9PnyOrhiLx90+h9KqsAIZ8xBXSaOeebE+V9u2WriWpTZBnFuRS8yTnT7bXmniKrOwwonaHit/izjVwcHBpi+YFoz5cUNDQ03/Q2lVCGHE48aNC9+r1d5xWUgBQUN2Gvc8832soHKRPS1beJwVd9QqTSRhB1ECK27ZfqeQ56yKNkuDdooK/EWFFTBSZd8HP1AE11FR+J4ER+vQiiKncJgKzBsIXSGaJThHBXVsvFVxhZ+z79eqzysD/LX8jT5MSfKd3LhiSxnCCmTqC/UyoD1tMPehbfsV/I28duP0gOsX0q7vzMJKrpjI2wu0uME7TVhZ3F4kpagx+iiqwCdhhaHFiSpL1EhI1tEGVyRlHX0q0w7KwHdh5U4B2tKKsAKZ3EtqQF6ihJUstHOa/UXBdKV0kkWmK13xkDU441fKFFfYtX0fXwKvT8IK+0ibui1LWCHO5fu2OlJLe6qo8gMZixgcSLpe3fiT5EczCStW0tg3o5dadJVEUWEFbjDGieXt3foqqkD+vqqFVdaNUt1AkvV7u22ZZ1qvDDsoC5+FlRS+bgBqVVhJf0BpZdUUARI/4DotRElecSXzP+kIFqGosAL3fylFkvB9FFXgi7DinFjfw1+uvSgbytN2aUjbYiS0KFJUVT3i3u+gB2ybUl599VXzTDTu67G9ODIJK9lDbWUotBVhRfCU/0vJI45kj5L/821ljU/CKmtAc0UOIyRZcP8vj7DCDtxcvapEsq/Civaztk6buAGxVWEFcsUdQaeM68l1XHnOqZtcv2nTJvNMPtxzlTc4u8Gdkkf4+yqqwAdhJc8P51qOMLTadklgX/K9i2zboaLKL9xrNcvCEDcFJm6WJnXn9Z07d4a70lruvvtuU+ssl1xySVA7EeZRnZrCzHRX8B9++CHcVffkyZPhe7z88svhrtLKad5//31EdljOO+88czQf48aNM7X20Yod9AsPPvhgaOs1cRU888wz5mi51DpYplb3EWXA7tSybd99993QHrPw1ltvhburQ01gNX2/TvLoo4+e4Vu4GXwWuFnvbbfdFtZrQVhvCh8B56QmmIKaiApvnH/++eebZ9pLrSMRFgv2lgfbtthzTVQ12lmpDtrEgq8ktqRx4403mlqdzz77zNSaSRVWn376qanVHdbUqVPNo87jbv8PH330kalFQ8CdP3++iqoOIB1PO7n33nvPaMM0O+gX9uzZE7zzzjthffXq1ZmcRRGWL19uavXbxZR1ixhpQ4cPHza1dOTn46PwVVXA+Z4zZ455VMe2RxJ0/hDEoKIqmQ8++CC4+uqrzaPO4XYmrJBPg7ZdsGBBWC8qqs4666zQ5yWVqE5I1OtkQaD2I7QJmsByxRVXmFoyboz79ttvTa2ZTCNWliodFtCjRVlK+H5Jvdo77rgj+Oabb0JRRQ8HY4picHAwLEp2vvrqK1Orc9lll5lae4mzg36HTsSdd94Z1gcGBiI7ImWBH5C+YNeuXYnX4dDQUHjtLV26NPF18n6dWZ0dI+ry3m4zZ86Mvc47AX5Sfj4CEUceB+02bdq04MSJE4miitcRYNPOodIerrvuOlOrk8Xn0GZ2toS2jRNVvM5eH3khtiGQqrT5buOLL74wtTpZO6BXXXVV03n+8MMPTa2ZRGHlOqxJMTcJ7STuUByiKY5nn302/OEEmaeeesocPZMNGzaE71N0Cqwf2b9/f5PinzBhQnDTTTeZR+0njx30C3YKEF5//fXwbzuR/oAbsWeBadsjR46YR80QXOTozty5czMFC/ezqxxVhyuvvNLUTvPzzz+b2pkghhFVBMgkUbVs2bJQUJ1zzjkaRCvAtSs5mxMHHXs7W5LWtnDuueeGf1327t0bxjEXpkUZMIgbwSOGuyOogL9+7733gmuuucYc6S9+//13U6tz0UUXFb6movxZqrCSxN2hu5NMmTLF1OrETRfQQ+SO8UDQZS6eExdV7r///vB1SnZeeuklU6uzatUqU+sMkydPNrU6eaaNehE5BbhkyZKOXKtSWDEtIjthcRBkCAa7d+82R+qBhe/PqJZtR4JI1ukwN8BVOaoOUefedeQWOnW214vojPJPFPwXzyvVgV3JqaC0Easy2xbhxBSoO1KfBrZILpEryrZt2xbcfPPN5lFx7Eh0J0qZ05ZxU3hpRAnYP//809ROkyisXIflw4hVVqyoUsqH0So5skCPSHNCqgNhctddd4V1eqKPPPJIWG837tSI2xGTMNVlgwLi6ZZbbmk4TAILTt6OOmJPBJGsyM8l8FUtrLJCuz3xxBM6rddFSGGVlGNl27ZMmFFh5KsIcjZm7dq1XRXLu5FEYeUajpu4VQVReTwEepe4uc8k2pXo20vgMObNm2ce1QM5CwI6DXZAUJZE2UE/8NBDD4VTSfDiiy9WNqWdNGL12GOPBb/88kuYZ0JwwG4k9Khtrgg97Dy/QX6uDz4K3BGCjz/+2NROw/SgnE7PyoUXXmhqSqdxBUlcZ6JdbXvPPfeYWh3iHD45jUOHDpname/Rj7j5wWWTKKykw/KlF0h+QRboBeYtzFUryRDE7UXKCMT27dsrCeRZ7aDXkaOHjPR0Ms/NFTE//vhjeB3FgZ0wssl1hg3Ja+/rr79OzBWJwxVzvgirLNcEv1Weg6xFl+pXhxsH40atirZt2sg/nX+m0iVpK6JJi7FT7HReyvTXjCxH/Y52lDLzwYqI3jxkHrHyeXj97LPPNjWlnbAYwO79gagaGRnxIu/O0m92YEcPcTq0R7v2rIoja5BpJ1V8ZhG6ZXpSScZNLs+SV1g2LOqQZMn1srDPmtJ+ck0F+sAff/xhaqfxKbhb8ib1yalL8sOiXhNXOjEFhqBavHixeRSEowtVnvd22MGMGTMiz29ckXlAVbTZ888/3xg9RFR1eirbR7Hgy3eSUy/gLrrxAWwwyjbjijtikGVvJVvwh3QAuh0f7OuGG25oSmJnxDpuOpDjNjGeEW1Nd+kMicLKR+JW1yjtgxVbdtdgYJO7qpPVsYNecNRFISjaESryeVrZs2rixIlh8OtGfB2x6vdVqkr7sFPqkrjpQLnrP2kcSh03B7Jsuk5YubT7BPU7zM/bTSfB19sx9JMd0AuV0wGvvfZaIWHE/ivsCI0IcJPJs+CDqPFhOjILndo8V2kvvtjX7bffbmp1uPNAVEdz48aN4V/ysvLmL/YyZeaZRaWgZBZWvhiUu7qmSEDoBHmT+mRCIstho14TV9p1wSCq7K7B4JOoIr9LUoYdyPslZilMb1g62WbsQSNHRNjTS067uMWdwmFKl+OcMztNwKhVq1QxTeLjdGTUNO8FF1xgav6QN8Ha3Ufo1KlTka+LKvhDbK7XqMr+aDvp80glcTeqJH3D+gk3L0spRtSUa1QKSqKw8mWFjcRdJkng78ULtmowIHuPRWDTSZ/2qoqyg35B3valStzOlg/CyocO4E8//WRqdciH8TEPVMmPL9cecM9UiTsdaO+fiQBrl+/u1g1C2VdPQkedDkAa7h0U4jr0icJKOi0cVtVOixEUd5kkiXxK+XDB2A0bWaL79NNPh8btA/1uB+wJ5Y4IJBXXIa1Zs+aM1+TZkNPig4hxhVUVq7RcuMUO59TiU4dEaQ3XvqrcaHP27NmmVod8Kmt3+Ei7IKrTd8XoBtz9wuKS/13+/fdfU6vj3lrNkiisXKOp2mnJZaPA9JmucigfbgRqRRW5S77t70XegAxcagfV4G6OeO2111YivuXIetU+iukYeVcCcPNhlO7Fh1FaCz5P3gcQn22nA22sZLRUBx/O5NJLLzW1OjbepXHw4MGm2IPPiyJRWLnD11U6LQzG7qFkefLJJ01NKQtWANrVZlyUWUcyuJDZ56rdqB34w2+//WZqdarqvcub41Y9si5HDUCThnsL2ZnA3qsUVjA8PGxqdZgOlFsskE9ZZqK2S95c4lZKmRuEom3caTxiXxpujnecaE0UVm6jMbxYFeT4yOkflLo6rHLhgpQrAHft2pXposQuuJF1J+7PiB3Y27eA2kF1yI4WAaaqnEz3c6vqAHIduJu0Mu2q9AYIdmlbVU4DWphmlntaIezlFgt6+5p45GgfcGN4BFwcxEe532TSLvapOVZSkSfdZLWdsCRcDq+jNKu4P12vs2zZsoZ4ZZVbVsGyevVqU2svagd+If2BHDXqNA8//LCp1SHHqdMgqtwFFIwa+BB8lXJw7cq9CXlVyBw+prTsFgtl376m13BFJzMhSblWUrCCu3hAkiisQI5ateqwsiaIWZj2wWjssCYQTKu6P10vwxJxeZ6Bqb2kQi7W4OBgQ+zErZBwKcsO2HZA7SCdzz//3NTKA1Ele+8zZ86sbHGDO1q2d+/exJ5nEm5yahZwyHJbEmBktZVNW5X8uKsxs96gOCvujE2VnQmJa2d2iwW9fU0y5KgxgGDh+o3bRJW2l6PP1BM7TTUHlMjIyAgeqlE2b95snslHrbFHa4636b327dtnnj1NzWGPbt26dbSmtpteS5k+ffro8ePHzSt7C36b/Z21xjZHO8fQ0FDTuS5S+A1pYAfu/9UCoXn2NGl2cOzYMfPK6pDnrIo2y4p7DgcGBkZPnTplni3GihUrGu9XEzajJ06cMM9Uw8KFC0v5Pu65irJpfBC+izavCfym148dO3Z0y5Yt5pW9Bb9Z/tZWbahM+G6ce/n9KHPmzAl9ThnUxHvjfYeHh81RP3DtMIsvVupEXfPEH+BaJw5J2+L1abafKqxAGtTcuXPN0WzYL4Yzt++Rt/C/u3fvNu/Ym9CY9vd2OkjjlFzRW6QkXcy9aAe+CyucQ5QwpRBwrPMogusTqg6ytd5m0+/btGmTeSYbnIslS5Y0vUeeguPlXPdqxw98EVYIJc41/oYSJajcgvCwr+d/8+IOMOzYscM84wfr169v8uG0lZKdpUuXNrVvXMFHZLH7TMKKUSr55kePHjXPpONejGmF4GmNH2Mpq7fhO/xmew46HaT5PNkGRQu/IY5etAPfhZU8n3GlCAQV+R4HDhwwz1QLAs9+J4RfHuT1l1YI5LyeQrv3eqfP4ouwyutLokpepG1NmjTJHPUH/KMVVvhOJT+cQ4ST2/nnOud4nhiU2cJaGbVS0pGO3ccgrZxJt0wFlg2Bxf5upuB8gQ6f7LX7NqrQ7fgirDoNdsX0ss92JYVVr05FdxOpyeuWzZs3m1p9q/zvK1ohqChKdbzwwguNa5+k8eXLl4d1H6h1/oKa0DOPgmDevHmmpijFwY7s3mgs5nK3IfIBFkvU4nm4qEeuElSqYQzqytRTWbRoUehYASfGaq2aSg4fK4rS2yCoWP1mg0yt5+5lkJkyZUpw4MCBsM7343sqShGId8Q9IOZhV3QofIIV3XbzTJ9ulN/PZB6xgnXr1jWWmLLUetq0aaFKVhSlt0FUzZo1qyGqGBnyUVQBuyOPNZsm7ty5M1i5cmVYV5Q8IKqs7SCmiH++iSqwwk9HqzyCEau81MRVY76ZfIuql1oritI+WBElcyx9yquKg7yYbvvOij/URFQjr4q/VedV2fwpVq9KWNxjbVxzq/yhkLACHJVtUErR/a0URfETtjDgOpcBhoDTLfD9ZaI9dU1oV5KgEzE8PNxkMz6serXCim1S2NKDIrcHYfFTvywm6AYKCyvA4MaPH99khN3keBVFiUYKKgqj1L5sq5AXfJL9Hfa3EEAVxYJtI6jcTgTi3Afkale3sEdXL++f1o3kyrFyqQmpMIGdFYPkXpGH4d7xXlGU7oPcJOC6/u6774KaEOna+97VRGKYC1oLlGECMrfmsrliigLYhbX5FStWhEnq2E1NYIXHfGVgYEBv8eYhuVYFpoGzomCkiqJ0L3SSuI59DyxFQFghEnvxtynF8dnmZ8yYEXz55ZeN+1EiqObPnx/Mnj1bRZWHlCqsFEVRFEVR+pmWpgIVRVEURVGU06iwUhRFURRFKQkVVoqiKIqiKCWhwkpRFEVRFKUkVFgpiqIoiqKUhAorRVEURVGUklBhpSiKoiiKUgpB8H/WiOD0wvvUhgAAAABJRU5ErkJggg==\" alt=\"hlde-4-3\" height=30 />"
      ]
    },
    {
      "cell_type": "code",
      "metadata": {
        "id": "6qyIAUrGASLp"
      },
      "source": [
        "x = symbols('x')\n",
        "y = Function('y')"
      ],
      "execution_count": null,
      "outputs": []
    },
    {
      "cell_type": "code",
      "metadata": {
        "colab": {
          "base_uri": "https://localhost:8080/"
        },
        "id": "KKJ9N1MmMsX2",
        "outputId": "4cebe783-10c6-40cc-8a25-db1dad3a08a8"
      },
      "source": [
        "D = symbols('D')\n",
        "deq = Eq((D**2+2*D+4)**3*(D**2+1)**2,0)\n",
        "display(deq)\n",
        "expand(deq)"
      ],
      "execution_count": null,
      "outputs": [
        {
          "output_type": "display_data",
          "data": {
            "text/latex": "$\\displaystyle \\left(D^{2} + 1\\right)^{2} \\left(D^{2} + 2 D + 4\\right)^{3} = 0$",
            "text/plain": [
              "Eq((D**2 + 1)**2*(D**2 + 2*D + 4)**3, 0)"
            ]
          },
          "metadata": {}
        },
        {
          "output_type": "execute_result",
          "data": {
            "text/latex": "$\\displaystyle D^{10} + 6 D^{9} + 26 D^{8} + 68 D^{7} + 145 D^{6} + 214 D^{5} + 280 D^{4} + 248 D^{3} + 224 D^{2} + 96 D + 64 = 0$",
            "text/plain": [
              "Eq(D**10 + 6*D**9 + 26*D**8 + 68*D**7 + 145*D**6 + 214*D**5 + 280*D**4 + 248*D**3 + 224*D**2 + 96*D + 64, 0)"
            ]
          },
          "metadata": {},
          "execution_count": 172
        }
      ]
    },
    {
      "cell_type": "code",
      "metadata": {
        "colab": {
          "base_uri": "https://localhost:8080/"
        },
        "id": "8oGQJbSZASYK",
        "outputId": "a58d65e7-2071-47c1-920f-6e637af45675"
      },
      "source": [
        "diffeq = Eq(y(x).diff(x, 10) + 6*y(x).diff(x, 9) + 26*y(x).diff(x, 8) + 68*y(x).diff(x, 7) + 145*y(x).diff(x, 6) + 214*y(x).diff(x, 5) + 280*y(x).diff(x, 4) + 248*y(x).diff(x, 3) + 224*y(x).diff(x, 2) + 96*y(x).diff(x) + 64*y(x), 0)\n",
        "increase_font()\n",
        "display(diffeq)"
      ],
      "execution_count": null,
      "outputs": [
        {
          "output_type": "display_data",
          "data": {
            "application/javascript": [
              "for (rule of document.styleSheets[0].cssRules){if (rule.selectorText=='body') {rule.style.fontSize = '20px';break}}"
            ],
            "text/plain": [
              "<IPython.core.display.Javascript object>"
            ]
          },
          "metadata": {}
        },
        {
          "output_type": "display_data",
          "data": {
            "text/latex": "$\\displaystyle 64 y{\\left(x \\right)} + 96 \\frac{d}{d x} y{\\left(x \\right)} + 224 \\frac{d^{2}}{d x^{2}} y{\\left(x \\right)} + 248 \\frac{d^{3}}{d x^{3}} y{\\left(x \\right)} + 280 \\frac{d^{4}}{d x^{4}} y{\\left(x \\right)} + 214 \\frac{d^{5}}{d x^{5}} y{\\left(x \\right)} + 145 \\frac{d^{6}}{d x^{6}} y{\\left(x \\right)} + 68 \\frac{d^{7}}{d x^{7}} y{\\left(x \\right)} + 26 \\frac{d^{8}}{d x^{8}} y{\\left(x \\right)} + 6 \\frac{d^{9}}{d x^{9}} y{\\left(x \\right)} + \\frac{d^{10}}{d x^{10}} y{\\left(x \\right)} = 0$",
            "text/plain": [
              "Eq(64*y(x) + 96*Derivative(y(x), x) + 224*Derivative(y(x), (x, 2)) + 248*Derivative(y(x), (x, 3)) + 280*Derivative(y(x), (x, 4)) + 214*Derivative(y(x), (x, 5)) + 145*Derivative(y(x), (x, 6)) + 68*Derivative(y(x), (x, 7)) + 26*Derivative(y(x), (x, 8)) + 6*Derivative(y(x), (x, 9)) + Derivative(y(x), (x, 10)), 0)"
            ]
          },
          "metadata": {}
        }
      ]
    },
    {
      "cell_type": "code",
      "metadata": {
        "colab": {
          "base_uri": "https://localhost:8080/"
        },
        "id": "Mq_n8rJ0ASmi",
        "outputId": "84d275bd-948b-4404-bdbf-aabb8daf78d8"
      },
      "source": [
        "gensol = dsolve(diffeq, y(x))\n",
        "increase_font()\n",
        "display(gensol)"
      ],
      "execution_count": null,
      "outputs": [
        {
          "output_type": "display_data",
          "data": {
            "application/javascript": [
              "for (rule of document.styleSheets[0].cssRules){if (rule.selectorText=='body') {rule.style.fontSize = '20px';break}}"
            ],
            "text/plain": [
              "<IPython.core.display.Javascript object>"
            ]
          },
          "metadata": {}
        },
        {
          "output_type": "display_data",
          "data": {
            "text/latex": "$\\displaystyle y{\\left(x \\right)} = \\left(C_{1} + C_{2} x\\right) \\sin{\\left(x \\right)} + \\left(C_{3} + C_{4} x\\right) \\cos{\\left(x \\right)} + \\left(\\left(C_{5} + x \\left(C_{6} + C_{7} x\\right)\\right) \\sin{\\left(\\sqrt{3} x \\right)} + \\left(C_{8} + x \\left(C_{10} x + C_{9}\\right)\\right) \\cos{\\left(\\sqrt{3} x \\right)}\\right) e^{- x}$",
            "text/plain": [
              "Eq(y(x), (C1 + C2*x)*sin(x) + (C3 + C4*x)*cos(x) + ((C5 + x*(C6 + C7*x))*sin(sqrt(3)*x) + (C8 + x*(C10*x + C9))*cos(sqrt(3)*x))*exp(-x))"
            ]
          },
          "metadata": {}
        }
      ]
    },
    {
      "cell_type": "markdown",
      "metadata": {
        "id": "aBhUkxasAnei"
      },
      "source": [
        "## Method of Undetermined Coefficients (MUC)"
      ]
    },
    {
      "cell_type": "markdown",
      "metadata": {
        "id": "xHFTRYq_AXu6"
      },
      "source": [
        "### MUC Example 1.1:\n",
        "<img src=\"data:image/png;base64,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\" alt=\"muc-1-1\" height=30 />"
      ]
    },
    {
      "cell_type": "code",
      "metadata": {
        "id": "8o8bbNyTAX9h"
      },
      "source": [
        "x = symbols('x')\n",
        "y = Function('y')"
      ],
      "execution_count": null,
      "outputs": []
    },
    {
      "cell_type": "code",
      "metadata": {
        "colab": {
          "base_uri": "https://localhost:8080/"
        },
        "id": "yE5Ttbe2AYJu",
        "outputId": "53c5ff24-6d9f-411e-a388-b67986ab2991"
      },
      "source": [
        "diffeq = Eq(y(x).diff(x, 3) - 3*y(x).diff(x) + 2*y(x), -7)\n",
        "increase_font()\n",
        "display(diffeq)"
      ],
      "execution_count": null,
      "outputs": [
        {
          "output_type": "display_data",
          "data": {
            "application/javascript": [
              "for (rule of document.styleSheets[0].cssRules){if (rule.selectorText=='body') {rule.style.fontSize = '20px';break}}"
            ],
            "text/plain": [
              "<IPython.core.display.Javascript object>"
            ]
          },
          "metadata": {}
        },
        {
          "output_type": "display_data",
          "data": {
            "text/latex": "$\\displaystyle 2 y{\\left(x \\right)} - 3 \\frac{d}{d x} y{\\left(x \\right)} + \\frac{d^{3}}{d x^{3}} y{\\left(x \\right)} = -7$",
            "text/plain": [
              "Eq(2*y(x) - 3*Derivative(y(x), x) + Derivative(y(x), (x, 3)), -7)"
            ]
          },
          "metadata": {}
        }
      ]
    },
    {
      "cell_type": "code",
      "metadata": {
        "colab": {
          "base_uri": "https://localhost:8080/"
        },
        "id": "Z52czKxiAYYx",
        "outputId": "f157b8fc-93e3-4670-e143-fb5da0457dea"
      },
      "source": [
        "classify_ode(diffeq, y(x))"
      ],
      "execution_count": null,
      "outputs": [
        {
          "output_type": "execute_result",
          "data": {
            "text/plain": [
              "('nth_linear_constant_coeff_undetermined_coefficients',\n",
              " 'nth_linear_constant_coeff_variation_of_parameters',\n",
              " 'nth_linear_constant_coeff_variation_of_parameters_Integral')"
            ]
          },
          "metadata": {},
          "execution_count": 177
        }
      ]
    },
    {
      "cell_type": "code",
      "metadata": {
        "colab": {
          "base_uri": "https://localhost:8080/"
        },
        "id": "J2gNFt1cAYpH",
        "outputId": "0573e077-a9be-4b43-edcc-aeddb82b199a"
      },
      "source": [
        "gensol = dsolve(diffeq, y(x))\n",
        "increase_font()\n",
        "display(gensol)"
      ],
      "execution_count": null,
      "outputs": [
        {
          "output_type": "display_data",
          "data": {
            "application/javascript": [
              "for (rule of document.styleSheets[0].cssRules){if (rule.selectorText=='body') {rule.style.fontSize = '20px';break}}"
            ],
            "text/plain": [
              "<IPython.core.display.Javascript object>"
            ]
          },
          "metadata": {}
        },
        {
          "output_type": "display_data",
          "data": {
            "text/latex": "$\\displaystyle y{\\left(x \\right)} = C_{3} e^{- 2 x} + \\left(C_{1} + C_{2} x\\right) e^{x} - \\frac{7}{2}$",
            "text/plain": [
              "Eq(y(x), C3*exp(-2*x) + (C1 + C2*x)*exp(x) - 7/2)"
            ]
          },
          "metadata": {}
        }
      ]
    },
    {
      "cell_type": "markdown",
      "metadata": {
        "id": "HwpsESLAA1we"
      },
      "source": [
        "### MUC Example 1.2:\n",
        "<img src=\"data:image/png;base64,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\" alt=\"muc-1-2\" height=30 />"
      ]
    },
    {
      "cell_type": "code",
      "metadata": {
        "id": "ATXYieofA1-5"
      },
      "source": [
        "x = symbols('x')\n",
        "y = Function('y')"
      ],
      "execution_count": null,
      "outputs": []
    },
    {
      "cell_type": "code",
      "metadata": {
        "colab": {
          "base_uri": "https://localhost:8080/"
        },
        "id": "C9bDKf-dA2PX",
        "outputId": "02474517-e436-46ad-9c15-4d5144282e99"
      },
      "source": [
        "diffeq = Eq(y(x).diff(x, 2) - y(x).diff(x) - 2*y(x), 1 - 2*x - 9*E**(-x))\n",
        "increase_font()\n",
        "display(diffeq)"
      ],
      "execution_count": null,
      "outputs": [
        {
          "output_type": "display_data",
          "data": {
            "application/javascript": [
              "for (rule of document.styleSheets[0].cssRules){if (rule.selectorText=='body') {rule.style.fontSize = '20px';break}}"
            ],
            "text/plain": [
              "<IPython.core.display.Javascript object>"
            ]
          },
          "metadata": {}
        },
        {
          "output_type": "display_data",
          "data": {
            "text/latex": "$\\displaystyle - 2 y{\\left(x \\right)} - \\frac{d}{d x} y{\\left(x \\right)} + \\frac{d^{2}}{d x^{2}} y{\\left(x \\right)} = - 2 x + 1 - 9 e^{- x}$",
            "text/plain": [
              "Eq(-2*y(x) - Derivative(y(x), x) + Derivative(y(x), (x, 2)), -2*x + 1 - 9*exp(-x))"
            ]
          },
          "metadata": {}
        }
      ]
    },
    {
      "cell_type": "code",
      "metadata": {
        "colab": {
          "base_uri": "https://localhost:8080/"
        },
        "id": "qs0zlJciA2cN",
        "outputId": "fa8be98a-7a5e-4b73-a120-ce0f4b4a70f7"
      },
      "source": [
        "gensol = expand(dsolve(diffeq, y(x)))\n",
        "increase_font()\n",
        "display(gensol)"
      ],
      "execution_count": null,
      "outputs": [
        {
          "output_type": "display_data",
          "data": {
            "application/javascript": [
              "for (rule of document.styleSheets[0].cssRules){if (rule.selectorText=='body') {rule.style.fontSize = '20px';break}}"
            ],
            "text/plain": [
              "<IPython.core.display.Javascript object>"
            ]
          },
          "metadata": {}
        },
        {
          "output_type": "display_data",
          "data": {
            "text/latex": "$\\displaystyle y{\\left(x \\right)} = C_{1} e^{- x} + C_{2} e^{2 x} + x + 3 x e^{- x} - 1$",
            "text/plain": [
              "Eq(y(x), C1*exp(-x) + C2*exp(2*x) + x + 3*x*exp(-x) - 1)"
            ]
          },
          "metadata": {}
        }
      ]
    },
    {
      "cell_type": "markdown",
      "metadata": {
        "id": "cXGSmN9_B6iG"
      },
      "source": [
        "### MUC Example 2.1:\n",
        "<img src=\"data:image/png;base64,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\" alt=\"muc-2-1\" height=30 />"
      ]
    },
    {
      "cell_type": "code",
      "metadata": {
        "id": "nC4fcNoWCI5y"
      },
      "source": [
        "x = symbols('x')\n",
        "y = Function('y')"
      ],
      "execution_count": null,
      "outputs": []
    },
    {
      "cell_type": "code",
      "metadata": {
        "colab": {
          "base_uri": "https://localhost:8080/"
        },
        "id": "wVP8iyBbCJHU",
        "outputId": "277d9465-fff0-4bbb-d6cf-90cd293cd8d2"
      },
      "source": [
        "diffeq = Eq(y(x).diff(x, 4) + y(x).diff(x, 2), -12)\n",
        "increase_font()\n",
        "display(diffeq)"
      ],
      "execution_count": null,
      "outputs": [
        {
          "output_type": "display_data",
          "data": {
            "application/javascript": [
              "for (rule of document.styleSheets[0].cssRules){if (rule.selectorText=='body') {rule.style.fontSize = '20px';break}}"
            ],
            "text/plain": [
              "<IPython.core.display.Javascript object>"
            ]
          },
          "metadata": {}
        },
        {
          "output_type": "display_data",
          "data": {
            "text/latex": "$\\displaystyle \\frac{d^{2}}{d x^{2}} y{\\left(x \\right)} + \\frac{d^{4}}{d x^{4}} y{\\left(x \\right)} = -12$",
            "text/plain": [
              "Eq(Derivative(y(x), (x, 2)) + Derivative(y(x), (x, 4)), -12)"
            ]
          },
          "metadata": {}
        }
      ]
    },
    {
      "cell_type": "code",
      "metadata": {
        "colab": {
          "base_uri": "https://localhost:8080/"
        },
        "id": "Hoh49u0BCJbX",
        "outputId": "fa8e0136-7bbf-4cb2-e5db-b7357c0b8739"
      },
      "source": [
        "gensol = dsolve(diffeq, y(x))\n",
        "increase_font()\n",
        "display(gensol)"
      ],
      "execution_count": null,
      "outputs": [
        {
          "output_type": "display_data",
          "data": {
            "application/javascript": [
              "for (rule of document.styleSheets[0].cssRules){if (rule.selectorText=='body') {rule.style.fontSize = '20px';break}}"
            ],
            "text/plain": [
              "<IPython.core.display.Javascript object>"
            ]
          },
          "metadata": {}
        },
        {
          "output_type": "display_data",
          "data": {
            "text/latex": "$\\displaystyle y{\\left(x \\right)} = C_{1} + C_{2} x + C_{3} \\sin{\\left(x \\right)} + C_{4} \\cos{\\left(x \\right)} - 6 x^{2}$",
            "text/plain": [
              "Eq(y(x), C1 + C2*x + C3*sin(x) + C4*cos(x) - 6*x**2)"
            ]
          },
          "metadata": {}
        }
      ]
    },
    {
      "cell_type": "markdown",
      "metadata": {
        "id": "svMP8SOiB60C"
      },
      "source": [
        "### MUC Example 2.2:\n",
        "<img src=\"data:image/png;base64,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\" alt=\"muc-2-2\" height=30 />"
      ]
    },
    {
      "cell_type": "code",
      "metadata": {
        "id": "mCQO6Uy5CJwH"
      },
      "source": [
        "x = symbols('x')\n",
        "y = Function('y')"
      ],
      "execution_count": null,
      "outputs": []
    },
    {
      "cell_type": "code",
      "metadata": {
        "colab": {
          "base_uri": "https://localhost:8080/"
        },
        "id": "6e3xLkeFCJ8l",
        "outputId": "e9fdf659-36cd-492e-c763-e6f9a9f55ff7"
      },
      "source": [
        "diffeq = Eq(y(x).diff(x, 2) + y(x).diff(x), sin(x))\n",
        "increase_font()\n",
        "display(diffeq)"
      ],
      "execution_count": null,
      "outputs": [
        {
          "output_type": "display_data",
          "data": {
            "application/javascript": [
              "for (rule of document.styleSheets[0].cssRules){if (rule.selectorText=='body') {rule.style.fontSize = '20px';break}}"
            ],
            "text/plain": [
              "<IPython.core.display.Javascript object>"
            ]
          },
          "metadata": {}
        },
        {
          "output_type": "display_data",
          "data": {
            "text/latex": "$\\displaystyle \\frac{d}{d x} y{\\left(x \\right)} + \\frac{d^{2}}{d x^{2}} y{\\left(x \\right)} = \\sin{\\left(x \\right)}$",
            "text/plain": [
              "Eq(Derivative(y(x), x) + Derivative(y(x), (x, 2)), sin(x))"
            ]
          },
          "metadata": {}
        }
      ]
    },
    {
      "cell_type": "code",
      "metadata": {
        "colab": {
          "base_uri": "https://localhost:8080/"
        },
        "id": "FDerTsRuCKIN",
        "outputId": "1c6c3109-2571-4541-c4ae-02e4b37e94d3"
      },
      "source": [
        "gensol = dsolve(diffeq, y(x))\n",
        "increase_font()\n",
        "display(gensol)"
      ],
      "execution_count": null,
      "outputs": [
        {
          "output_type": "display_data",
          "data": {
            "application/javascript": [
              "for (rule of document.styleSheets[0].cssRules){if (rule.selectorText=='body') {rule.style.fontSize = '20px';break}}"
            ],
            "text/plain": [
              "<IPython.core.display.Javascript object>"
            ]
          },
          "metadata": {}
        },
        {
          "output_type": "display_data",
          "data": {
            "text/latex": "$\\displaystyle y{\\left(x \\right)} = C_{1} + C_{2} e^{- x} - \\frac{\\sin{\\left(x \\right)}}{2} - \\frac{\\cos{\\left(x \\right)}}{2}$",
            "text/plain": [
              "Eq(y(x), C1 + C2*exp(-x) - sin(x)/2 - cos(x)/2)"
            ]
          },
          "metadata": {}
        }
      ]
    },
    {
      "cell_type": "markdown",
      "metadata": {
        "id": "gIzDBNeHB7Df"
      },
      "source": [
        "### MUC Example 2.3:\n",
        "<img src=\"data:image/png;base64,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\" alt=\"muc-2-3\" height=30 />"
      ]
    },
    {
      "cell_type": "code",
      "metadata": {
        "id": "ZbmnLmPoCKhJ"
      },
      "source": [
        "x = symbols('x')\n",
        "y = Function('y')"
      ],
      "execution_count": null,
      "outputs": []
    },
    {
      "cell_type": "code",
      "metadata": {
        "colab": {
          "base_uri": "https://localhost:8080/"
        },
        "id": "arnryAqCCKwz",
        "outputId": "f5fb3cc6-4edc-4213-fbc2-16b9144f88d3"
      },
      "source": [
        "diffeq = Eq(y(x).diff(x, 2) - 3*y(x).diff(x) - 4*y(x), 2*E**(-x) + cos(x))\n",
        "increase_font()\n",
        "display(diffeq)"
      ],
      "execution_count": null,
      "outputs": [
        {
          "output_type": "display_data",
          "data": {
            "application/javascript": [
              "for (rule of document.styleSheets[0].cssRules){if (rule.selectorText=='body') {rule.style.fontSize = '20px';break}}"
            ],
            "text/plain": [
              "<IPython.core.display.Javascript object>"
            ]
          },
          "metadata": {}
        },
        {
          "output_type": "display_data",
          "data": {
            "text/latex": "$\\displaystyle - 4 y{\\left(x \\right)} - 3 \\frac{d}{d x} y{\\left(x \\right)} + \\frac{d^{2}}{d x^{2}} y{\\left(x \\right)} = \\cos{\\left(x \\right)} + 2 e^{- x}$",
            "text/plain": [
              "Eq(-4*y(x) - 3*Derivative(y(x), x) + Derivative(y(x), (x, 2)), cos(x) + 2*exp(-x))"
            ]
          },
          "metadata": {}
        }
      ]
    },
    {
      "cell_type": "code",
      "metadata": {
        "colab": {
          "base_uri": "https://localhost:8080/"
        },
        "id": "OKxcvSKhCK-5",
        "outputId": "dea4c069-c0cc-47db-d9ea-c86d4bd19908"
      },
      "source": [
        "gensol = expand(dsolve(diffeq, y(x)))\n",
        "increase_font()\n",
        "display(gensol)"
      ],
      "execution_count": null,
      "outputs": [
        {
          "output_type": "display_data",
          "data": {
            "application/javascript": [
              "for (rule of document.styleSheets[0].cssRules){if (rule.selectorText=='body') {rule.style.fontSize = '20px';break}}"
            ],
            "text/plain": [
              "<IPython.core.display.Javascript object>"
            ]
          },
          "metadata": {}
        },
        {
          "output_type": "display_data",
          "data": {
            "text/latex": "$\\displaystyle y{\\left(x \\right)} = C_{1} e^{- x} + C_{2} e^{4 x} - \\frac{2 x e^{- x}}{5} - \\frac{3 \\sin{\\left(x \\right)}}{34} - \\frac{5 \\cos{\\left(x \\right)}}{34}$",
            "text/plain": [
              "Eq(y(x), C1*exp(-x) + C2*exp(4*x) - 2*x*exp(-x)/5 - 3*sin(x)/34 - 5*cos(x)/34)"
            ]
          },
          "metadata": {}
        }
      ]
    },
    {
      "cell_type": "markdown",
      "metadata": {
        "id": "Jt95jX3RB75T"
      },
      "source": [
        "### MUC Example 2.4:\n",
        "<img src=\"data:image/png;base64,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\" alt=\"muc-2-4\" height=30 />"
      ]
    },
    {
      "cell_type": "code",
      "metadata": {
        "id": "MtO97IdjCLeg"
      },
      "source": [
        "x = symbols('x')\n",
        "y = Function('y')"
      ],
      "execution_count": null,
      "outputs": []
    },
    {
      "cell_type": "code",
      "metadata": {
        "colab": {
          "base_uri": "https://localhost:8080/"
        },
        "id": "V1d9Eh7qCLr3",
        "outputId": "485908c5-df27-4ab9-d25f-28311ef620f2"
      },
      "source": [
        "diffeq = Eq(y(x).diff(x, 2) + 4*y(x), 5*E**x - 4*x)\n",
        "increase_font()\n",
        "display(diffeq)"
      ],
      "execution_count": null,
      "outputs": [
        {
          "output_type": "display_data",
          "data": {
            "application/javascript": [
              "for (rule of document.styleSheets[0].cssRules){if (rule.selectorText=='body') {rule.style.fontSize = '20px';break}}"
            ],
            "text/plain": [
              "<IPython.core.display.Javascript object>"
            ]
          },
          "metadata": {}
        },
        {
          "output_type": "display_data",
          "data": {
            "text/latex": "$\\displaystyle 4 y{\\left(x \\right)} + \\frac{d^{2}}{d x^{2}} y{\\left(x \\right)} = - 4 x + 5 e^{x}$",
            "text/plain": [
              "Eq(4*y(x) + Derivative(y(x), (x, 2)), -4*x + 5*exp(x))"
            ]
          },
          "metadata": {}
        }
      ]
    },
    {
      "cell_type": "code",
      "metadata": {
        "colab": {
          "base_uri": "https://localhost:8080/"
        },
        "id": "akr3ap3yCMH3",
        "outputId": "42d6a614-0925-4c47-af91-19a932db3002"
      },
      "source": [
        "gensol = dsolve(diffeq, y(x))\n",
        "increase_font()\n",
        "display(gensol)"
      ],
      "execution_count": null,
      "outputs": [
        {
          "output_type": "display_data",
          "data": {
            "application/javascript": [
              "for (rule of document.styleSheets[0].cssRules){if (rule.selectorText=='body') {rule.style.fontSize = '20px';break}}"
            ],
            "text/plain": [
              "<IPython.core.display.Javascript object>"
            ]
          },
          "metadata": {}
        },
        {
          "output_type": "display_data",
          "data": {
            "text/latex": "$\\displaystyle y{\\left(x \\right)} = C_{1} \\sin{\\left(2 x \\right)} + C_{2} \\cos{\\left(2 x \\right)} - x + e^{x}$",
            "text/plain": [
              "Eq(y(x), C1*sin(2*x) + C2*cos(2*x) - x + exp(x))"
            ]
          },
          "metadata": {}
        }
      ]
    },
    {
      "cell_type": "markdown",
      "metadata": {
        "id": "sxut2SAZA2pY"
      },
      "source": [
        "## Method of Variation of Parameters (MVP)"
      ]
    },
    {
      "cell_type": "markdown",
      "metadata": {
        "id": "VvBh9I45OPWW"
      },
      "source": [
        "### MVP Example 1.1:\n",
        "<img src=\"data:image/png;base64,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\" alt=\"mvp-1-1\" height=30 />"
      ]
    },
    {
      "cell_type": "code",
      "metadata": {
        "id": "iylhUg44OP3Q"
      },
      "source": [
        "x = symbols('x')\n",
        "y = Function('y')"
      ],
      "execution_count": null,
      "outputs": []
    },
    {
      "cell_type": "code",
      "metadata": {
        "colab": {
          "base_uri": "https://localhost:8080/"
        },
        "id": "H3FGkg-bOQDv",
        "outputId": "708be285-1cbd-4e65-b03e-171dbb2f4b27"
      },
      "source": [
        "diffeq = Eq(y(x).diff(x, 2) + 1*y(x), sec(x))\n",
        "increase_font()\n",
        "display(diffeq)"
      ],
      "execution_count": null,
      "outputs": [
        {
          "output_type": "display_data",
          "data": {
            "application/javascript": [
              "for (rule of document.styleSheets[0].cssRules){if (rule.selectorText=='body') {rule.style.fontSize = '20px';break}}"
            ],
            "text/plain": [
              "<IPython.core.display.Javascript object>"
            ]
          },
          "metadata": {}
        },
        {
          "output_type": "display_data",
          "data": {
            "text/latex": "$\\displaystyle y{\\left(x \\right)} + \\frac{d^{2}}{d x^{2}} y{\\left(x \\right)} = \\sec{\\left(x \\right)}$",
            "text/plain": [
              "Eq(y(x) + Derivative(y(x), (x, 2)), sec(x))"
            ]
          },
          "metadata": {}
        }
      ]
    },
    {
      "cell_type": "code",
      "metadata": {
        "colab": {
          "base_uri": "https://localhost:8080/"
        },
        "id": "aijF7qktBA8Y",
        "outputId": "aeb24286-7bbb-4fd2-cc75-9e22a59136d8"
      },
      "source": [
        "classify_ode(diffeq, y(x))"
      ],
      "execution_count": null,
      "outputs": [
        {
          "output_type": "execute_result",
          "data": {
            "text/plain": [
              "('nth_linear_constant_coeff_variation_of_parameters',\n",
              " 'nth_linear_constant_coeff_variation_of_parameters_Integral')"
            ]
          },
          "metadata": {},
          "execution_count": 196
        }
      ]
    },
    {
      "cell_type": "code",
      "metadata": {
        "colab": {
          "base_uri": "https://localhost:8080/"
        },
        "id": "5o9eMCcOOQdw",
        "outputId": "5e61a9f9-b8f7-4005-a488-053b27642968"
      },
      "source": [
        "gensol = expand(dsolve(diffeq, y(x)))\n",
        "increase_font()\n",
        "display(gensol)"
      ],
      "execution_count": null,
      "outputs": [
        {
          "output_type": "display_data",
          "data": {
            "application/javascript": [
              "for (rule of document.styleSheets[0].cssRules){if (rule.selectorText=='body') {rule.style.fontSize = '20px';break}}"
            ],
            "text/plain": [
              "<IPython.core.display.Javascript object>"
            ]
          },
          "metadata": {}
        },
        {
          "output_type": "display_data",
          "data": {
            "text/latex": "$\\displaystyle y{\\left(x \\right)} = C_{1} \\sin{\\left(x \\right)} + C_{2} \\cos{\\left(x \\right)} + x \\sin{\\left(x \\right)} + \\log{\\left(\\cos{\\left(x \\right)} \\right)} \\cos{\\left(x \\right)}$",
            "text/plain": [
              "Eq(y(x), C1*sin(x) + C2*cos(x) + x*sin(x) + log(cos(x))*cos(x))"
            ]
          },
          "metadata": {}
        }
      ]
    },
    {
      "cell_type": "markdown",
      "metadata": {
        "id": "UJmR5JPXA24K"
      },
      "source": [
        "### MVP Example 2.1:\n",
        "<img src=\"data:image/png;base64,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\" alt=\"mvp-2-1\" height=30 />"
      ]
    },
    {
      "cell_type": "code",
      "metadata": {
        "id": "cCE7GLpLBAjF"
      },
      "source": [
        "x = symbols('x')\n",
        "y = Function('y')"
      ],
      "execution_count": null,
      "outputs": []
    },
    {
      "cell_type": "code",
      "metadata": {
        "colab": {
          "base_uri": "https://localhost:8080/"
        },
        "id": "qtsfuyjWBAwh",
        "outputId": "3018bf04-1768-40ef-8b0d-2a71e9febd53"
      },
      "source": [
        "diffeq = Eq(y(x).diff(x, 2) + 1*y(x), csc(x))\n",
        "increase_font()\n",
        "display(diffeq)"
      ],
      "execution_count": null,
      "outputs": [
        {
          "output_type": "display_data",
          "data": {
            "application/javascript": [
              "for (rule of document.styleSheets[0].cssRules){if (rule.selectorText=='body') {rule.style.fontSize = '20px';break}}"
            ],
            "text/plain": [
              "<IPython.core.display.Javascript object>"
            ]
          },
          "metadata": {}
        },
        {
          "output_type": "display_data",
          "data": {
            "text/latex": "$\\displaystyle y{\\left(x \\right)} + \\frac{d^{2}}{d x^{2}} y{\\left(x \\right)} = \\csc{\\left(x \\right)}$",
            "text/plain": [
              "Eq(y(x) + Derivative(y(x), (x, 2)), csc(x))"
            ]
          },
          "metadata": {}
        }
      ]
    },
    {
      "cell_type": "code",
      "metadata": {
        "colab": {
          "base_uri": "https://localhost:8080/"
        },
        "id": "NNuAyOZQBBHI",
        "outputId": "817b9c8e-7ed5-463a-8efd-691ead36eada"
      },
      "source": [
        "gensol = expand(dsolve(diffeq, y(x)))\n",
        "increase_font()\n",
        "display(gensol)"
      ],
      "execution_count": null,
      "outputs": [
        {
          "output_type": "display_data",
          "data": {
            "application/javascript": [
              "for (rule of document.styleSheets[0].cssRules){if (rule.selectorText=='body') {rule.style.fontSize = '20px';break}}"
            ],
            "text/plain": [
              "<IPython.core.display.Javascript object>"
            ]
          },
          "metadata": {}
        },
        {
          "output_type": "display_data",
          "data": {
            "text/latex": "$\\displaystyle y{\\left(x \\right)} = C_{1} \\cos{\\left(x \\right)} + C_{2} \\sin{\\left(x \\right)} - x \\cos{\\left(x \\right)} + \\log{\\left(\\sin{\\left(x \\right)} \\right)} \\sin{\\left(x \\right)}$",
            "text/plain": [
              "Eq(y(x), C1*cos(x) + C2*sin(x) - x*cos(x) + log(sin(x))*sin(x))"
            ]
          },
          "metadata": {}
        }
      ]
    },
    {
      "cell_type": "markdown",
      "metadata": {
        "id": "VOuWqQdlCM7m"
      },
      "source": [
        "### MVP Example 2.2:\n",
        "<img src=\"data:image/png;base64,iVBORw0KGgoAAAANSUhEUgAAATMAAAAwCAYAAAB9u51EAAAAAXNSR0IArs4c6QAAAARnQU1BAACxjwv8YQUAAAAJcEhZcwAADsMAAA7DAcdvqGQAAAy+SURBVHhe7Z3Hi9ZOGMejf4H68yjiqjcPurJ6sl509SA2dBWRFcUKFhArNiysguhBXSsqWMEKdg9rQ+wFFC+2u90/wP3lMzvz+mxM8ubtZZ8PzO4kmeRNMpPvzDzzZNKp1cdTFEWpcDrb/4qiKBWNipmiKFWBipmiKFVBVYjZtWvXvB07dnj19fVe3759vU6dOqUC6w4cOOB9+/bNplYUpRqp+AGAMWPGeDdu3DDxuro6b9euXd6QIUOMeJ07d86bP39+atv169e97t27m2VFUaqLnFtmP3/+9DZt2uQtW7bMrikNXbt2NaKGkMF///3nzZs3z9u+fbtZfvbsmRE6JRmXLl0yeXrnzh27RlHKm6zFDBGjsNfU1HgbN270jh07ZtaVin379hkBCzJ58mTT3YTnz5+b/0p6yMvdu3d7I0eO9Gpra03+KkpZQzczU44ePdrqt4TonrZ26dKl1W/xtP748cNuLT98MTPnyjkryXn58mVrY2OjuXeEESNGlHU+Kx2bjMXMb4WlCvf48eMjC7dLkyTU1dW1jh49utXvEra+evXKHiE/cDwnZvxGR+Xr16+tCxYsMPfh3r17dm0yWlpaUvewV69eRuQUpdzISMxogblCvXTpUrs2HB4exIm0MiAoMrgWngx9+vRpPX36tD1SbrgHmNDc3GzXdiz279/f7j6/f//ebkkOAkYrnP35ry00pdxILGZ0Ld3DQIvs+/fvdks8gwYNSu1HCOPDhw/mgUPEZFrEDlHMlvv376eORevvz58/dkvHgOvnuuU9JWR7HxA0d4wBAwbYtYpSHiQSM2phWSsnFTJoaGhIPQCEOGRXyAUexmwEje6la43w/8uXL3ZL9RN2H2XIRdRpkbvj0FJXcof8UlNI7iQSM1mAN2zYYNcmI9jVTELwQcw0gykcrpWHkJXCxiNbhdyDYiG7lFQEa9asadfFJOQiZlRs2M3csT59+mS3KNlCWVExy520rhmfP39ODcv7rTJvyZIlJl5IcLPwxcgued7Nmze9M2fO2KV4cJbF69/vuhrfs5aWFs/vEtmt1Q0OxDgJd+vWzbt69ar39OlTb+vWrd6qVatsitwJlgF8DJXcePv2rY0puZBWzI4fP57yH2tsbDSFuRhs2bLFxtrYuXOnjUXjhAwHWSdk/fv3t1urn/Hjx3t+S8x7/PixN3bsWLs2/1AOHDjXltK/sBp4/fo1XRa7pGRLWjGTzpLDhw9POaAWmoaGBiNIDgSKTI+iowsZ8MYDLbEw5+F8QoU2YsQIE0fI1KE2ez5+/Ji416HEEytmvMpCNxMowNT8xQRBkzx69MjG/mXRokUdWsiKjRMzuHv3ro39hRf/qfiiwv37923Kv4SlcyEsfaXDBAmjRo3yfvz4Yde0mVTCrp8QBcdZu3atqcxl+kGDBpl8iJtkQaaX+8mWImLLOredyRzSHTeKzp07t/stGTh/SVwZCsVYziJgtIokBLy/syGbAQAHxmy5LwMDYch0UU63V69eNUZWjK3FoFQDAGEE8yAfLioXL15MHc+v6Ozav5APGLPl7xIYlIjKozD3HL9yMuefzYh2ORPMkyRBwv3gGNwft537TZDrCNzzqNF83KKC58IxKCP8xtSpU9ttkyHuuFHwe+wXdqzgs0na4O9zbVE+qLHqgj+ZO0g6J9kogjcqE6QgEMJGerhgt52HIQwyxfm7FYtqFzNGNeUxo0aMg+JEpRIHQifTR+VpNSFFP6yMB+EeduvWLbUPQsBz4KC8Bz0CohoCDikanAMi5USHPGRdMC8JTU1N9gjJ4fyCghbVyJDPEfuwbxSx3Uy/YNmYV7bdNrqXDkbygs1RAtP+MLKn5A/MDnIwKGp2jeBAzu/fv20sHFnO/AfI2AFzIaw85DOUgjdv3njfv383ccwqzBbTu3dvswzYTPEI8B9+u6atqxjHwIEDbazN/szIuC+Qpnv//v178xv89ysXm6qNQ4cO0UKwS8ng/M6ePdvOJv7w4UMba48b6cW7gXOIswfHipmzl4EsuMXCTefjwJ4QJGydUhx69eplY57369cvG2tPcCDn3r17NhYO9h/H4sWLbUyJgvsb9YDPmTMnJbjY5ZLauLA9I2TYnoPPIJWL34qzS55Jl43tDPE9ceKEXfK8lStX/jPAx/Lq1atN+Tl//nzaga1IMZNCBqUQsyDyoXD4XSZTMyQNSv6QZYLyEnV//S6OjaVvIVy5csX8pybOh3tJMP/zHUrN9OnTbexf+vXrZ2NtvHv3zsbSc/ny5cjeWHAgMJPjSshfWTYmTZqUEkb+M30XIozoJekZRopZ0HeoFGIWVPzBgwfbmFJuxPmaTZkyxcbaWghRgkZ+Nzc3m3iwe6r8ZcWKFSkxDbac8gGNhrjj9ujRw8ZyZ/PmzSkHeVp569atM9c1Y8aMVLc2aaUW280sNdkqfiEJDn9HhaFDh9o92prQYWnCwoMHD+xe5U/SCo5aVdpvcLQNa9UcOXLE/OdhCrrlKMWjmI0Guo50IR1UZm4qfFptmdhMy1rMgkgjp1JZYL9xYPwNs7McPHjQ/M/n61dK+UNlt91Obw/Ywan89u7da9ckI1LMgrVuKV5ZCb6zJg3OpYIawzXx4wKjQA4yKixNWChEt6FQyDKRrpWG/UNy+/ZtG2uDrifdDFpls2fPtmuVJLi3CJzjrOs90DugTFUCdJ1l6x3CKrw4ylrMgqMbDNUr5UMmYkZ3Qo6C8c6vfNDcK1Fxo3NKexAwPPOxOU2bNs3btm1bSgCoQKVxvdzBvMIoqoN4ph8gihUzWUCDo5vFQBqKybAkIxpK8ZBiRt7QGohj5syZNtbWlaBFAVRazsVm+fLl5n++kPbIQoRSgGBh10LAeOip5JklhcoBf0p6D7R0GOks1TlmAtczbtw40yqX3U3EWbrqpCPWZpbEj6hQcBHynbW5c+famFIOIGSZ+iEyKiXda1xXk480Ay0JtYumh5E+5wTOPUO8CjlLSqGhW8yzjqMvIkx32cG1ukovHbFiJl8mlm8DFIMNGzbYWNvoltpRyotgSz3pnHGy68Po5devX1PuGHE+U9nibJGFCvlACjjuCHHQHZOO4rg2VDILFy40rUvKhRvB5hOWdJ8BkSNNEmLFjCl/HMX8GCxvy8v+c9Q3MZXSIcsDQpZ0cEZWSuTx+vXrTZyuUiUNfuQTee8YBAlriTiTC6/9SBGNey727NmTN8EtBFwTFRmGfynKXBOvSbkuMuKNJqQjccss2K1IysuXL20sGZw0flkOqdhKdgRNBPnwZZPT/shykg5aIXLUyrXK5ISPHY2ePXu2s20xUCJH8uiGYx/j4Q+mjcpLWjO3bt1q161PypMnT2yscGAn5Zrg8OHD/4gyNtimpia71Oarmbbc+sodi5w5I5sPWLjZKlwIgzfhmdajT+Ct/EqeMaFcZs1gFgq/QLe7r34FkdfvALS0tNgtySCv/QcytT/53pGh/MtZMAjkmZypwq8ATDq/5dbu3pGO8kV5I/DMsA/ryfv6+vpU2rjPNwan2omb2odZO2TaU6dO2S3JkGWSa4yCa5W/464pirRiJj8xRwFO+hBw47nJ8mQInLwMQQFzaeJOuhIolZjxWwQ+ZMJ9lPdVBu47Bdil53yTIucyy+aTc5QN+UDm6xuplUxQ4GVwQuaIS0sgPUIAUswQg7B8RgDl/gQqPHcMCc8lx5dpKUtJyw/n7oSMQDzsd4ByKX/HpY/6rbRiBrIWfvHihV0bjzyBuMDJ8dBx87ipURdWaZRKzOS9zSRkco5M1On2o7LLBr8bZPYn/+WD2pGhxSNbSIhEVL5QvkgrhYHlYMUQJnrymGGCIYNElumwkK4MsX+UCAcFSopwWAimh0RiFqyJ8zG5X7UjMz4ToSh3ZFnIdvZhcIU1m8n9FCWMTvzxC1VaJkyYYF4QhgsXLphlpWPBINDIkSONmw5+Zb6wZWT8d2DIHTZsGBWp9+XLFzN5pqLkSuxopsTvTqR8iSZOnJjxKKVS2SBks2bNSvkb4geYjZABfkQIGSPV6nKj5A1aZklhFKumpsZ0D/yaOeNRLKUyId99IUt1L7P9HgQ4Gw22nkw/hqEocWQkZkDBrq2tzUvBVsofKiyX31RgSd1zMEQzsCMN0sRduWlubrZrFSU/ZCxmDvkZOgq5ilp1wdeW5Kgl8agvMIUhR8kQNTmcz7IOIin5JrHNLIgvXua9KTdNRzFfd1IKD7YxAnYxPmxBSPr+ZRBeR3Gvp/mi5p08ebIiZnNQKovEo5np4FWnpO/nKZUBRv8ks2GEwas3vFJDhQeIGLPN5vrpOEWJIm9ipiiKUkqy7mYqiqKUEypmiqJUBSpmiqJUAZ73Pxu9sVlB/+fIAAAAAElFTkSuQmCC\" alt=\"mvp-2-2\" height=30 />"
      ]
    },
    {
      "cell_type": "code",
      "metadata": {
        "id": "pYooNvDDCNQ7"
      },
      "source": [
        "x = symbols('x')\n",
        "y = Function('y')"
      ],
      "execution_count": null,
      "outputs": []
    },
    {
      "cell_type": "code",
      "metadata": {
        "colab": {
          "base_uri": "https://localhost:8080/"
        },
        "id": "Dk94MVKkCNgO",
        "outputId": "90596bb1-3332-479b-9749-d43ec3c97c64"
      },
      "source": [
        "diffeq = Eq(y(x).diff(x, 2) + 1*y(x), tan(x))\n",
        "increase_font()\n",
        "display(diffeq)"
      ],
      "execution_count": null,
      "outputs": [
        {
          "output_type": "display_data",
          "data": {
            "application/javascript": [
              "for (rule of document.styleSheets[0].cssRules){if (rule.selectorText=='body') {rule.style.fontSize = '20px';break}}"
            ],
            "text/plain": [
              "<IPython.core.display.Javascript object>"
            ]
          },
          "metadata": {}
        },
        {
          "output_type": "display_data",
          "data": {
            "text/latex": "$\\displaystyle y{\\left(x \\right)} + \\frac{d^{2}}{d x^{2}} y{\\left(x \\right)} = \\tan{\\left(x \\right)}$",
            "text/plain": [
              "Eq(y(x) + Derivative(y(x), (x, 2)), tan(x))"
            ]
          },
          "metadata": {}
        }
      ]
    },
    {
      "cell_type": "code",
      "metadata": {
        "colab": {
          "base_uri": "https://localhost:8080/"
        },
        "id": "kD3cn_SmCNxS",
        "outputId": "dbd84b1f-af0f-4657-8e11-48f5ac79afdd"
      },
      "source": [
        "gensol = expand(dsolve(diffeq, y(x)))\n",
        "increase_font()\n",
        "display(gensol)"
      ],
      "execution_count": null,
      "outputs": [
        {
          "output_type": "display_data",
          "data": {
            "application/javascript": [
              "for (rule of document.styleSheets[0].cssRules){if (rule.selectorText=='body') {rule.style.fontSize = '20px';break}}"
            ],
            "text/plain": [
              "<IPython.core.display.Javascript object>"
            ]
          },
          "metadata": {}
        },
        {
          "output_type": "display_data",
          "data": {
            "text/latex": "$\\displaystyle y{\\left(x \\right)} = C_{1} \\cos{\\left(x \\right)} + C_{2} \\sin{\\left(x \\right)} + \\frac{\\log{\\left(\\sin{\\left(x \\right)} - 1 \\right)} \\cos{\\left(x \\right)}}{2} - \\frac{\\log{\\left(\\sin{\\left(x \\right)} + 1 \\right)} \\cos{\\left(x \\right)}}{2}$",
            "text/plain": [
              "Eq(y(x), C1*cos(x) + C2*sin(x) + log(sin(x) - 1)*cos(x)/2 - log(sin(x) + 1)*cos(x)/2)"
            ]
          },
          "metadata": {}
        }
      ]
    },
    {
      "cell_type": "markdown",
      "metadata": {
        "id": "RPcCgKXeCYy5"
      },
      "source": [
        "### MVP Example 2.3:\n",
        "<img src=\"data:image/png;base64,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\" alt=\"mvp-2-3\" height=30 />"
      ]
    },
    {
      "cell_type": "code",
      "metadata": {
        "id": "U9AjtnweCY_t"
      },
      "source": [
        "x = symbols('x')\n",
        "y = Function('y')"
      ],
      "execution_count": null,
      "outputs": []
    },
    {
      "cell_type": "code",
      "metadata": {
        "colab": {
          "base_uri": "https://localhost:8080/"
        },
        "id": "VFGC5LWVCZL1",
        "outputId": "fef822ea-2a38-43bb-d0d1-a4300ddeeede"
      },
      "source": [
        "diffeq = Eq(y(x).diff(x, 2) + 1*y(x), sec(x)*csc(x))\n",
        "increase_font()\n",
        "display(diffeq)"
      ],
      "execution_count": null,
      "outputs": [
        {
          "output_type": "display_data",
          "data": {
            "application/javascript": [
              "for (rule of document.styleSheets[0].cssRules){if (rule.selectorText=='body') {rule.style.fontSize = '20px';break}}"
            ],
            "text/plain": [
              "<IPython.core.display.Javascript object>"
            ]
          },
          "metadata": {}
        },
        {
          "output_type": "display_data",
          "data": {
            "text/latex": "$\\displaystyle y{\\left(x \\right)} + \\frac{d^{2}}{d x^{2}} y{\\left(x \\right)} = \\csc{\\left(x \\right)} \\sec{\\left(x \\right)}$",
            "text/plain": [
              "Eq(y(x) + Derivative(y(x), (x, 2)), csc(x)*sec(x))"
            ]
          },
          "metadata": {}
        }
      ]
    },
    {
      "cell_type": "code",
      "metadata": {
        "colab": {
          "base_uri": "https://localhost:8080/"
        },
        "id": "OQE9WJVKCZat",
        "outputId": "404b9a40-975a-4592-db24-971a9dc31d17"
      },
      "source": [
        "gensol = expand(dsolve(diffeq, y(x)))\n",
        "increase_font()\n",
        "display(gensol)"
      ],
      "execution_count": null,
      "outputs": [
        {
          "output_type": "display_data",
          "data": {
            "application/javascript": [
              "for (rule of document.styleSheets[0].cssRules){if (rule.selectorText=='body') {rule.style.fontSize = '20px';break}}"
            ],
            "text/plain": [
              "<IPython.core.display.Javascript object>"
            ]
          },
          "metadata": {}
        },
        {
          "output_type": "display_data",
          "data": {
            "text/latex": "$\\displaystyle y{\\left(x \\right)} = C_{1} \\cos{\\left(x \\right)} + C_{2} \\sin{\\left(x \\right)} + \\frac{\\log{\\left(\\sin{\\left(x \\right)} - 1 \\right)} \\cos{\\left(x \\right)}}{2} - \\frac{\\log{\\left(\\sin{\\left(x \\right)} + 1 \\right)} \\cos{\\left(x \\right)}}{2} + \\frac{\\log{\\left(\\cos{\\left(x \\right)} - 1 \\right)} \\sin{\\left(x \\right)}}{2} - \\frac{\\log{\\left(\\cos{\\left(x \\right)} + 1 \\right)} \\sin{\\left(x \\right)}}{2}$",
            "text/plain": [
              "Eq(y(x), C1*cos(x) + C2*sin(x) + log(sin(x) - 1)*cos(x)/2 - log(sin(x) + 1)*cos(x)/2 + log(cos(x) - 1)*sin(x)/2 - log(cos(x) + 1)*sin(x)/2)"
            ]
          },
          "metadata": {}
        }
      ]
    }
  ]
}